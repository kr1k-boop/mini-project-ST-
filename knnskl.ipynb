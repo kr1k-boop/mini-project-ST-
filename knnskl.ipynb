{
  "nbformat": 4,
  "nbformat_minor": 0,
  "metadata": {
    "colab": {
      "name": "knnskl.ipynb",
      "provenance": [],
      "authorship_tag": "ABX9TyMs2KdBpodsP0utok7mR3aW",
      "include_colab_link": true
    },
    "kernelspec": {
      "name": "python3",
      "display_name": "Python 3"
    },
    "accelerator": "GPU"
  },
  "cells": [
    {
      "cell_type": "markdown",
      "metadata": {
        "id": "view-in-github",
        "colab_type": "text"
      },
      "source": [
        "<a href=\"https://colab.research.google.com/github/kr1k-boop/mini-project-ST-/blob/main/knnskl.ipynb\" target=\"_parent\"><img src=\"https://colab.research.google.com/assets/colab-badge.svg\" alt=\"Open In Colab\"/></a>"
      ]
    },
    {
      "cell_type": "code",
      "metadata": {
        "id": "3AFtdxuPvRk5"
      },
      "source": [
        "import pandas as pd\n",
        "import numpy as np\n",
        "from sklearn.preprocessing import LabelEncoder\n",
        "from sklearn.model_selection import train_test_split\n",
        "from sklearn.neighbors import NearestNeighbors"
      ],
      "execution_count": 1,
      "outputs": []
    },
    {
      "cell_type": "code",
      "metadata": {
        "colab": {
          "base_uri": "https://localhost:8080/"
        },
        "id": "GxwPEgVFv8Ke",
        "outputId": "cd2afb16-b639-4a8f-932a-e8e67d303094"
      },
      "source": [
        "from google.colab import drive\n",
        "drive.mount('/content/drive')"
      ],
      "execution_count": 2,
      "outputs": [
        {
          "output_type": "stream",
          "text": [
            "Mounted at /content/drive\n"
          ],
          "name": "stdout"
        }
      ]
    },
    {
      "cell_type": "code",
      "metadata": {
        "id": "LQNRCG6_wHGH"
      },
      "source": [
        "df= pd.read_csv('/content/drive/MyDrive/finale (2).csv')"
      ],
      "execution_count": 3,
      "outputs": []
    },
    {
      "cell_type": "code",
      "metadata": {
        "colab": {
          "base_uri": "https://localhost:8080/",
          "height": 517
        },
        "id": "pXs7O8xmwMNX",
        "outputId": "fcaa8a76-ce61-4f44-da11-5994fee870e3"
      },
      "source": [
        "df.head()"
      ],
      "execution_count": 4,
      "outputs": [
        {
          "output_type": "execute_result",
          "data": {
            "text/html": [
              "<div>\n",
              "<style scoped>\n",
              "    .dataframe tbody tr th:only-of-type {\n",
              "        vertical-align: middle;\n",
              "    }\n",
              "\n",
              "    .dataframe tbody tr th {\n",
              "        vertical-align: top;\n",
              "    }\n",
              "\n",
              "    .dataframe thead th {\n",
              "        text-align: right;\n",
              "    }\n",
              "</style>\n",
              "<table border=\"1\" class=\"dataframe\">\n",
              "  <thead>\n",
              "    <tr style=\"text-align: right;\">\n",
              "      <th></th>\n",
              "      <th>Unnamed: 0</th>\n",
              "      <th>acousticness</th>\n",
              "      <th>name</th>\n",
              "      <th>danceability</th>\n",
              "      <th>tempo</th>\n",
              "      <th>loudness</th>\n",
              "      <th>energy</th>\n",
              "      <th>id</th>\n",
              "      <th>instrumentalness</th>\n",
              "      <th>key</th>\n",
              "      <th>liveness</th>\n",
              "      <th>popularity</th>\n",
              "      <th>speechiness</th>\n",
              "      <th>valence</th>\n",
              "      <th>year</th>\n",
              "      <th>userid</th>\n",
              "      <th>playcount</th>\n",
              "    </tr>\n",
              "  </thead>\n",
              "  <tbody>\n",
              "    <tr>\n",
              "      <th>0</th>\n",
              "      <td>0</td>\n",
              "      <td>0.995</td>\n",
              "      <td>Singende Bataillone 1. Teil Carl Woitschach</td>\n",
              "      <td>0.708</td>\n",
              "      <td>0.002377</td>\n",
              "      <td>-0.002373</td>\n",
              "      <td>0.1950</td>\n",
              "      <td>6KbQ3uYMLKb5jDxLF7wYDD</td>\n",
              "      <td>0.563</td>\n",
              "      <td>10.0</td>\n",
              "      <td>0.1510</td>\n",
              "      <td>0.0</td>\n",
              "      <td>0.0506</td>\n",
              "      <td>0.7790</td>\n",
              "      <td>1928.0</td>\n",
              "      <td>109679.0</td>\n",
              "      <td>5.0</td>\n",
              "    </tr>\n",
              "    <tr>\n",
              "      <th>1</th>\n",
              "      <td>1</td>\n",
              "      <td>0.994</td>\n",
              "      <td>Fantasiestücke, Op. 111: Più tosto lento Rober...</td>\n",
              "      <td>0.379</td>\n",
              "      <td>0.001685</td>\n",
              "      <td>-0.005434</td>\n",
              "      <td>0.0135</td>\n",
              "      <td>6KuQTIu1KoTTkLXKrwlLPV</td>\n",
              "      <td>0.901</td>\n",
              "      <td>8.0</td>\n",
              "      <td>0.0763</td>\n",
              "      <td>0.0</td>\n",
              "      <td>0.0462</td>\n",
              "      <td>0.0767</td>\n",
              "      <td>1928.0</td>\n",
              "      <td>13441.0</td>\n",
              "      <td>7.0</td>\n",
              "    </tr>\n",
              "    <tr>\n",
              "      <th>2</th>\n",
              "      <td>2</td>\n",
              "      <td>0.994</td>\n",
              "      <td>Fantasiestücke, Op. 111: Più tosto lento Rober...</td>\n",
              "      <td>0.379</td>\n",
              "      <td>0.001685</td>\n",
              "      <td>-0.005434</td>\n",
              "      <td>0.0135</td>\n",
              "      <td>2YPbmbRIo7I1r9FAMqNjbZ</td>\n",
              "      <td>0.901</td>\n",
              "      <td>8.0</td>\n",
              "      <td>0.0763</td>\n",
              "      <td>0.0</td>\n",
              "      <td>0.0462</td>\n",
              "      <td>0.0767</td>\n",
              "      <td>1928.0</td>\n",
              "      <td>25637.0</td>\n",
              "      <td>3.0</td>\n",
              "    </tr>\n",
              "    <tr>\n",
              "      <th>3</th>\n",
              "      <td>3</td>\n",
              "      <td>0.604</td>\n",
              "      <td>Chapter 1.18 - Zamek kaniowski Seweryn Goszczy...</td>\n",
              "      <td>0.749</td>\n",
              "      <td>0.002150</td>\n",
              "      <td>-0.003805</td>\n",
              "      <td>0.2200</td>\n",
              "      <td>6L63VW0PibdM1HDSBoqnoM</td>\n",
              "      <td>0.000</td>\n",
              "      <td>5.0</td>\n",
              "      <td>0.1190</td>\n",
              "      <td>0.0</td>\n",
              "      <td>0.9290</td>\n",
              "      <td>0.8800</td>\n",
              "      <td>1928.0</td>\n",
              "      <td>63548.0</td>\n",
              "      <td>7.0</td>\n",
              "    </tr>\n",
              "    <tr>\n",
              "      <th>4</th>\n",
              "      <td>4</td>\n",
              "      <td>0.995</td>\n",
              "      <td>Bebamos Juntos - Instrumental (Remasterizado) ...</td>\n",
              "      <td>0.781</td>\n",
              "      <td>0.002167</td>\n",
              "      <td>-0.002814</td>\n",
              "      <td>0.1300</td>\n",
              "      <td>6M94FkXd15sOAOQYRnWPN8</td>\n",
              "      <td>0.887</td>\n",
              "      <td>1.0</td>\n",
              "      <td>0.1110</td>\n",
              "      <td>0.0</td>\n",
              "      <td>0.0926</td>\n",
              "      <td>0.7200</td>\n",
              "      <td>1928.0</td>\n",
              "      <td>10501.0</td>\n",
              "      <td>8.0</td>\n",
              "    </tr>\n",
              "  </tbody>\n",
              "</table>\n",
              "</div>"
            ],
            "text/plain": [
              "   Unnamed: 0  acousticness  ...    userid  playcount\n",
              "0           0         0.995  ...  109679.0        5.0\n",
              "1           1         0.994  ...   13441.0        7.0\n",
              "2           2         0.994  ...   25637.0        3.0\n",
              "3           3         0.604  ...   63548.0        7.0\n",
              "4           4         0.995  ...   10501.0        8.0\n",
              "\n",
              "[5 rows x 17 columns]"
            ]
          },
          "metadata": {
            "tags": []
          },
          "execution_count": 4
        }
      ]
    },
    {
      "cell_type": "code",
      "metadata": {
        "colab": {
          "base_uri": "https://localhost:8080/"
        },
        "id": "zD-pJ4GXxgid",
        "outputId": "6178e7f9-1a45-4396-d5c0-5bf019c4fc56"
      },
      "source": [
        "df.dtypes"
      ],
      "execution_count": 5,
      "outputs": [
        {
          "output_type": "execute_result",
          "data": {
            "text/plain": [
              "Unnamed: 0            int64\n",
              "acousticness        float64\n",
              "name                 object\n",
              "danceability        float64\n",
              "tempo               float64\n",
              "loudness            float64\n",
              "energy              float64\n",
              "id                   object\n",
              "instrumentalness    float64\n",
              "key                 float64\n",
              "liveness            float64\n",
              "popularity          float64\n",
              "speechiness         float64\n",
              "valence             float64\n",
              "year                float64\n",
              "userid              float64\n",
              "playcount           float64\n",
              "dtype: object"
            ]
          },
          "metadata": {
            "tags": []
          },
          "execution_count": 5
        }
      ]
    },
    {
      "cell_type": "code",
      "metadata": {
        "colab": {
          "base_uri": "https://localhost:8080/",
          "height": 401
        },
        "id": "uT0tWSWBxj_4",
        "outputId": "a181b9f3-3677-470d-aeaa-fc52ea1caea6"
      },
      "source": [
        "df.describe()"
      ],
      "execution_count": 6,
      "outputs": [
        {
          "output_type": "execute_result",
          "data": {
            "text/html": [
              "<div>\n",
              "<style scoped>\n",
              "    .dataframe tbody tr th:only-of-type {\n",
              "        vertical-align: middle;\n",
              "    }\n",
              "\n",
              "    .dataframe tbody tr th {\n",
              "        vertical-align: top;\n",
              "    }\n",
              "\n",
              "    .dataframe thead th {\n",
              "        text-align: right;\n",
              "    }\n",
              "</style>\n",
              "<table border=\"1\" class=\"dataframe\">\n",
              "  <thead>\n",
              "    <tr style=\"text-align: right;\">\n",
              "      <th></th>\n",
              "      <th>Unnamed: 0</th>\n",
              "      <th>acousticness</th>\n",
              "      <th>danceability</th>\n",
              "      <th>tempo</th>\n",
              "      <th>loudness</th>\n",
              "      <th>energy</th>\n",
              "      <th>instrumentalness</th>\n",
              "      <th>key</th>\n",
              "      <th>liveness</th>\n",
              "      <th>popularity</th>\n",
              "      <th>speechiness</th>\n",
              "      <th>valence</th>\n",
              "      <th>year</th>\n",
              "      <th>userid</th>\n",
              "      <th>playcount</th>\n",
              "    </tr>\n",
              "  </thead>\n",
              "  <tbody>\n",
              "    <tr>\n",
              "      <th>count</th>\n",
              "      <td>1.135383e+06</td>\n",
              "      <td>1.135383e+06</td>\n",
              "      <td>1.135383e+06</td>\n",
              "      <td>1.135383e+06</td>\n",
              "      <td>1.135383e+06</td>\n",
              "      <td>1.135383e+06</td>\n",
              "      <td>1.135383e+06</td>\n",
              "      <td>1.135383e+06</td>\n",
              "      <td>1.135383e+06</td>\n",
              "      <td>1.135383e+06</td>\n",
              "      <td>1.135383e+06</td>\n",
              "      <td>1.135383e+06</td>\n",
              "      <td>1.135383e+06</td>\n",
              "      <td>1.135383e+06</td>\n",
              "      <td>1.135383e+06</td>\n",
              "    </tr>\n",
              "    <tr>\n",
              "      <th>mean</th>\n",
              "      <td>3.324539e+05</td>\n",
              "      <td>3.656228e-01</td>\n",
              "      <td>5.564450e-01</td>\n",
              "      <td>2.389023e-03</td>\n",
              "      <td>-1.838428e-03</td>\n",
              "      <td>5.700818e-01</td>\n",
              "      <td>1.160923e-01</td>\n",
              "      <td>5.227812e+00</td>\n",
              "      <td>1.969572e-01</td>\n",
              "      <td>4.124020e+01</td>\n",
              "      <td>8.368191e-02</td>\n",
              "      <td>5.287928e-01</td>\n",
              "      <td>1.986701e+03</td>\n",
              "      <td>5.489920e+04</td>\n",
              "      <td>4.170311e+00</td>\n",
              "    </tr>\n",
              "    <tr>\n",
              "      <th>std</th>\n",
              "      <td>1.994362e+05</td>\n",
              "      <td>3.642513e-01</td>\n",
              "      <td>1.710036e-01</td>\n",
              "      <td>5.968195e-04</td>\n",
              "      <td>1.013417e-03</td>\n",
              "      <td>2.607855e-01</td>\n",
              "      <td>2.661965e-01</td>\n",
              "      <td>3.534076e+00</td>\n",
              "      <td>1.651970e-01</td>\n",
              "      <td>2.223515e+01</td>\n",
              "      <td>1.251396e-01</td>\n",
              "      <td>2.513564e-01</td>\n",
              "      <td>2.383429e+01</td>\n",
              "      <td>3.172225e+04</td>\n",
              "      <td>4.790470e+00</td>\n",
              "    </tr>\n",
              "    <tr>\n",
              "      <th>min</th>\n",
              "      <td>0.000000e+00</td>\n",
              "      <td>0.000000e+00</td>\n",
              "      <td>0.000000e+00</td>\n",
              "      <td>0.000000e+00</td>\n",
              "      <td>-1.145770e-02</td>\n",
              "      <td>0.000000e+00</td>\n",
              "      <td>0.000000e+00</td>\n",
              "      <td>0.000000e+00</td>\n",
              "      <td>0.000000e+00</td>\n",
              "      <td>0.000000e+00</td>\n",
              "      <td>0.000000e+00</td>\n",
              "      <td>0.000000e+00</td>\n",
              "      <td>1.921000e+03</td>\n",
              "      <td>0.000000e+00</td>\n",
              "      <td>1.000000e+00</td>\n",
              "    </tr>\n",
              "    <tr>\n",
              "      <th>25%</th>\n",
              "      <td>1.603630e+05</td>\n",
              "      <td>3.050000e-02</td>\n",
              "      <td>4.410000e-01</td>\n",
              "      <td>1.926604e-03</td>\n",
              "      <td>-2.374608e-03</td>\n",
              "      <td>3.650000e-01</td>\n",
              "      <td>0.000000e+00</td>\n",
              "      <td>2.000000e+00</td>\n",
              "      <td>9.510000e-02</td>\n",
              "      <td>2.700000e+01</td>\n",
              "      <td>3.380000e-02</td>\n",
              "      <td>3.250000e-01</td>\n",
              "      <td>1.970000e+03</td>\n",
              "      <td>2.741600e+04</td>\n",
              "      <td>1.000000e+00</td>\n",
              "    </tr>\n",
              "    <tr>\n",
              "      <th>50%</th>\n",
              "      <td>3.108820e+05</td>\n",
              "      <td>2.090000e-01</td>\n",
              "      <td>5.660000e-01</td>\n",
              "      <td>2.366232e-03</td>\n",
              "      <td>-1.589374e-03</td>\n",
              "      <td>6.100000e-01</td>\n",
              "      <td>6.480000e-05</td>\n",
              "      <td>5.000000e+00</td>\n",
              "      <td>1.300000e-01</td>\n",
              "      <td>4.500000e+01</td>\n",
              "      <td>4.370000e-02</td>\n",
              "      <td>5.360000e-01</td>\n",
              "      <td>1.995000e+03</td>\n",
              "      <td>5.483200e+04</td>\n",
              "      <td>3.000000e+00</td>\n",
              "    </tr>\n",
              "    <tr>\n",
              "      <th>75%</th>\n",
              "      <td>5.167425e+05</td>\n",
              "      <td>7.260000e-01</td>\n",
              "      <td>6.760000e-01</td>\n",
              "      <td>2.766356e-03</td>\n",
              "      <td>-1.090582e-03</td>\n",
              "      <td>7.840000e-01</td>\n",
              "      <td>1.700000e-02</td>\n",
              "      <td>8.000000e+00</td>\n",
              "      <td>2.550000e-01</td>\n",
              "      <td>5.800000e+01</td>\n",
              "      <td>7.120000e-02</td>\n",
              "      <td>7.360000e-01</td>\n",
              "      <td>2.006000e+03</td>\n",
              "      <td>8.234600e+04</td>\n",
              "      <td>6.000000e+00</td>\n",
              "    </tr>\n",
              "    <tr>\n",
              "      <th>max</th>\n",
              "      <td>6.607190e+05</td>\n",
              "      <td>9.960000e-01</td>\n",
              "      <td>9.880000e-01</td>\n",
              "      <td>4.897285e-03</td>\n",
              "      <td>7.361570e-04</td>\n",
              "      <td>1.000000e+00</td>\n",
              "      <td>1.000000e+00</td>\n",
              "      <td>1.100000e+01</td>\n",
              "      <td>1.000000e+00</td>\n",
              "      <td>1.000000e+02</td>\n",
              "      <td>9.690000e-01</td>\n",
              "      <td>1.000000e+00</td>\n",
              "      <td>2.020000e+03</td>\n",
              "      <td>1.099990e+05</td>\n",
              "      <td>5.820000e+02</td>\n",
              "    </tr>\n",
              "  </tbody>\n",
              "</table>\n",
              "</div>"
            ],
            "text/plain": [
              "         Unnamed: 0  acousticness  ...        userid     playcount\n",
              "count  1.135383e+06  1.135383e+06  ...  1.135383e+06  1.135383e+06\n",
              "mean   3.324539e+05  3.656228e-01  ...  5.489920e+04  4.170311e+00\n",
              "std    1.994362e+05  3.642513e-01  ...  3.172225e+04  4.790470e+00\n",
              "min    0.000000e+00  0.000000e+00  ...  0.000000e+00  1.000000e+00\n",
              "25%    1.603630e+05  3.050000e-02  ...  2.741600e+04  1.000000e+00\n",
              "50%    3.108820e+05  2.090000e-01  ...  5.483200e+04  3.000000e+00\n",
              "75%    5.167425e+05  7.260000e-01  ...  8.234600e+04  6.000000e+00\n",
              "max    6.607190e+05  9.960000e-01  ...  1.099990e+05  5.820000e+02\n",
              "\n",
              "[8 rows x 15 columns]"
            ]
          },
          "metadata": {
            "tags": []
          },
          "execution_count": 6
        }
      ]
    },
    {
      "cell_type": "code",
      "metadata": {
        "id": "dquYxqlswm6e"
      },
      "source": [
        "df.drop(['Unnamed: 0'],axis=1, inplace=True)"
      ],
      "execution_count": 7,
      "outputs": []
    },
    {
      "cell_type": "code",
      "metadata": {
        "colab": {
          "base_uri": "https://localhost:8080/",
          "height": 499
        },
        "id": "u7i8C2qyw7Jd",
        "outputId": "6ad6738e-4edf-435c-c1d8-8520002b073e"
      },
      "source": [
        "df.head()"
      ],
      "execution_count": 8,
      "outputs": [
        {
          "output_type": "execute_result",
          "data": {
            "text/html": [
              "<div>\n",
              "<style scoped>\n",
              "    .dataframe tbody tr th:only-of-type {\n",
              "        vertical-align: middle;\n",
              "    }\n",
              "\n",
              "    .dataframe tbody tr th {\n",
              "        vertical-align: top;\n",
              "    }\n",
              "\n",
              "    .dataframe thead th {\n",
              "        text-align: right;\n",
              "    }\n",
              "</style>\n",
              "<table border=\"1\" class=\"dataframe\">\n",
              "  <thead>\n",
              "    <tr style=\"text-align: right;\">\n",
              "      <th></th>\n",
              "      <th>acousticness</th>\n",
              "      <th>name</th>\n",
              "      <th>danceability</th>\n",
              "      <th>tempo</th>\n",
              "      <th>loudness</th>\n",
              "      <th>energy</th>\n",
              "      <th>id</th>\n",
              "      <th>instrumentalness</th>\n",
              "      <th>key</th>\n",
              "      <th>liveness</th>\n",
              "      <th>popularity</th>\n",
              "      <th>speechiness</th>\n",
              "      <th>valence</th>\n",
              "      <th>year</th>\n",
              "      <th>userid</th>\n",
              "      <th>playcount</th>\n",
              "    </tr>\n",
              "  </thead>\n",
              "  <tbody>\n",
              "    <tr>\n",
              "      <th>0</th>\n",
              "      <td>0.995</td>\n",
              "      <td>Singende Bataillone 1. Teil Carl Woitschach</td>\n",
              "      <td>0.708</td>\n",
              "      <td>0.002377</td>\n",
              "      <td>-0.002373</td>\n",
              "      <td>0.1950</td>\n",
              "      <td>6KbQ3uYMLKb5jDxLF7wYDD</td>\n",
              "      <td>0.563</td>\n",
              "      <td>10.0</td>\n",
              "      <td>0.1510</td>\n",
              "      <td>0.0</td>\n",
              "      <td>0.0506</td>\n",
              "      <td>0.7790</td>\n",
              "      <td>1928.0</td>\n",
              "      <td>109679.0</td>\n",
              "      <td>5.0</td>\n",
              "    </tr>\n",
              "    <tr>\n",
              "      <th>1</th>\n",
              "      <td>0.994</td>\n",
              "      <td>Fantasiestücke, Op. 111: Più tosto lento Rober...</td>\n",
              "      <td>0.379</td>\n",
              "      <td>0.001685</td>\n",
              "      <td>-0.005434</td>\n",
              "      <td>0.0135</td>\n",
              "      <td>6KuQTIu1KoTTkLXKrwlLPV</td>\n",
              "      <td>0.901</td>\n",
              "      <td>8.0</td>\n",
              "      <td>0.0763</td>\n",
              "      <td>0.0</td>\n",
              "      <td>0.0462</td>\n",
              "      <td>0.0767</td>\n",
              "      <td>1928.0</td>\n",
              "      <td>13441.0</td>\n",
              "      <td>7.0</td>\n",
              "    </tr>\n",
              "    <tr>\n",
              "      <th>2</th>\n",
              "      <td>0.994</td>\n",
              "      <td>Fantasiestücke, Op. 111: Più tosto lento Rober...</td>\n",
              "      <td>0.379</td>\n",
              "      <td>0.001685</td>\n",
              "      <td>-0.005434</td>\n",
              "      <td>0.0135</td>\n",
              "      <td>2YPbmbRIo7I1r9FAMqNjbZ</td>\n",
              "      <td>0.901</td>\n",
              "      <td>8.0</td>\n",
              "      <td>0.0763</td>\n",
              "      <td>0.0</td>\n",
              "      <td>0.0462</td>\n",
              "      <td>0.0767</td>\n",
              "      <td>1928.0</td>\n",
              "      <td>25637.0</td>\n",
              "      <td>3.0</td>\n",
              "    </tr>\n",
              "    <tr>\n",
              "      <th>3</th>\n",
              "      <td>0.604</td>\n",
              "      <td>Chapter 1.18 - Zamek kaniowski Seweryn Goszczy...</td>\n",
              "      <td>0.749</td>\n",
              "      <td>0.002150</td>\n",
              "      <td>-0.003805</td>\n",
              "      <td>0.2200</td>\n",
              "      <td>6L63VW0PibdM1HDSBoqnoM</td>\n",
              "      <td>0.000</td>\n",
              "      <td>5.0</td>\n",
              "      <td>0.1190</td>\n",
              "      <td>0.0</td>\n",
              "      <td>0.9290</td>\n",
              "      <td>0.8800</td>\n",
              "      <td>1928.0</td>\n",
              "      <td>63548.0</td>\n",
              "      <td>7.0</td>\n",
              "    </tr>\n",
              "    <tr>\n",
              "      <th>4</th>\n",
              "      <td>0.995</td>\n",
              "      <td>Bebamos Juntos - Instrumental (Remasterizado) ...</td>\n",
              "      <td>0.781</td>\n",
              "      <td>0.002167</td>\n",
              "      <td>-0.002814</td>\n",
              "      <td>0.1300</td>\n",
              "      <td>6M94FkXd15sOAOQYRnWPN8</td>\n",
              "      <td>0.887</td>\n",
              "      <td>1.0</td>\n",
              "      <td>0.1110</td>\n",
              "      <td>0.0</td>\n",
              "      <td>0.0926</td>\n",
              "      <td>0.7200</td>\n",
              "      <td>1928.0</td>\n",
              "      <td>10501.0</td>\n",
              "      <td>8.0</td>\n",
              "    </tr>\n",
              "  </tbody>\n",
              "</table>\n",
              "</div>"
            ],
            "text/plain": [
              "   acousticness  ... playcount\n",
              "0         0.995  ...       5.0\n",
              "1         0.994  ...       7.0\n",
              "2         0.994  ...       3.0\n",
              "3         0.604  ...       7.0\n",
              "4         0.995  ...       8.0\n",
              "\n",
              "[5 rows x 16 columns]"
            ]
          },
          "metadata": {
            "tags": []
          },
          "execution_count": 8
        }
      ]
    },
    {
      "cell_type": "code",
      "metadata": {
        "colab": {
          "base_uri": "https://localhost:8080/"
        },
        "id": "gzfozuggxwtQ",
        "outputId": "335de463-a626-4dc2-f655-b67c58a8ec30"
      },
      "source": [
        "df.shape"
      ],
      "execution_count": 9,
      "outputs": [
        {
          "output_type": "execute_result",
          "data": {
            "text/plain": [
              "(1135383, 16)"
            ]
          },
          "metadata": {
            "tags": []
          },
          "execution_count": 9
        }
      ]
    },
    {
      "cell_type": "code",
      "metadata": {
        "id": "Nt3IUPZDxYz0"
      },
      "source": [
        "le = LabelEncoder()\n",
        "n_id= le.fit_transform(df['id'])"
      ],
      "execution_count": 10,
      "outputs": []
    },
    {
      "cell_type": "code",
      "metadata": {
        "id": "_zLYwWNrxsWN"
      },
      "source": [
        "df.insert(15, 'song_id', n_id)"
      ],
      "execution_count": 11,
      "outputs": []
    },
    {
      "cell_type": "code",
      "metadata": {
        "id": "LS0LamkDx5ZE"
      },
      "source": [
        "df.drop('id', axis=1, inplace=True)"
      ],
      "execution_count": 12,
      "outputs": []
    },
    {
      "cell_type": "code",
      "metadata": {
        "colab": {
          "base_uri": "https://localhost:8080/",
          "height": 499
        },
        "id": "A1t7wCr7x-u3",
        "outputId": "8b0206e4-eddc-4397-b199-8483dc32f53f"
      },
      "source": [
        "df.head()"
      ],
      "execution_count": 13,
      "outputs": [
        {
          "output_type": "execute_result",
          "data": {
            "text/html": [
              "<div>\n",
              "<style scoped>\n",
              "    .dataframe tbody tr th:only-of-type {\n",
              "        vertical-align: middle;\n",
              "    }\n",
              "\n",
              "    .dataframe tbody tr th {\n",
              "        vertical-align: top;\n",
              "    }\n",
              "\n",
              "    .dataframe thead th {\n",
              "        text-align: right;\n",
              "    }\n",
              "</style>\n",
              "<table border=\"1\" class=\"dataframe\">\n",
              "  <thead>\n",
              "    <tr style=\"text-align: right;\">\n",
              "      <th></th>\n",
              "      <th>acousticness</th>\n",
              "      <th>name</th>\n",
              "      <th>danceability</th>\n",
              "      <th>tempo</th>\n",
              "      <th>loudness</th>\n",
              "      <th>energy</th>\n",
              "      <th>instrumentalness</th>\n",
              "      <th>key</th>\n",
              "      <th>liveness</th>\n",
              "      <th>popularity</th>\n",
              "      <th>speechiness</th>\n",
              "      <th>valence</th>\n",
              "      <th>year</th>\n",
              "      <th>userid</th>\n",
              "      <th>song_id</th>\n",
              "      <th>playcount</th>\n",
              "    </tr>\n",
              "  </thead>\n",
              "  <tbody>\n",
              "    <tr>\n",
              "      <th>0</th>\n",
              "      <td>0.995</td>\n",
              "      <td>Singende Bataillone 1. Teil Carl Woitschach</td>\n",
              "      <td>0.708</td>\n",
              "      <td>0.002377</td>\n",
              "      <td>-0.002373</td>\n",
              "      <td>0.1950</td>\n",
              "      <td>0.563</td>\n",
              "      <td>10.0</td>\n",
              "      <td>0.1510</td>\n",
              "      <td>0.0</td>\n",
              "      <td>0.0506</td>\n",
              "      <td>0.7790</td>\n",
              "      <td>1928.0</td>\n",
              "      <td>109679.0</td>\n",
              "      <td>140959</td>\n",
              "      <td>5.0</td>\n",
              "    </tr>\n",
              "    <tr>\n",
              "      <th>1</th>\n",
              "      <td>0.994</td>\n",
              "      <td>Fantasiestücke, Op. 111: Più tosto lento Rober...</td>\n",
              "      <td>0.379</td>\n",
              "      <td>0.001685</td>\n",
              "      <td>-0.005434</td>\n",
              "      <td>0.0135</td>\n",
              "      <td>0.901</td>\n",
              "      <td>8.0</td>\n",
              "      <td>0.0763</td>\n",
              "      <td>0.0</td>\n",
              "      <td>0.0462</td>\n",
              "      <td>0.0767</td>\n",
              "      <td>1928.0</td>\n",
              "      <td>13441.0</td>\n",
              "      <td>141059</td>\n",
              "      <td>7.0</td>\n",
              "    </tr>\n",
              "    <tr>\n",
              "      <th>2</th>\n",
              "      <td>0.994</td>\n",
              "      <td>Fantasiestücke, Op. 111: Più tosto lento Rober...</td>\n",
              "      <td>0.379</td>\n",
              "      <td>0.001685</td>\n",
              "      <td>-0.005434</td>\n",
              "      <td>0.0135</td>\n",
              "      <td>0.901</td>\n",
              "      <td>8.0</td>\n",
              "      <td>0.0763</td>\n",
              "      <td>0.0</td>\n",
              "      <td>0.0462</td>\n",
              "      <td>0.0767</td>\n",
              "      <td>1928.0</td>\n",
              "      <td>25637.0</td>\n",
              "      <td>60998</td>\n",
              "      <td>3.0</td>\n",
              "    </tr>\n",
              "    <tr>\n",
              "      <th>3</th>\n",
              "      <td>0.604</td>\n",
              "      <td>Chapter 1.18 - Zamek kaniowski Seweryn Goszczy...</td>\n",
              "      <td>0.749</td>\n",
              "      <td>0.002150</td>\n",
              "      <td>-0.003805</td>\n",
              "      <td>0.2200</td>\n",
              "      <td>0.000</td>\n",
              "      <td>5.0</td>\n",
              "      <td>0.1190</td>\n",
              "      <td>0.0</td>\n",
              "      <td>0.9290</td>\n",
              "      <td>0.8800</td>\n",
              "      <td>1928.0</td>\n",
              "      <td>63548.0</td>\n",
              "      <td>141124</td>\n",
              "      <td>7.0</td>\n",
              "    </tr>\n",
              "    <tr>\n",
              "      <th>4</th>\n",
              "      <td>0.995</td>\n",
              "      <td>Bebamos Juntos - Instrumental (Remasterizado) ...</td>\n",
              "      <td>0.781</td>\n",
              "      <td>0.002167</td>\n",
              "      <td>-0.002814</td>\n",
              "      <td>0.1300</td>\n",
              "      <td>0.887</td>\n",
              "      <td>1.0</td>\n",
              "      <td>0.1110</td>\n",
              "      <td>0.0</td>\n",
              "      <td>0.0926</td>\n",
              "      <td>0.7200</td>\n",
              "      <td>1928.0</td>\n",
              "      <td>10501.0</td>\n",
              "      <td>141446</td>\n",
              "      <td>8.0</td>\n",
              "    </tr>\n",
              "  </tbody>\n",
              "</table>\n",
              "</div>"
            ],
            "text/plain": [
              "   acousticness  ... playcount\n",
              "0         0.995  ...       5.0\n",
              "1         0.994  ...       7.0\n",
              "2         0.994  ...       3.0\n",
              "3         0.604  ...       7.0\n",
              "4         0.995  ...       8.0\n",
              "\n",
              "[5 rows x 16 columns]"
            ]
          },
          "metadata": {
            "tags": []
          },
          "execution_count": 13
        }
      ]
    },
    {
      "cell_type": "code",
      "metadata": {
        "id": "3G56NN9CWH7p"
      },
      "source": [
        "X = df.copy()"
      ],
      "execution_count": 14,
      "outputs": []
    },
    {
      "cell_type": "code",
      "metadata": {
        "colab": {
          "base_uri": "https://localhost:8080/",
          "height": 499
        },
        "id": "9PbWJmsyWMHs",
        "outputId": "3bd3071f-1a6a-490a-9161-a5d361d085d9"
      },
      "source": [
        "X.head()"
      ],
      "execution_count": 15,
      "outputs": [
        {
          "output_type": "execute_result",
          "data": {
            "text/html": [
              "<div>\n",
              "<style scoped>\n",
              "    .dataframe tbody tr th:only-of-type {\n",
              "        vertical-align: middle;\n",
              "    }\n",
              "\n",
              "    .dataframe tbody tr th {\n",
              "        vertical-align: top;\n",
              "    }\n",
              "\n",
              "    .dataframe thead th {\n",
              "        text-align: right;\n",
              "    }\n",
              "</style>\n",
              "<table border=\"1\" class=\"dataframe\">\n",
              "  <thead>\n",
              "    <tr style=\"text-align: right;\">\n",
              "      <th></th>\n",
              "      <th>acousticness</th>\n",
              "      <th>name</th>\n",
              "      <th>danceability</th>\n",
              "      <th>tempo</th>\n",
              "      <th>loudness</th>\n",
              "      <th>energy</th>\n",
              "      <th>instrumentalness</th>\n",
              "      <th>key</th>\n",
              "      <th>liveness</th>\n",
              "      <th>popularity</th>\n",
              "      <th>speechiness</th>\n",
              "      <th>valence</th>\n",
              "      <th>year</th>\n",
              "      <th>userid</th>\n",
              "      <th>song_id</th>\n",
              "      <th>playcount</th>\n",
              "    </tr>\n",
              "  </thead>\n",
              "  <tbody>\n",
              "    <tr>\n",
              "      <th>0</th>\n",
              "      <td>0.995</td>\n",
              "      <td>Singende Bataillone 1. Teil Carl Woitschach</td>\n",
              "      <td>0.708</td>\n",
              "      <td>0.002377</td>\n",
              "      <td>-0.002373</td>\n",
              "      <td>0.1950</td>\n",
              "      <td>0.563</td>\n",
              "      <td>10.0</td>\n",
              "      <td>0.1510</td>\n",
              "      <td>0.0</td>\n",
              "      <td>0.0506</td>\n",
              "      <td>0.7790</td>\n",
              "      <td>1928.0</td>\n",
              "      <td>109679.0</td>\n",
              "      <td>140959</td>\n",
              "      <td>5.0</td>\n",
              "    </tr>\n",
              "    <tr>\n",
              "      <th>1</th>\n",
              "      <td>0.994</td>\n",
              "      <td>Fantasiestücke, Op. 111: Più tosto lento Rober...</td>\n",
              "      <td>0.379</td>\n",
              "      <td>0.001685</td>\n",
              "      <td>-0.005434</td>\n",
              "      <td>0.0135</td>\n",
              "      <td>0.901</td>\n",
              "      <td>8.0</td>\n",
              "      <td>0.0763</td>\n",
              "      <td>0.0</td>\n",
              "      <td>0.0462</td>\n",
              "      <td>0.0767</td>\n",
              "      <td>1928.0</td>\n",
              "      <td>13441.0</td>\n",
              "      <td>141059</td>\n",
              "      <td>7.0</td>\n",
              "    </tr>\n",
              "    <tr>\n",
              "      <th>2</th>\n",
              "      <td>0.994</td>\n",
              "      <td>Fantasiestücke, Op. 111: Più tosto lento Rober...</td>\n",
              "      <td>0.379</td>\n",
              "      <td>0.001685</td>\n",
              "      <td>-0.005434</td>\n",
              "      <td>0.0135</td>\n",
              "      <td>0.901</td>\n",
              "      <td>8.0</td>\n",
              "      <td>0.0763</td>\n",
              "      <td>0.0</td>\n",
              "      <td>0.0462</td>\n",
              "      <td>0.0767</td>\n",
              "      <td>1928.0</td>\n",
              "      <td>25637.0</td>\n",
              "      <td>60998</td>\n",
              "      <td>3.0</td>\n",
              "    </tr>\n",
              "    <tr>\n",
              "      <th>3</th>\n",
              "      <td>0.604</td>\n",
              "      <td>Chapter 1.18 - Zamek kaniowski Seweryn Goszczy...</td>\n",
              "      <td>0.749</td>\n",
              "      <td>0.002150</td>\n",
              "      <td>-0.003805</td>\n",
              "      <td>0.2200</td>\n",
              "      <td>0.000</td>\n",
              "      <td>5.0</td>\n",
              "      <td>0.1190</td>\n",
              "      <td>0.0</td>\n",
              "      <td>0.9290</td>\n",
              "      <td>0.8800</td>\n",
              "      <td>1928.0</td>\n",
              "      <td>63548.0</td>\n",
              "      <td>141124</td>\n",
              "      <td>7.0</td>\n",
              "    </tr>\n",
              "    <tr>\n",
              "      <th>4</th>\n",
              "      <td>0.995</td>\n",
              "      <td>Bebamos Juntos - Instrumental (Remasterizado) ...</td>\n",
              "      <td>0.781</td>\n",
              "      <td>0.002167</td>\n",
              "      <td>-0.002814</td>\n",
              "      <td>0.1300</td>\n",
              "      <td>0.887</td>\n",
              "      <td>1.0</td>\n",
              "      <td>0.1110</td>\n",
              "      <td>0.0</td>\n",
              "      <td>0.0926</td>\n",
              "      <td>0.7200</td>\n",
              "      <td>1928.0</td>\n",
              "      <td>10501.0</td>\n",
              "      <td>141446</td>\n",
              "      <td>8.0</td>\n",
              "    </tr>\n",
              "  </tbody>\n",
              "</table>\n",
              "</div>"
            ],
            "text/plain": [
              "   acousticness  ... playcount\n",
              "0         0.995  ...       5.0\n",
              "1         0.994  ...       7.0\n",
              "2         0.994  ...       3.0\n",
              "3         0.604  ...       7.0\n",
              "4         0.995  ...       8.0\n",
              "\n",
              "[5 rows x 16 columns]"
            ]
          },
          "metadata": {
            "tags": []
          },
          "execution_count": 15
        }
      ]
    },
    {
      "cell_type": "code",
      "metadata": {
        "id": "oHJXjZZBWVup"
      },
      "source": [
        "X.drop(['acousticness', 'danceability', 'tempo', 'loudness', 'energy', 'instrumentalness', 'key', 'liveness', 'popularity','speechiness', 'valence', 'year'], axis = 1, inplace=True)"
      ],
      "execution_count": 16,
      "outputs": []
    },
    {
      "cell_type": "code",
      "metadata": {
        "id": "NAhbAt80W7_e",
        "outputId": "752cf226-9245-40a9-ddda-beadd5666337",
        "colab": {
          "base_uri": "https://localhost:8080/",
          "height": 202
        }
      },
      "source": [
        "X.head()"
      ],
      "execution_count": 17,
      "outputs": [
        {
          "output_type": "execute_result",
          "data": {
            "text/html": [
              "<div>\n",
              "<style scoped>\n",
              "    .dataframe tbody tr th:only-of-type {\n",
              "        vertical-align: middle;\n",
              "    }\n",
              "\n",
              "    .dataframe tbody tr th {\n",
              "        vertical-align: top;\n",
              "    }\n",
              "\n",
              "    .dataframe thead th {\n",
              "        text-align: right;\n",
              "    }\n",
              "</style>\n",
              "<table border=\"1\" class=\"dataframe\">\n",
              "  <thead>\n",
              "    <tr style=\"text-align: right;\">\n",
              "      <th></th>\n",
              "      <th>name</th>\n",
              "      <th>userid</th>\n",
              "      <th>song_id</th>\n",
              "      <th>playcount</th>\n",
              "    </tr>\n",
              "  </thead>\n",
              "  <tbody>\n",
              "    <tr>\n",
              "      <th>0</th>\n",
              "      <td>Singende Bataillone 1. Teil Carl Woitschach</td>\n",
              "      <td>109679.0</td>\n",
              "      <td>140959</td>\n",
              "      <td>5.0</td>\n",
              "    </tr>\n",
              "    <tr>\n",
              "      <th>1</th>\n",
              "      <td>Fantasiestücke, Op. 111: Più tosto lento Rober...</td>\n",
              "      <td>13441.0</td>\n",
              "      <td>141059</td>\n",
              "      <td>7.0</td>\n",
              "    </tr>\n",
              "    <tr>\n",
              "      <th>2</th>\n",
              "      <td>Fantasiestücke, Op. 111: Più tosto lento Rober...</td>\n",
              "      <td>25637.0</td>\n",
              "      <td>60998</td>\n",
              "      <td>3.0</td>\n",
              "    </tr>\n",
              "    <tr>\n",
              "      <th>3</th>\n",
              "      <td>Chapter 1.18 - Zamek kaniowski Seweryn Goszczy...</td>\n",
              "      <td>63548.0</td>\n",
              "      <td>141124</td>\n",
              "      <td>7.0</td>\n",
              "    </tr>\n",
              "    <tr>\n",
              "      <th>4</th>\n",
              "      <td>Bebamos Juntos - Instrumental (Remasterizado) ...</td>\n",
              "      <td>10501.0</td>\n",
              "      <td>141446</td>\n",
              "      <td>8.0</td>\n",
              "    </tr>\n",
              "  </tbody>\n",
              "</table>\n",
              "</div>"
            ],
            "text/plain": [
              "                                                name  ...  playcount\n",
              "0        Singende Bataillone 1. Teil Carl Woitschach  ...        5.0\n",
              "1  Fantasiestücke, Op. 111: Più tosto lento Rober...  ...        7.0\n",
              "2  Fantasiestücke, Op. 111: Più tosto lento Rober...  ...        3.0\n",
              "3  Chapter 1.18 - Zamek kaniowski Seweryn Goszczy...  ...        7.0\n",
              "4  Bebamos Juntos - Instrumental (Remasterizado) ...  ...        8.0\n",
              "\n",
              "[5 rows x 4 columns]"
            ]
          },
          "metadata": {
            "tags": []
          },
          "execution_count": 17
        }
      ]
    },
    {
      "cell_type": "code",
      "metadata": {
        "id": "PTKf_AAMXTyH"
      },
      "source": [
        "combine_song_play = X.dropna(axis = 0, subset = ['name'])\n",
        "song_playcount = (combine_song_play.\n",
        "     groupby(by = ['name'])['playcount'].\n",
        "     count().\n",
        "     reset_index().\n",
        "     rename(columns = {'playcount': 'totalPlayCount'})\n",
        "     [['name', 'totalPlayCount']]\n",
        "    )"
      ],
      "execution_count": 18,
      "outputs": []
    },
    {
      "cell_type": "code",
      "metadata": {
        "id": "Mhdx18ZsZAE2",
        "outputId": "e2c1e354-5b33-4662-97c1-e08fc4537df0",
        "colab": {
          "base_uri": "https://localhost:8080/",
          "height": 202
        }
      },
      "source": [
        "song_playcount.head()"
      ],
      "execution_count": 19,
      "outputs": [
        {
          "output_type": "execute_result",
          "data": {
            "text/html": [
              "<div>\n",
              "<style scoped>\n",
              "    .dataframe tbody tr th:only-of-type {\n",
              "        vertical-align: middle;\n",
              "    }\n",
              "\n",
              "    .dataframe tbody tr th {\n",
              "        vertical-align: top;\n",
              "    }\n",
              "\n",
              "    .dataframe thead th {\n",
              "        text-align: right;\n",
              "    }\n",
              "</style>\n",
              "<table border=\"1\" class=\"dataframe\">\n",
              "  <thead>\n",
              "    <tr style=\"text-align: right;\">\n",
              "      <th></th>\n",
              "      <th>name</th>\n",
              "      <th>totalPlayCount</th>\n",
              "    </tr>\n",
              "  </thead>\n",
              "  <tbody>\n",
              "    <tr>\n",
              "      <th>0</th>\n",
              "      <td>Cello Song Nick Drake</td>\n",
              "      <td>4</td>\n",
              "    </tr>\n",
              "    <tr>\n",
              "      <th>1</th>\n",
              "      <td>!Que Vida! - Mono Version Love</td>\n",
              "      <td>4</td>\n",
              "    </tr>\n",
              "    <tr>\n",
              "      <th>2</th>\n",
              "      <td>\"40\" - Live U2</td>\n",
              "      <td>4</td>\n",
              "    </tr>\n",
              "    <tr>\n",
              "      <th>3</th>\n",
              "      <td>\"40\" - Remastered 2008 U2</td>\n",
              "      <td>8</td>\n",
              "    </tr>\n",
              "    <tr>\n",
              "      <th>4</th>\n",
              "      <td>\"40\" U2</td>\n",
              "      <td>4</td>\n",
              "    </tr>\n",
              "  </tbody>\n",
              "</table>\n",
              "</div>"
            ],
            "text/plain": [
              "                             name  totalPlayCount\n",
              "0           Cello Song Nick Drake               4\n",
              "1  !Que Vida! - Mono Version Love               4\n",
              "2                  \"40\" - Live U2               4\n",
              "3       \"40\" - Remastered 2008 U2               8\n",
              "4                         \"40\" U2               4"
            ]
          },
          "metadata": {
            "tags": []
          },
          "execution_count": 19
        }
      ]
    },
    {
      "cell_type": "code",
      "metadata": {
        "id": "-PjTx4oJZFHG"
      },
      "source": [
        "songs_with_totalPlayCount = combine_song_play.merge(song_playcount, left_on='name', right_on='name', how='left')"
      ],
      "execution_count": 20,
      "outputs": []
    },
    {
      "cell_type": "code",
      "metadata": {
        "id": "jNlsFJVwZt9Q",
        "outputId": "694d7986-189f-4379-cb01-2d2f59db6121",
        "colab": {
          "base_uri": "https://localhost:8080/",
          "height": 202
        }
      },
      "source": [
        "songs_with_totalPlayCount.head()"
      ],
      "execution_count": 21,
      "outputs": [
        {
          "output_type": "execute_result",
          "data": {
            "text/html": [
              "<div>\n",
              "<style scoped>\n",
              "    .dataframe tbody tr th:only-of-type {\n",
              "        vertical-align: middle;\n",
              "    }\n",
              "\n",
              "    .dataframe tbody tr th {\n",
              "        vertical-align: top;\n",
              "    }\n",
              "\n",
              "    .dataframe thead th {\n",
              "        text-align: right;\n",
              "    }\n",
              "</style>\n",
              "<table border=\"1\" class=\"dataframe\">\n",
              "  <thead>\n",
              "    <tr style=\"text-align: right;\">\n",
              "      <th></th>\n",
              "      <th>name</th>\n",
              "      <th>userid</th>\n",
              "      <th>song_id</th>\n",
              "      <th>playcount</th>\n",
              "      <th>totalPlayCount</th>\n",
              "    </tr>\n",
              "  </thead>\n",
              "  <tbody>\n",
              "    <tr>\n",
              "      <th>0</th>\n",
              "      <td>Singende Bataillone 1. Teil Carl Woitschach</td>\n",
              "      <td>109679.0</td>\n",
              "      <td>140959</td>\n",
              "      <td>5.0</td>\n",
              "      <td>4</td>\n",
              "    </tr>\n",
              "    <tr>\n",
              "      <th>1</th>\n",
              "      <td>Fantasiestücke, Op. 111: Più tosto lento Rober...</td>\n",
              "      <td>13441.0</td>\n",
              "      <td>141059</td>\n",
              "      <td>7.0</td>\n",
              "      <td>8</td>\n",
              "    </tr>\n",
              "    <tr>\n",
              "      <th>2</th>\n",
              "      <td>Fantasiestücke, Op. 111: Più tosto lento Rober...</td>\n",
              "      <td>25637.0</td>\n",
              "      <td>60998</td>\n",
              "      <td>3.0</td>\n",
              "      <td>8</td>\n",
              "    </tr>\n",
              "    <tr>\n",
              "      <th>3</th>\n",
              "      <td>Chapter 1.18 - Zamek kaniowski Seweryn Goszczy...</td>\n",
              "      <td>63548.0</td>\n",
              "      <td>141124</td>\n",
              "      <td>7.0</td>\n",
              "      <td>4</td>\n",
              "    </tr>\n",
              "    <tr>\n",
              "      <th>4</th>\n",
              "      <td>Bebamos Juntos - Instrumental (Remasterizado) ...</td>\n",
              "      <td>10501.0</td>\n",
              "      <td>141446</td>\n",
              "      <td>8.0</td>\n",
              "      <td>4</td>\n",
              "    </tr>\n",
              "  </tbody>\n",
              "</table>\n",
              "</div>"
            ],
            "text/plain": [
              "                                                name  ...  totalPlayCount\n",
              "0        Singende Bataillone 1. Teil Carl Woitschach  ...               4\n",
              "1  Fantasiestücke, Op. 111: Più tosto lento Rober...  ...               8\n",
              "2  Fantasiestücke, Op. 111: Più tosto lento Rober...  ...               8\n",
              "3  Chapter 1.18 - Zamek kaniowski Seweryn Goszczy...  ...               4\n",
              "4  Bebamos Juntos - Instrumental (Remasterizado) ...  ...               4\n",
              "\n",
              "[5 rows x 5 columns]"
            ]
          },
          "metadata": {
            "tags": []
          },
          "execution_count": 21
        }
      ]
    },
    {
      "cell_type": "code",
      "metadata": {
        "id": "PW6mX7H-Zyg-",
        "outputId": "22f04a9b-4c9b-4d80-c448-270ba70bc801",
        "colab": {
          "base_uri": "https://localhost:8080/"
        }
      },
      "source": [
        "print(songs_with_totalPlayCount['totalPlayCount'].describe())"
      ],
      "execution_count": 22,
      "outputs": [
        {
          "output_type": "stream",
          "text": [
            "count    1.135383e+06\n",
            "mean     4.373580e+02\n",
            "std      1.208086e+03\n",
            "min      1.000000e+00\n",
            "25%      4.000000e+00\n",
            "50%      8.000000e+00\n",
            "75%      1.670000e+02\n",
            "max      7.614000e+03\n",
            "Name: totalPlayCount, dtype: float64\n"
          ],
          "name": "stdout"
        }
      ]
    },
    {
      "cell_type": "code",
      "metadata": {
        "id": "T3R4XDPraCDz"
      },
      "source": [
        "song_features = songs_with_totalPlayCount.pivot_table(index='name',columns='userid', values='playcount').fillna(0)"
      ],
      "execution_count": null,
      "outputs": []
    }
  ]
}