{
 "cells": [
  {
   "cell_type": "code",
   "execution_count": 1,
   "metadata": {},
   "outputs": [],
   "source": [
    "import pandas as pd\n",
    "import numpy as np"
   ]
  },
  {
   "cell_type": "code",
   "execution_count": 2,
   "metadata": {},
   "outputs": [],
   "source": [
    "df = pd.read_csv('onewayoranother2.csv')\n",
    "df = df.drop(['Unnamed: 0','playcount','userid'],axis=1)\n",
    "df = df.sort_values('popularity')\n",
    "df = df.drop_duplicates(subset='name',keep = 'last')\n",
    "df = df.reset_index(drop=True)"
   ]
  },
  {
   "cell_type": "code",
   "execution_count": 3,
   "metadata": {},
   "outputs": [
    {
     "data": {
      "text/html": [
       "<div>\n",
       "<style scoped>\n",
       "    .dataframe tbody tr th:only-of-type {\n",
       "        vertical-align: middle;\n",
       "    }\n",
       "\n",
       "    .dataframe tbody tr th {\n",
       "        vertical-align: top;\n",
       "    }\n",
       "\n",
       "    .dataframe thead th {\n",
       "        text-align: right;\n",
       "    }\n",
       "</style>\n",
       "<table border=\"1\" class=\"dataframe\">\n",
       "  <thead>\n",
       "    <tr style=\"text-align: right;\">\n",
       "      <th></th>\n",
       "      <th>acousticness</th>\n",
       "      <th>name</th>\n",
       "      <th>danceability</th>\n",
       "      <th>tempo</th>\n",
       "      <th>loudness</th>\n",
       "      <th>energy</th>\n",
       "      <th>id</th>\n",
       "      <th>instrumentalness</th>\n",
       "      <th>key</th>\n",
       "      <th>liveness</th>\n",
       "      <th>popularity</th>\n",
       "      <th>speechiness</th>\n",
       "      <th>valence</th>\n",
       "      <th>year</th>\n",
       "      <th>artists</th>\n",
       "      <th>genres</th>\n",
       "    </tr>\n",
       "  </thead>\n",
       "  <tbody>\n",
       "    <tr>\n",
       "      <td>0</td>\n",
       "      <td>0.702</td>\n",
       "      <td>Kapitel 10 - In der Osternacht Anton Tschechow</td>\n",
       "      <td>0.586</td>\n",
       "      <td>0.003539</td>\n",
       "      <td>-0.004339</td>\n",
       "      <td>0.103</td>\n",
       "      <td>2bB8AoMI30VKEnF2sVKxrg</td>\n",
       "      <td>0.0</td>\n",
       "      <td>5.0</td>\n",
       "      <td>0.711</td>\n",
       "      <td>0.0</td>\n",
       "      <td>0.945</td>\n",
       "      <td>0.385</td>\n",
       "      <td>1953.0</td>\n",
       "      <td>Anton Tschechow</td>\n",
       "      <td>['german literature']</td>\n",
       "    </tr>\n",
       "  </tbody>\n",
       "</table>\n",
       "</div>"
      ],
      "text/plain": [
       "   acousticness                                            name  danceability  \\\n",
       "0         0.702  Kapitel 10 - In der Osternacht Anton Tschechow         0.586   \n",
       "\n",
       "      tempo  loudness  energy                      id  instrumentalness  key  \\\n",
       "0  0.003539 -0.004339   0.103  2bB8AoMI30VKEnF2sVKxrg               0.0  5.0   \n",
       "\n",
       "   liveness  popularity  speechiness  valence    year          artists  \\\n",
       "0     0.711         0.0        0.945    0.385  1953.0  Anton Tschechow   \n",
       "\n",
       "                  genres  \n",
       "0  ['german literature']  "
      ]
     },
     "execution_count": 3,
     "metadata": {},
     "output_type": "execute_result"
    }
   ],
   "source": [
    "df.head(1)"
   ]
  },
  {
   "cell_type": "code",
   "execution_count": 4,
   "metadata": {},
   "outputs": [],
   "source": [
    "from sklearn.preprocessing import StandardScaler\n",
    "X = np.array(df.drop(['name','id','artists','genres','year'],axis=1))\n",
    "X_scaled = StandardScaler().fit_transform(X)"
   ]
  },
  {
   "cell_type": "code",
   "execution_count": 5,
   "metadata": {},
   "outputs": [],
   "source": [
    "features = X_scaled.T\n",
    "cov_matrix = np.cov(features)"
   ]
  },
  {
   "cell_type": "code",
   "execution_count": 6,
   "metadata": {},
   "outputs": [
    {
     "data": {
      "text/plain": [
       "array([[ 1.00000639e+00, -2.62511734e-01, -2.04981473e-01,\n",
       "        -5.61549547e-01, -7.47402258e-01,  3.28664120e-01,\n",
       "        -2.21540237e-02, -2.38101062e-02, -5.90117858e-01,\n",
       "        -5.53919564e-02, -1.77068897e-01],\n",
       "       [-2.62511734e-01,  1.00000639e+00, -3.80864845e-03,\n",
       "         2.90040154e-01,  2.15954349e-01, -2.78286933e-01,\n",
       "         2.28070508e-02, -1.04574229e-01,  2.12836226e-01,\n",
       "         2.29559933e-01,  5.58660117e-01],\n",
       "       [-2.04981473e-01, -3.80864845e-03,  1.00000639e+00,\n",
       "         2.11156291e-01,  2.49341011e-01, -1.05523136e-01,\n",
       "         3.29563923e-03,  6.54489134e-03,  1.34922941e-01,\n",
       "        -1.33974229e-02,  1.69165560e-01],\n",
       "       [-5.61549547e-01,  2.90040154e-01,  2.11156291e-01,\n",
       "         1.00000639e+00,  7.81261134e-01, -4.08092101e-01,\n",
       "         2.21589573e-02,  5.09406853e-02,  4.59695645e-01,\n",
       "        -1.15523467e-01,  3.04769348e-01],\n",
       "       [-7.47402258e-01,  2.15954349e-01,  2.49341011e-01,\n",
       "         7.81261134e-01,  1.00000639e+00, -2.80506726e-01,\n",
       "         3.08262567e-02,  1.26396794e-01,  4.93492982e-01,\n",
       "        -5.29667979e-02,  3.43805643e-01],\n",
       "       [ 3.28664120e-01, -2.78286933e-01, -1.05523136e-01,\n",
       "        -4.08092101e-01, -2.80506726e-01,  1.00000639e+00,\n",
       "        -1.49040721e-02, -4.98937901e-02, -2.88032956e-01,\n",
       "        -1.19015203e-01, -1.87514955e-01],\n",
       "       [-2.21540237e-02,  2.28070508e-02,  3.29563923e-03,\n",
       "         2.21589573e-02,  3.08262567e-02, -1.49040721e-02,\n",
       "         1.00000639e+00, -1.78328533e-04,  1.09839037e-02,\n",
       "         1.49061915e-02,  2.93490996e-02],\n",
       "       [-2.38101062e-02, -1.04574229e-01,  6.54489134e-03,\n",
       "         5.09406853e-02,  1.26396794e-01, -4.98937901e-02,\n",
       "        -1.78328533e-04,  1.00000639e+00, -7.94718101e-02,\n",
       "         1.50067823e-01,  8.81786571e-05],\n",
       "       [-5.90117858e-01,  2.12836226e-01,  1.34922941e-01,\n",
       "         4.59695645e-01,  4.93492982e-01, -2.88032956e-01,\n",
       "         1.09839037e-02, -7.94718101e-02,  1.00000639e+00,\n",
       "        -1.46888514e-01, -3.40691827e-03],\n",
       "       [-5.53919564e-02,  2.29559933e-01, -1.33974229e-02,\n",
       "        -1.15523467e-01, -5.29667979e-02, -1.19015203e-01,\n",
       "         1.49061915e-02,  1.50067823e-01, -1.46888514e-01,\n",
       "         1.00000639e+00,  5.69567188e-02],\n",
       "       [-1.77068897e-01,  5.58660117e-01,  1.69165560e-01,\n",
       "         3.04769348e-01,  3.43805643e-01, -1.87514955e-01,\n",
       "         2.93490996e-02,  8.81786571e-05, -3.40691827e-03,\n",
       "         5.69567188e-02,  1.00000639e+00]])"
      ]
     },
     "execution_count": 6,
     "metadata": {},
     "output_type": "execute_result"
    }
   ],
   "source": [
    "cov_matrix"
   ]
  },
  {
   "cell_type": "code",
   "execution_count": 7,
   "metadata": {},
   "outputs": [],
   "source": [
    "values, vectors = np.linalg.eig(cov_matrix)\n"
   ]
  },
  {
   "cell_type": "code",
   "execution_count": 8,
   "metadata": {},
   "outputs": [
    {
     "data": {
      "text/plain": [
       "array([3.41324295, 1.47287244, 0.12394501, 0.28793775, 0.36338736,\n",
       "       0.54528865, 1.16002951, 0.74974762, 0.87520579, 1.01035858,\n",
       "       0.9980546 ])"
      ]
     },
     "execution_count": 8,
     "metadata": {},
     "output_type": "execute_result"
    }
   ],
   "source": [
    "values"
   ]
  },
  {
   "cell_type": "code",
   "execution_count": 9,
   "metadata": {},
   "outputs": [
    {
     "data": {
      "text/plain": [
       "array([[-0.44090567,  0.15272914,  0.39370103,  0.44351541,  0.52788223,\n",
       "        -0.06624628, -0.09549135,  0.31829569, -0.10148883,  0.16337054,\n",
       "         0.01003477],\n",
       "       [ 0.2674372 ,  0.54789173,  0.17456387, -0.47719131,  0.31774041,\n",
       "        -0.39703181, -0.28325196, -0.09373628, -0.06748417, -0.13013272,\n",
       "         0.03174707],\n",
       "       [ 0.17568971, -0.09368035,  0.01526383, -0.10458604,  0.10593483,\n",
       "        -0.19890497,  0.08221118,  0.06799501,  0.63547184,  0.69273106,\n",
       "         0.05759975],\n",
       "       [ 0.45214971, -0.1134651 , -0.45708554,  0.05973002,  0.62590371,\n",
       "         0.35349032,  0.01452649,  0.11027033, -0.19373107,  0.05963665,\n",
       "         0.00466479],\n",
       "       [ 0.46951797, -0.15080077,  0.74315295,  0.04517582, -0.03244357,\n",
       "         0.31024058,  0.12275581, -0.21702592, -0.17406869,  0.11230627,\n",
       "        -0.01054449],\n",
       "       [-0.29264149, -0.14660338, -0.11559833,  0.01699296,  0.20610108,\n",
       "        -0.09248074, -0.11208462, -0.82728634, -0.21190638,  0.29256441,\n",
       "        -0.02687827],\n",
       "       [ 0.02349185,  0.0476244 , -0.00422318, -0.00638382,  0.00523188,\n",
       "        -0.01635651,  0.00145437,  0.02841378,  0.0288989 ,  0.04749754,\n",
       "        -0.99645669],\n",
       "       [ 0.02184437,  0.04711874, -0.05098986, -0.0680941 ,  0.02073425,\n",
       "        -0.40807045,  0.7958414 ,  0.08482193, -0.4040921 ,  0.1385288 ,\n",
       "         0.00869061],\n",
       "       [ 0.35715685, -0.31707333, -0.00696965,  0.52117021,  0.05659558,\n",
       "        -0.58916251, -0.11492769, -0.11161844,  0.13110624, -0.32685465,\n",
       "        -0.01520351],\n",
       "       [ 0.00280655,  0.50722477, -0.03167998,  0.28855842,  0.12618646,\n",
       "         0.23391561,  0.42619547, -0.34800641,  0.4567609 , -0.27626176,\n",
       "         0.01019396],\n",
       "       [ 0.25315845,  0.49830109, -0.1898881 ,  0.44630158, -0.39279783,\n",
       "        -0.00621861, -0.21870408,  0.0068064 , -0.28042923,  0.41247459,\n",
       "         0.03717238]])"
      ]
     },
     "execution_count": 9,
     "metadata": {},
     "output_type": "execute_result"
    }
   ],
   "source": [
    "vectors"
   ]
  },
  {
   "cell_type": "code",
   "execution_count": 10,
   "metadata": {},
   "outputs": [
    {
     "name": "stdout",
     "output_type": "stream",
     "text": [
      "0.9999999999999999 \n",
      " [0.31029283160711657, 0.13389663911394994, 0.011267656409888032, 0.02617599182364146, 0.0330350036041869, 0.04957137906739587, 0.10545655476465113, 0.0681584394287834, 0.0795636546002415, 0.09185019306886358, 0.09073165651128152]\n"
     ]
    }
   ],
   "source": [
    "explained_variances = []\n",
    "for i in range(len(values)):\n",
    "    explained_variances.append(values[i] / np.sum(values))\n",
    " \n",
    "print(np.sum(explained_variances), '\\n', explained_variances)"
   ]
  },
  {
   "cell_type": "code",
   "execution_count": 12,
   "metadata": {},
   "outputs": [],
   "source": [
    "projected = list()\n",
    "projected.append(X_scaled.dot(vectors.T[0]))\n",
    "projected.append(X_scaled.dot(vectors.T[1]))\n",
    "projected.append(X_scaled.dot(vectors.T[8]))\n",
    "projected.append(X_scaled.dot(vectors.T[9]))\n",
    "projected.append(X_scaled.dot(vectors.T[10]))\n",
    "projected.append(X_scaled.dot(vectors.T[6]))"
   ]
  },
  {
   "cell_type": "code",
   "execution_count": 13,
   "metadata": {},
   "outputs": [],
   "source": [
    "res = pd.DataFrame(projected)"
   ]
  },
  {
   "cell_type": "code",
   "execution_count": 14,
   "metadata": {},
   "outputs": [],
   "source": [
    "res = res.transpose()"
   ]
  },
  {
   "cell_type": "code",
   "execution_count": 15,
   "metadata": {},
   "outputs": [
    {
     "data": {
      "text/html": [
       "<div>\n",
       "<style scoped>\n",
       "    .dataframe tbody tr th:only-of-type {\n",
       "        vertical-align: middle;\n",
       "    }\n",
       "\n",
       "    .dataframe tbody tr th {\n",
       "        vertical-align: top;\n",
       "    }\n",
       "\n",
       "    .dataframe thead th {\n",
       "        text-align: right;\n",
       "    }\n",
       "</style>\n",
       "<table border=\"1\" class=\"dataframe\">\n",
       "  <thead>\n",
       "    <tr style=\"text-align: right;\">\n",
       "      <th></th>\n",
       "      <th>0</th>\n",
       "      <th>1</th>\n",
       "      <th>2</th>\n",
       "      <th>3</th>\n",
       "      <th>4</th>\n",
       "      <th>5</th>\n",
       "    </tr>\n",
       "  </thead>\n",
       "  <tbody>\n",
       "    <tr>\n",
       "      <td>0</td>\n",
       "      <td>-1.837902</td>\n",
       "      <td>3.678128</td>\n",
       "      <td>3.230907</td>\n",
       "      <td>0.075933</td>\n",
       "      <td>0.284615</td>\n",
       "      <td>4.769228</td>\n",
       "    </tr>\n",
       "    <tr>\n",
       "      <td>1</td>\n",
       "      <td>-1.681694</td>\n",
       "      <td>0.928355</td>\n",
       "      <td>0.045398</td>\n",
       "      <td>-0.145065</td>\n",
       "      <td>0.655138</td>\n",
       "      <td>-0.772907</td>\n",
       "    </tr>\n",
       "    <tr>\n",
       "      <td>2</td>\n",
       "      <td>-2.912556</td>\n",
       "      <td>0.482913</td>\n",
       "      <td>-1.053117</td>\n",
       "      <td>0.869567</td>\n",
       "      <td>1.501046</td>\n",
       "      <td>2.373253</td>\n",
       "    </tr>\n",
       "    <tr>\n",
       "      <td>3</td>\n",
       "      <td>-2.262620</td>\n",
       "      <td>-0.557104</td>\n",
       "      <td>-1.449247</td>\n",
       "      <td>-0.242818</td>\n",
       "      <td>1.406053</td>\n",
       "      <td>2.871014</td>\n",
       "    </tr>\n",
       "    <tr>\n",
       "      <td>4</td>\n",
       "      <td>-2.774952</td>\n",
       "      <td>0.350761</td>\n",
       "      <td>-0.245531</td>\n",
       "      <td>-1.132535</td>\n",
       "      <td>0.820946</td>\n",
       "      <td>0.985732</td>\n",
       "    </tr>\n",
       "  </tbody>\n",
       "</table>\n",
       "</div>"
      ],
      "text/plain": [
       "          0         1         2         3         4         5\n",
       "0 -1.837902  3.678128  3.230907  0.075933  0.284615  4.769228\n",
       "1 -1.681694  0.928355  0.045398 -0.145065  0.655138 -0.772907\n",
       "2 -2.912556  0.482913 -1.053117  0.869567  1.501046  2.373253\n",
       "3 -2.262620 -0.557104 -1.449247 -0.242818  1.406053  2.871014\n",
       "4 -2.774952  0.350761 -0.245531 -1.132535  0.820946  0.985732"
      ]
     },
     "execution_count": 15,
     "metadata": {},
     "output_type": "execute_result"
    }
   ],
   "source": [
    "res.head()"
   ]
  },
  {
   "cell_type": "code",
   "execution_count": 16,
   "metadata": {},
   "outputs": [],
   "source": [
    "df = df.join(res)"
   ]
  },
  {
   "cell_type": "code",
   "execution_count": 17,
   "metadata": {},
   "outputs": [
    {
     "data": {
      "text/html": [
       "<div>\n",
       "<style scoped>\n",
       "    .dataframe tbody tr th:only-of-type {\n",
       "        vertical-align: middle;\n",
       "    }\n",
       "\n",
       "    .dataframe tbody tr th {\n",
       "        vertical-align: top;\n",
       "    }\n",
       "\n",
       "    .dataframe thead th {\n",
       "        text-align: right;\n",
       "    }\n",
       "</style>\n",
       "<table border=\"1\" class=\"dataframe\">\n",
       "  <thead>\n",
       "    <tr style=\"text-align: right;\">\n",
       "      <th></th>\n",
       "      <th>acousticness</th>\n",
       "      <th>name</th>\n",
       "      <th>danceability</th>\n",
       "      <th>tempo</th>\n",
       "      <th>loudness</th>\n",
       "      <th>energy</th>\n",
       "      <th>id</th>\n",
       "      <th>instrumentalness</th>\n",
       "      <th>key</th>\n",
       "      <th>liveness</th>\n",
       "      <th>...</th>\n",
       "      <th>valence</th>\n",
       "      <th>year</th>\n",
       "      <th>artists</th>\n",
       "      <th>genres</th>\n",
       "      <th>0</th>\n",
       "      <th>1</th>\n",
       "      <th>2</th>\n",
       "      <th>3</th>\n",
       "      <th>4</th>\n",
       "      <th>5</th>\n",
       "    </tr>\n",
       "  </thead>\n",
       "  <tbody>\n",
       "    <tr>\n",
       "      <td>0</td>\n",
       "      <td>0.702</td>\n",
       "      <td>Kapitel 10 - In der Osternacht Anton Tschechow</td>\n",
       "      <td>0.586</td>\n",
       "      <td>0.003539</td>\n",
       "      <td>-0.004339</td>\n",
       "      <td>0.103</td>\n",
       "      <td>2bB8AoMI30VKEnF2sVKxrg</td>\n",
       "      <td>0.0</td>\n",
       "      <td>5.0</td>\n",
       "      <td>0.7110</td>\n",
       "      <td>...</td>\n",
       "      <td>0.385</td>\n",
       "      <td>1953.0</td>\n",
       "      <td>Anton Tschechow</td>\n",
       "      <td>['german literature']</td>\n",
       "      <td>-1.837902</td>\n",
       "      <td>3.678128</td>\n",
       "      <td>3.230907</td>\n",
       "      <td>0.075933</td>\n",
       "      <td>0.284615</td>\n",
       "      <td>4.769228</td>\n",
       "    </tr>\n",
       "    <tr>\n",
       "      <td>1</td>\n",
       "      <td>0.967</td>\n",
       "      <td>Il a fallu - Récital au Théâtre de L'etoile Yv...</td>\n",
       "      <td>0.621</td>\n",
       "      <td>0.002105</td>\n",
       "      <td>-0.002693</td>\n",
       "      <td>0.202</td>\n",
       "      <td>2avT9nqCaGg0EOA1ItgdlK</td>\n",
       "      <td>0.0</td>\n",
       "      <td>3.0</td>\n",
       "      <td>0.0842</td>\n",
       "      <td>...</td>\n",
       "      <td>0.453</td>\n",
       "      <td>1953.0</td>\n",
       "      <td>Yves Montand</td>\n",
       "      <td>['chanson']</td>\n",
       "      <td>-1.681694</td>\n",
       "      <td>0.928355</td>\n",
       "      <td>0.045398</td>\n",
       "      <td>-0.145065</td>\n",
       "      <td>0.655138</td>\n",
       "      <td>-0.772907</td>\n",
       "    </tr>\n",
       "  </tbody>\n",
       "</table>\n",
       "<p>2 rows × 22 columns</p>\n",
       "</div>"
      ],
      "text/plain": [
       "   acousticness                                               name  \\\n",
       "0         0.702     Kapitel 10 - In der Osternacht Anton Tschechow   \n",
       "1         0.967  Il a fallu - Récital au Théâtre de L'etoile Yv...   \n",
       "\n",
       "   danceability     tempo  loudness  energy                      id  \\\n",
       "0         0.586  0.003539 -0.004339   0.103  2bB8AoMI30VKEnF2sVKxrg   \n",
       "1         0.621  0.002105 -0.002693   0.202  2avT9nqCaGg0EOA1ItgdlK   \n",
       "\n",
       "   instrumentalness  key  liveness  ...  valence    year          artists  \\\n",
       "0               0.0  5.0    0.7110  ...    0.385  1953.0  Anton Tschechow   \n",
       "1               0.0  3.0    0.0842  ...    0.453  1953.0     Yves Montand   \n",
       "\n",
       "                  genres         0         1         2         3         4  \\\n",
       "0  ['german literature'] -1.837902  3.678128  3.230907  0.075933  0.284615   \n",
       "1            ['chanson'] -1.681694  0.928355  0.045398 -0.145065  0.655138   \n",
       "\n",
       "          5  \n",
       "0  4.769228  \n",
       "1 -0.772907  \n",
       "\n",
       "[2 rows x 22 columns]"
      ]
     },
     "execution_count": 17,
     "metadata": {},
     "output_type": "execute_result"
    }
   ],
   "source": [
    "df.head(2)"
   ]
  },
  {
   "cell_type": "code",
   "execution_count": 18,
   "metadata": {},
   "outputs": [],
   "source": [
    "df = df[['name','id','artists','genres','year',0,1,2,3,4,5]]"
   ]
  },
  {
   "cell_type": "code",
   "execution_count": 19,
   "metadata": {
    "scrolled": true
   },
   "outputs": [
    {
     "data": {
      "text/html": [
       "<div>\n",
       "<style scoped>\n",
       "    .dataframe tbody tr th:only-of-type {\n",
       "        vertical-align: middle;\n",
       "    }\n",
       "\n",
       "    .dataframe tbody tr th {\n",
       "        vertical-align: top;\n",
       "    }\n",
       "\n",
       "    .dataframe thead th {\n",
       "        text-align: right;\n",
       "    }\n",
       "</style>\n",
       "<table border=\"1\" class=\"dataframe\">\n",
       "  <thead>\n",
       "    <tr style=\"text-align: right;\">\n",
       "      <th></th>\n",
       "      <th>name</th>\n",
       "      <th>id</th>\n",
       "      <th>artists</th>\n",
       "      <th>genres</th>\n",
       "      <th>year</th>\n",
       "      <th>0</th>\n",
       "      <th>1</th>\n",
       "      <th>2</th>\n",
       "      <th>3</th>\n",
       "      <th>4</th>\n",
       "      <th>5</th>\n",
       "    </tr>\n",
       "  </thead>\n",
       "  <tbody>\n",
       "    <tr>\n",
       "      <td>0</td>\n",
       "      <td>Kapitel 10 - In der Osternacht Anton Tschechow</td>\n",
       "      <td>2bB8AoMI30VKEnF2sVKxrg</td>\n",
       "      <td>Anton Tschechow</td>\n",
       "      <td>['german literature']</td>\n",
       "      <td>1953.0</td>\n",
       "      <td>-1.837902</td>\n",
       "      <td>3.678128</td>\n",
       "      <td>3.230907</td>\n",
       "      <td>0.075933</td>\n",
       "      <td>0.284615</td>\n",
       "      <td>4.769228</td>\n",
       "    </tr>\n",
       "    <tr>\n",
       "      <td>1</td>\n",
       "      <td>Il a fallu - Récital au Théâtre de L'etoile Yv...</td>\n",
       "      <td>2avT9nqCaGg0EOA1ItgdlK</td>\n",
       "      <td>Yves Montand</td>\n",
       "      <td>['chanson']</td>\n",
       "      <td>1953.0</td>\n",
       "      <td>-1.681694</td>\n",
       "      <td>0.928355</td>\n",
       "      <td>0.045398</td>\n",
       "      <td>-0.145065</td>\n",
       "      <td>0.655138</td>\n",
       "      <td>-0.772907</td>\n",
       "    </tr>\n",
       "    <tr>\n",
       "      <td>2</td>\n",
       "      <td>Flute Duet Young Hanunóo girl and her mother</td>\n",
       "      <td>2acrbSyCcVPeE2hFFcxpvd</td>\n",
       "      <td>Young Hanunóo girl and her mother</td>\n",
       "      <td>[]</td>\n",
       "      <td>1953.0</td>\n",
       "      <td>-2.912556</td>\n",
       "      <td>0.482913</td>\n",
       "      <td>-1.053117</td>\n",
       "      <td>0.869567</td>\n",
       "      <td>1.501046</td>\n",
       "      <td>2.373253</td>\n",
       "    </tr>\n",
       "    <tr>\n",
       "      <td>3</td>\n",
       "      <td>Mascagni: Cavalleria rusticana: \"Tu qui, Santu...</td>\n",
       "      <td>2aZodKpBxuFEODS2npO5lt</td>\n",
       "      <td>Pietro Mascagni</td>\n",
       "      <td>['classical', 'italian opera', 'post-romantic ...</td>\n",
       "      <td>1953.0</td>\n",
       "      <td>-2.262620</td>\n",
       "      <td>-0.557104</td>\n",
       "      <td>-1.449247</td>\n",
       "      <td>-0.242818</td>\n",
       "      <td>1.406053</td>\n",
       "      <td>2.871014</td>\n",
       "    </tr>\n",
       "    <tr>\n",
       "      <td>4</td>\n",
       "      <td>Elektra, Op. 58, TrV 223: Wo bleibt Elektra? (...</td>\n",
       "      <td>2auzLo58UkDBZO9CnngDst</td>\n",
       "      <td>Richard Strauss</td>\n",
       "      <td>['classical', 'early modern classical', 'post-...</td>\n",
       "      <td>1953.0</td>\n",
       "      <td>-2.774952</td>\n",
       "      <td>0.350761</td>\n",
       "      <td>-0.245531</td>\n",
       "      <td>-1.132535</td>\n",
       "      <td>0.820946</td>\n",
       "      <td>0.985732</td>\n",
       "    </tr>\n",
       "  </tbody>\n",
       "</table>\n",
       "</div>"
      ],
      "text/plain": [
       "                                                name                      id  \\\n",
       "0     Kapitel 10 - In der Osternacht Anton Tschechow  2bB8AoMI30VKEnF2sVKxrg   \n",
       "1  Il a fallu - Récital au Théâtre de L'etoile Yv...  2avT9nqCaGg0EOA1ItgdlK   \n",
       "2       Flute Duet Young Hanunóo girl and her mother  2acrbSyCcVPeE2hFFcxpvd   \n",
       "3  Mascagni: Cavalleria rusticana: \"Tu qui, Santu...  2aZodKpBxuFEODS2npO5lt   \n",
       "4  Elektra, Op. 58, TrV 223: Wo bleibt Elektra? (...  2auzLo58UkDBZO9CnngDst   \n",
       "\n",
       "                             artists  \\\n",
       "0                    Anton Tschechow   \n",
       "1                       Yves Montand   \n",
       "2  Young Hanunóo girl and her mother   \n",
       "3                    Pietro Mascagni   \n",
       "4                    Richard Strauss   \n",
       "\n",
       "                                              genres    year         0  \\\n",
       "0                              ['german literature']  1953.0 -1.837902   \n",
       "1                                        ['chanson']  1953.0 -1.681694   \n",
       "2                                                 []  1953.0 -2.912556   \n",
       "3  ['classical', 'italian opera', 'post-romantic ...  1953.0 -2.262620   \n",
       "4  ['classical', 'early modern classical', 'post-...  1953.0 -2.774952   \n",
       "\n",
       "          1         2         3         4         5  \n",
       "0  3.678128  3.230907  0.075933  0.284615  4.769228  \n",
       "1  0.928355  0.045398 -0.145065  0.655138 -0.772907  \n",
       "2  0.482913 -1.053117  0.869567  1.501046  2.373253  \n",
       "3 -0.557104 -1.449247 -0.242818  1.406053  2.871014  \n",
       "4  0.350761 -0.245531 -1.132535  0.820946  0.985732  "
      ]
     },
     "execution_count": 19,
     "metadata": {},
     "output_type": "execute_result"
    }
   ],
   "source": [
    "df.head()"
   ]
  },
  {
   "cell_type": "code",
   "execution_count": 20,
   "metadata": {},
   "outputs": [
    {
     "data": {
      "text/plain": [
       "(156581, 11)"
      ]
     },
     "execution_count": 20,
     "metadata": {},
     "output_type": "execute_result"
    }
   ],
   "source": [
    "df.shape"
   ]
  },
  {
   "cell_type": "code",
   "execution_count": 21,
   "metadata": {},
   "outputs": [],
   "source": [
    "df.to_csv('PCADWG.csv')"
   ]
  },
  {
   "cell_type": "code",
   "execution_count": null,
   "metadata": {},
   "outputs": [],
   "source": []
  }
 ],
 "metadata": {
  "kernelspec": {
   "display_name": "Python 3",
   "language": "python",
   "name": "python3"
  },
  "language_info": {
   "codemirror_mode": {
    "name": "ipython",
    "version": 3
   },
   "file_extension": ".py",
   "mimetype": "text/x-python",
   "name": "python",
   "nbconvert_exporter": "python",
   "pygments_lexer": "ipython3",
   "version": "3.7.4"
  }
 },
 "nbformat": 4,
 "nbformat_minor": 2
}
