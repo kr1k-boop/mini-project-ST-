{
 "cells": [
  {
   "cell_type": "code",
   "execution_count": null,
   "metadata": {},
   "outputs": [],
   "source": [
    "def cosine_distance(a,b):\n",
    "       \n",
    "    distance=1-np.dot(a,b)/np.sqrt(np.dot(a,a)*np.dot(b,b))\n",
    "    return distance"
   ]
  },
  {
   "cell_type": "code",
   "execution_count": null,
   "metadata": {},
   "outputs": [],
   "source": [
    "class KNearestNeighbors(object):\n",
    "    \n",
    "    def __init__(self,k,distance):\n",
    "        self.k=k\n",
    "        self.distance=distance\n",
    "        self.X_train=np.asarray([])\n",
    "        self.y_train=np.asarray([])\n",
    "        \n",
    "    def fit(self,X,y):\n",
    "        self.X_train=X\n",
    "        self.y_train=y\n",
    "        \n",
    "    def predict(self,X):\n",
    "        X=X.reshape((-1,self.X_train.shape[1]))\n",
    "        \n",
    "        #Creating matrix to store distance\n",
    "        distances=np.zeros((X.shape[0],self.X_train.shape[0]))\n",
    "        for i,x in enumerate(X):\n",
    "            for j,x_train in enumerate(self.X_train):\n",
    "                distances[i,j]=self.distance(x_train,x)\n",
    "        #Storing the indices of top k elements where distance is in increasing order\n",
    "        sorted_indices=distances.argsort()[:,:self.k]\n",
    "        top_k = self.y_train[sorted_indices]  #sort and take top k\n",
    "        result = np.zeros(X.shape[0])\n",
    "        for i, values in enumerate(top_k):\n",
    "            result[i] = Counter(values).most_common(1)[0][0]\n",
    "        return result"
   ]
  }
 ],
 "metadata": {
  "kernelspec": {
   "display_name": "Python 3",
   "language": "python",
   "name": "python3"
  },
  "language_info": {
   "codemirror_mode": {
    "name": "ipython",
    "version": 3
   },
   "file_extension": ".py",
   "mimetype": "text/x-python",
   "name": "python",
   "nbconvert_exporter": "python",
   "pygments_lexer": "ipython3",
   "version": "3.7.4"
  }
 },
 "nbformat": 4,
 "nbformat_minor": 2
}
