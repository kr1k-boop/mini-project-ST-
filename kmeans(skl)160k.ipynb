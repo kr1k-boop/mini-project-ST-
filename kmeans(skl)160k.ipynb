{
  "nbformat": 4,
  "nbformat_minor": 0,
  "metadata": {
    "colab": {
      "name": "kmeans(skl)160k.ipynb",
      "provenance": [],
      "authorship_tag": "ABX9TyPV29GTgOTsTHWtMHUwQJbA",
      "include_colab_link": true
    },
    "kernelspec": {
      "name": "python3",
      "display_name": "Python 3"
    }
  },
  "cells": [
    {
      "cell_type": "markdown",
      "metadata": {
        "id": "view-in-github",
        "colab_type": "text"
      },
      "source": [
        "<a href=\"https://colab.research.google.com/github/kr1k-boop/mini-project-ST-/blob/main/kmeans(skl)160k.ipynb\" target=\"_parent\"><img src=\"https://colab.research.google.com/assets/colab-badge.svg\" alt=\"Open In Colab\"/></a>"
      ]
    },
    {
      "cell_type": "code",
      "metadata": {
        "id": "F_s_8vrdkOaa"
      },
      "source": [
        "import numpy as np\n",
        "import matplotlib.pyplot as plt\n",
        "import pandas as pd\n",
        "from sklearn.cluster import KMeans\n",
        "from sklearn.preprocessing import LabelEncoder"
      ],
      "execution_count": 1,
      "outputs": []
    },
    {
      "cell_type": "code",
      "metadata": {
        "colab": {
          "base_uri": "https://localhost:8080/"
        },
        "id": "2no7vSBKkYQq",
        "outputId": "0009199d-ec42-44d5-8475-5a634130fed7"
      },
      "source": [
        "from google.colab import drive\n",
        "drive.mount('/content/drive')"
      ],
      "execution_count": 2,
      "outputs": [
        {
          "output_type": "stream",
          "text": [
            "Mounted at /content/drive\n"
          ],
          "name": "stdout"
        }
      ]
    },
    {
      "cell_type": "code",
      "metadata": {
        "id": "nqDaZ2RKk6Bl"
      },
      "source": [
        "df = pd.read_csv('/content/drive/MyDrive/finale (2).csv', low_memory=False)"
      ],
      "execution_count": 3,
      "outputs": []
    },
    {
      "cell_type": "code",
      "metadata": {
        "id": "fAEEN3A60u5g"
      },
      "source": [
        "df.drop(['Unnamed: 0'], axis =1, inplace=True)"
      ],
      "execution_count": 4,
      "outputs": []
    },
    {
      "cell_type": "code",
      "metadata": {
        "id": "BCVAAjB21KBr"
      },
      "source": [
        "df.drop(['userid','playcount'], axis=1, inplace=True)"
      ],
      "execution_count": 5,
      "outputs": []
    },
    {
      "cell_type": "code",
      "metadata": {
        "id": "hoGI8NXZ1MRj"
      },
      "source": [
        "df.drop_duplicates(inplace=True)"
      ],
      "execution_count": 6,
      "outputs": []
    },
    {
      "cell_type": "code",
      "metadata": {
        "colab": {
          "base_uri": "https://localhost:8080/",
          "height": 499
        },
        "id": "XWhKdp-WZ4k_",
        "outputId": "2691df0a-8c1d-4a27-e550-014f621fdb79"
      },
      "source": [
        "df.head()"
      ],
      "execution_count": 7,
      "outputs": [
        {
          "output_type": "execute_result",
          "data": {
            "text/html": [
              "<div>\n",
              "<style scoped>\n",
              "    .dataframe tbody tr th:only-of-type {\n",
              "        vertical-align: middle;\n",
              "    }\n",
              "\n",
              "    .dataframe tbody tr th {\n",
              "        vertical-align: top;\n",
              "    }\n",
              "\n",
              "    .dataframe thead th {\n",
              "        text-align: right;\n",
              "    }\n",
              "</style>\n",
              "<table border=\"1\" class=\"dataframe\">\n",
              "  <thead>\n",
              "    <tr style=\"text-align: right;\">\n",
              "      <th></th>\n",
              "      <th>acousticness</th>\n",
              "      <th>name</th>\n",
              "      <th>danceability</th>\n",
              "      <th>tempo</th>\n",
              "      <th>loudness</th>\n",
              "      <th>energy</th>\n",
              "      <th>id</th>\n",
              "      <th>instrumentalness</th>\n",
              "      <th>key</th>\n",
              "      <th>liveness</th>\n",
              "      <th>popularity</th>\n",
              "      <th>speechiness</th>\n",
              "      <th>valence</th>\n",
              "      <th>year</th>\n",
              "    </tr>\n",
              "  </thead>\n",
              "  <tbody>\n",
              "    <tr>\n",
              "      <th>0</th>\n",
              "      <td>0.995</td>\n",
              "      <td>Singende Bataillone 1. Teil Carl Woitschach</td>\n",
              "      <td>0.708</td>\n",
              "      <td>0.002377</td>\n",
              "      <td>-0.002373</td>\n",
              "      <td>0.1950</td>\n",
              "      <td>6KbQ3uYMLKb5jDxLF7wYDD</td>\n",
              "      <td>0.563</td>\n",
              "      <td>10.0</td>\n",
              "      <td>0.1510</td>\n",
              "      <td>0.0</td>\n",
              "      <td>0.0506</td>\n",
              "      <td>0.7790</td>\n",
              "      <td>1928.0</td>\n",
              "    </tr>\n",
              "    <tr>\n",
              "      <th>1</th>\n",
              "      <td>0.994</td>\n",
              "      <td>Fantasiestücke, Op. 111: Più tosto lento Rober...</td>\n",
              "      <td>0.379</td>\n",
              "      <td>0.001685</td>\n",
              "      <td>-0.005434</td>\n",
              "      <td>0.0135</td>\n",
              "      <td>6KuQTIu1KoTTkLXKrwlLPV</td>\n",
              "      <td>0.901</td>\n",
              "      <td>8.0</td>\n",
              "      <td>0.0763</td>\n",
              "      <td>0.0</td>\n",
              "      <td>0.0462</td>\n",
              "      <td>0.0767</td>\n",
              "      <td>1928.0</td>\n",
              "    </tr>\n",
              "    <tr>\n",
              "      <th>2</th>\n",
              "      <td>0.994</td>\n",
              "      <td>Fantasiestücke, Op. 111: Più tosto lento Rober...</td>\n",
              "      <td>0.379</td>\n",
              "      <td>0.001685</td>\n",
              "      <td>-0.005434</td>\n",
              "      <td>0.0135</td>\n",
              "      <td>2YPbmbRIo7I1r9FAMqNjbZ</td>\n",
              "      <td>0.901</td>\n",
              "      <td>8.0</td>\n",
              "      <td>0.0763</td>\n",
              "      <td>0.0</td>\n",
              "      <td>0.0462</td>\n",
              "      <td>0.0767</td>\n",
              "      <td>1928.0</td>\n",
              "    </tr>\n",
              "    <tr>\n",
              "      <th>3</th>\n",
              "      <td>0.604</td>\n",
              "      <td>Chapter 1.18 - Zamek kaniowski Seweryn Goszczy...</td>\n",
              "      <td>0.749</td>\n",
              "      <td>0.002150</td>\n",
              "      <td>-0.003805</td>\n",
              "      <td>0.2200</td>\n",
              "      <td>6L63VW0PibdM1HDSBoqnoM</td>\n",
              "      <td>0.000</td>\n",
              "      <td>5.0</td>\n",
              "      <td>0.1190</td>\n",
              "      <td>0.0</td>\n",
              "      <td>0.9290</td>\n",
              "      <td>0.8800</td>\n",
              "      <td>1928.0</td>\n",
              "    </tr>\n",
              "    <tr>\n",
              "      <th>4</th>\n",
              "      <td>0.995</td>\n",
              "      <td>Bebamos Juntos - Instrumental (Remasterizado) ...</td>\n",
              "      <td>0.781</td>\n",
              "      <td>0.002167</td>\n",
              "      <td>-0.002814</td>\n",
              "      <td>0.1300</td>\n",
              "      <td>6M94FkXd15sOAOQYRnWPN8</td>\n",
              "      <td>0.887</td>\n",
              "      <td>1.0</td>\n",
              "      <td>0.1110</td>\n",
              "      <td>0.0</td>\n",
              "      <td>0.0926</td>\n",
              "      <td>0.7200</td>\n",
              "      <td>1928.0</td>\n",
              "    </tr>\n",
              "  </tbody>\n",
              "</table>\n",
              "</div>"
            ],
            "text/plain": [
              "   acousticness  ...    year\n",
              "0         0.995  ...  1928.0\n",
              "1         0.994  ...  1928.0\n",
              "2         0.994  ...  1928.0\n",
              "3         0.604  ...  1928.0\n",
              "4         0.995  ...  1928.0\n",
              "\n",
              "[5 rows x 14 columns]"
            ]
          },
          "metadata": {
            "tags": []
          },
          "execution_count": 7
        }
      ]
    },
    {
      "cell_type": "code",
      "metadata": {
        "colab": {
          "base_uri": "https://localhost:8080/"
        },
        "id": "M_egLsYh1coi",
        "outputId": "d7834a84-2873-43d2-a642-ca876cca0d8f"
      },
      "source": [
        "df.shape"
      ],
      "execution_count": 8,
      "outputs": [
        {
          "output_type": "execute_result",
          "data": {
            "text/plain": [
              "(169909, 14)"
            ]
          },
          "metadata": {
            "tags": []
          },
          "execution_count": 8
        }
      ]
    },
    {
      "cell_type": "code",
      "metadata": {
        "colab": {
          "base_uri": "https://localhost:8080/"
        },
        "id": "Xf7H1714e92K",
        "outputId": "3d466480-c6fb-494e-d81c-f1901e2dc510"
      },
      "source": [
        "df.dtypes"
      ],
      "execution_count": 9,
      "outputs": [
        {
          "output_type": "execute_result",
          "data": {
            "text/plain": [
              "acousticness        float64\n",
              "name                 object\n",
              "danceability        float64\n",
              "tempo               float64\n",
              "loudness            float64\n",
              "energy              float64\n",
              "id                   object\n",
              "instrumentalness    float64\n",
              "key                 float64\n",
              "liveness            float64\n",
              "popularity          float64\n",
              "speechiness         float64\n",
              "valence             float64\n",
              "year                float64\n",
              "dtype: object"
            ]
          },
          "metadata": {
            "tags": []
          },
          "execution_count": 9
        }
      ]
    },
    {
      "cell_type": "code",
      "metadata": {
        "id": "J62PeAdTBeNN"
      },
      "source": [
        "le = LabelEncoder()\n",
        "n_id= le.fit_transform(df['id'])"
      ],
      "execution_count": 10,
      "outputs": []
    },
    {
      "cell_type": "code",
      "metadata": {
        "id": "hvu61PJsBklV"
      },
      "source": [
        "df.insert(14, 'song_id', n_id)"
      ],
      "execution_count": 11,
      "outputs": []
    },
    {
      "cell_type": "code",
      "metadata": {
        "id": "-VfzkHsRBs1u"
      },
      "source": [
        "df.drop('id', axis=1, inplace=True)"
      ],
      "execution_count": 12,
      "outputs": []
    },
    {
      "cell_type": "code",
      "metadata": {
        "colab": {
          "base_uri": "https://localhost:8080/",
          "height": 1000
        },
        "id": "IEd6d2SnBvhm",
        "outputId": "ccfbc699-c396-466d-c772-db59f02ada21"
      },
      "source": [
        "df.head(25)"
      ],
      "execution_count": 13,
      "outputs": [
        {
          "output_type": "execute_result",
          "data": {
            "text/html": [
              "<div>\n",
              "<style scoped>\n",
              "    .dataframe tbody tr th:only-of-type {\n",
              "        vertical-align: middle;\n",
              "    }\n",
              "\n",
              "    .dataframe tbody tr th {\n",
              "        vertical-align: top;\n",
              "    }\n",
              "\n",
              "    .dataframe thead th {\n",
              "        text-align: right;\n",
              "    }\n",
              "</style>\n",
              "<table border=\"1\" class=\"dataframe\">\n",
              "  <thead>\n",
              "    <tr style=\"text-align: right;\">\n",
              "      <th></th>\n",
              "      <th>acousticness</th>\n",
              "      <th>name</th>\n",
              "      <th>danceability</th>\n",
              "      <th>tempo</th>\n",
              "      <th>loudness</th>\n",
              "      <th>energy</th>\n",
              "      <th>instrumentalness</th>\n",
              "      <th>key</th>\n",
              "      <th>liveness</th>\n",
              "      <th>popularity</th>\n",
              "      <th>speechiness</th>\n",
              "      <th>valence</th>\n",
              "      <th>year</th>\n",
              "      <th>song_id</th>\n",
              "    </tr>\n",
              "  </thead>\n",
              "  <tbody>\n",
              "    <tr>\n",
              "      <th>0</th>\n",
              "      <td>0.995</td>\n",
              "      <td>Singende Bataillone 1. Teil Carl Woitschach</td>\n",
              "      <td>0.708</td>\n",
              "      <td>0.002377</td>\n",
              "      <td>-0.002373</td>\n",
              "      <td>0.1950</td>\n",
              "      <td>0.563</td>\n",
              "      <td>10.0</td>\n",
              "      <td>0.1510</td>\n",
              "      <td>0.0</td>\n",
              "      <td>0.0506</td>\n",
              "      <td>0.7790</td>\n",
              "      <td>1928.0</td>\n",
              "      <td>140959</td>\n",
              "    </tr>\n",
              "    <tr>\n",
              "      <th>1</th>\n",
              "      <td>0.994</td>\n",
              "      <td>Fantasiestücke, Op. 111: Più tosto lento Rober...</td>\n",
              "      <td>0.379</td>\n",
              "      <td>0.001685</td>\n",
              "      <td>-0.005434</td>\n",
              "      <td>0.0135</td>\n",
              "      <td>0.901</td>\n",
              "      <td>8.0</td>\n",
              "      <td>0.0763</td>\n",
              "      <td>0.0</td>\n",
              "      <td>0.0462</td>\n",
              "      <td>0.0767</td>\n",
              "      <td>1928.0</td>\n",
              "      <td>141059</td>\n",
              "    </tr>\n",
              "    <tr>\n",
              "      <th>2</th>\n",
              "      <td>0.994</td>\n",
              "      <td>Fantasiestücke, Op. 111: Più tosto lento Rober...</td>\n",
              "      <td>0.379</td>\n",
              "      <td>0.001685</td>\n",
              "      <td>-0.005434</td>\n",
              "      <td>0.0135</td>\n",
              "      <td>0.901</td>\n",
              "      <td>8.0</td>\n",
              "      <td>0.0763</td>\n",
              "      <td>0.0</td>\n",
              "      <td>0.0462</td>\n",
              "      <td>0.0767</td>\n",
              "      <td>1928.0</td>\n",
              "      <td>60998</td>\n",
              "    </tr>\n",
              "    <tr>\n",
              "      <th>3</th>\n",
              "      <td>0.604</td>\n",
              "      <td>Chapter 1.18 - Zamek kaniowski Seweryn Goszczy...</td>\n",
              "      <td>0.749</td>\n",
              "      <td>0.002150</td>\n",
              "      <td>-0.003805</td>\n",
              "      <td>0.2200</td>\n",
              "      <td>0.000</td>\n",
              "      <td>5.0</td>\n",
              "      <td>0.1190</td>\n",
              "      <td>0.0</td>\n",
              "      <td>0.9290</td>\n",
              "      <td>0.8800</td>\n",
              "      <td>1928.0</td>\n",
              "      <td>141124</td>\n",
              "    </tr>\n",
              "    <tr>\n",
              "      <th>4</th>\n",
              "      <td>0.995</td>\n",
              "      <td>Bebamos Juntos - Instrumental (Remasterizado) ...</td>\n",
              "      <td>0.781</td>\n",
              "      <td>0.002167</td>\n",
              "      <td>-0.002814</td>\n",
              "      <td>0.1300</td>\n",
              "      <td>0.887</td>\n",
              "      <td>1.0</td>\n",
              "      <td>0.1110</td>\n",
              "      <td>0.0</td>\n",
              "      <td>0.0926</td>\n",
              "      <td>0.7200</td>\n",
              "      <td>1928.0</td>\n",
              "      <td>141446</td>\n",
              "    </tr>\n",
              "    <tr>\n",
              "      <th>5</th>\n",
              "      <td>0.990</td>\n",
              "      <td>Polonaise-Fantaisie in A-Flat Major, Op. 61 Fr...</td>\n",
              "      <td>0.210</td>\n",
              "      <td>0.001247</td>\n",
              "      <td>-0.003214</td>\n",
              "      <td>0.2040</td>\n",
              "      <td>0.908</td>\n",
              "      <td>11.0</td>\n",
              "      <td>0.0980</td>\n",
              "      <td>1.0</td>\n",
              "      <td>0.0424</td>\n",
              "      <td>0.0693</td>\n",
              "      <td>1928.0</td>\n",
              "      <td>141777</td>\n",
              "    </tr>\n",
              "    <tr>\n",
              "      <th>6</th>\n",
              "      <td>0.992</td>\n",
              "      <td>Polonaise-Fantaisie in A-Flat Major, Op. 61 Fr...</td>\n",
              "      <td>0.301</td>\n",
              "      <td>0.002755</td>\n",
              "      <td>-0.004446</td>\n",
              "      <td>0.0823</td>\n",
              "      <td>0.852</td>\n",
              "      <td>1.0</td>\n",
              "      <td>0.0870</td>\n",
              "      <td>0.0</td>\n",
              "      <td>0.0382</td>\n",
              "      <td>0.0548</td>\n",
              "      <td>1928.0</td>\n",
              "      <td>154628</td>\n",
              "    </tr>\n",
              "    <tr>\n",
              "      <th>7</th>\n",
              "      <td>0.992</td>\n",
              "      <td>Polonaise-Fantaisie in A-Flat Major, Op. 61 Fr...</td>\n",
              "      <td>0.301</td>\n",
              "      <td>0.002755</td>\n",
              "      <td>-0.004446</td>\n",
              "      <td>0.0823</td>\n",
              "      <td>0.852</td>\n",
              "      <td>1.0</td>\n",
              "      <td>0.0870</td>\n",
              "      <td>0.0</td>\n",
              "      <td>0.0382</td>\n",
              "      <td>0.0548</td>\n",
              "      <td>1928.0</td>\n",
              "      <td>161558</td>\n",
              "    </tr>\n",
              "    <tr>\n",
              "      <th>8</th>\n",
              "      <td>0.992</td>\n",
              "      <td>Polonaise-Fantaisie in A-Flat Major, Op. 61 Fr...</td>\n",
              "      <td>0.313</td>\n",
              "      <td>0.002730</td>\n",
              "      <td>-0.004257</td>\n",
              "      <td>0.0955</td>\n",
              "      <td>0.864</td>\n",
              "      <td>1.0</td>\n",
              "      <td>0.0899</td>\n",
              "      <td>0.0</td>\n",
              "      <td>0.0362</td>\n",
              "      <td>0.0676</td>\n",
              "      <td>1928.0</td>\n",
              "      <td>58386</td>\n",
              "    </tr>\n",
              "    <tr>\n",
              "      <th>9</th>\n",
              "      <td>0.990</td>\n",
              "      <td>Polonaise-Fantaisie in A-Flat Major, Op. 61 Fr...</td>\n",
              "      <td>0.301</td>\n",
              "      <td>0.002674</td>\n",
              "      <td>-0.004113</td>\n",
              "      <td>0.1370</td>\n",
              "      <td>0.857</td>\n",
              "      <td>11.0</td>\n",
              "      <td>0.8770</td>\n",
              "      <td>0.0</td>\n",
              "      <td>0.0352</td>\n",
              "      <td>0.0561</td>\n",
              "      <td>1928.0</td>\n",
              "      <td>64237</td>\n",
              "    </tr>\n",
              "    <tr>\n",
              "      <th>10</th>\n",
              "      <td>0.995</td>\n",
              "      <td>Scherzo a capriccio: Presto Felix Mendelssohn ...</td>\n",
              "      <td>0.424</td>\n",
              "      <td>0.001274</td>\n",
              "      <td>-0.003674</td>\n",
              "      <td>0.1200</td>\n",
              "      <td>0.911</td>\n",
              "      <td>6.0</td>\n",
              "      <td>0.0915</td>\n",
              "      <td>0.0</td>\n",
              "      <td>0.0593</td>\n",
              "      <td>0.2660</td>\n",
              "      <td>1928.0</td>\n",
              "      <td>142060</td>\n",
              "    </tr>\n",
              "    <tr>\n",
              "      <th>11</th>\n",
              "      <td>0.995</td>\n",
              "      <td>Scherzo a capriccio: Presto Felix Mendelssohn ...</td>\n",
              "      <td>0.424</td>\n",
              "      <td>0.001274</td>\n",
              "      <td>-0.003674</td>\n",
              "      <td>0.1200</td>\n",
              "      <td>0.911</td>\n",
              "      <td>6.0</td>\n",
              "      <td>0.0915</td>\n",
              "      <td>0.0</td>\n",
              "      <td>0.0593</td>\n",
              "      <td>0.2660</td>\n",
              "      <td>1928.0</td>\n",
              "      <td>93494</td>\n",
              "    </tr>\n",
              "    <tr>\n",
              "      <th>12</th>\n",
              "      <td>0.995</td>\n",
              "      <td>Scherzo a capriccio: Presto Felix Mendelssohn ...</td>\n",
              "      <td>0.441</td>\n",
              "      <td>0.002554</td>\n",
              "      <td>-0.003854</td>\n",
              "      <td>0.1090</td>\n",
              "      <td>0.916</td>\n",
              "      <td>6.0</td>\n",
              "      <td>0.0917</td>\n",
              "      <td>4.0</td>\n",
              "      <td>0.0523</td>\n",
              "      <td>0.3140</td>\n",
              "      <td>1942.0</td>\n",
              "      <td>104986</td>\n",
              "    </tr>\n",
              "    <tr>\n",
              "      <th>13</th>\n",
              "      <td>0.956</td>\n",
              "      <td>Valse oubliée No. 1 in F-Sharp Major, S. 215/1...</td>\n",
              "      <td>0.444</td>\n",
              "      <td>0.001615</td>\n",
              "      <td>-0.003290</td>\n",
              "      <td>0.1970</td>\n",
              "      <td>0.435</td>\n",
              "      <td>11.0</td>\n",
              "      <td>0.0744</td>\n",
              "      <td>0.0</td>\n",
              "      <td>0.0400</td>\n",
              "      <td>0.3050</td>\n",
              "      <td>1928.0</td>\n",
              "      <td>142075</td>\n",
              "    </tr>\n",
              "    <tr>\n",
              "      <th>14</th>\n",
              "      <td>0.962</td>\n",
              "      <td>Valse oubliée No. 1 in F-Sharp Major, S. 215/1...</td>\n",
              "      <td>0.328</td>\n",
              "      <td>0.001764</td>\n",
              "      <td>-0.004328</td>\n",
              "      <td>0.1060</td>\n",
              "      <td>0.586</td>\n",
              "      <td>11.0</td>\n",
              "      <td>0.2430</td>\n",
              "      <td>7.0</td>\n",
              "      <td>0.0349</td>\n",
              "      <td>0.2710</td>\n",
              "      <td>1930.0</td>\n",
              "      <td>78845</td>\n",
              "    </tr>\n",
              "    <tr>\n",
              "      <th>15</th>\n",
              "      <td>0.956</td>\n",
              "      <td>Valse oubliée No. 1 in F-Sharp Major, S. 215/1...</td>\n",
              "      <td>0.444</td>\n",
              "      <td>0.001615</td>\n",
              "      <td>-0.003290</td>\n",
              "      <td>0.1970</td>\n",
              "      <td>0.435</td>\n",
              "      <td>11.0</td>\n",
              "      <td>0.0744</td>\n",
              "      <td>0.0</td>\n",
              "      <td>0.0400</td>\n",
              "      <td>0.3050</td>\n",
              "      <td>1928.0</td>\n",
              "      <td>86340</td>\n",
              "    </tr>\n",
              "    <tr>\n",
              "      <th>16</th>\n",
              "      <td>0.988</td>\n",
              "      <td>Per aspera ad astra Carl Woitschach</td>\n",
              "      <td>0.555</td>\n",
              "      <td>0.002474</td>\n",
              "      <td>-0.001886</td>\n",
              "      <td>0.4210</td>\n",
              "      <td>0.836</td>\n",
              "      <td>1.0</td>\n",
              "      <td>0.1050</td>\n",
              "      <td>0.0</td>\n",
              "      <td>0.0474</td>\n",
              "      <td>0.8570</td>\n",
              "      <td>1928.0</td>\n",
              "      <td>142179</td>\n",
              "    </tr>\n",
              "    <tr>\n",
              "      <th>17</th>\n",
              "      <td>0.995</td>\n",
              "      <td>Moneda Corriente - Remasterizado Francisco Can...</td>\n",
              "      <td>0.683</td>\n",
              "      <td>0.002404</td>\n",
              "      <td>-0.001872</td>\n",
              "      <td>0.2070</td>\n",
              "      <td>0.206</td>\n",
              "      <td>9.0</td>\n",
              "      <td>0.3370</td>\n",
              "      <td>0.0</td>\n",
              "      <td>0.1270</td>\n",
              "      <td>0.4930</td>\n",
              "      <td>1928.0</td>\n",
              "      <td>142255</td>\n",
              "    </tr>\n",
              "    <tr>\n",
              "      <th>18</th>\n",
              "      <td>0.846</td>\n",
              "      <td>Chapter 1.3 - Zamek kaniowski Seweryn Goszczyński</td>\n",
              "      <td>0.674</td>\n",
              "      <td>0.001630</td>\n",
              "      <td>-0.003842</td>\n",
              "      <td>0.2050</td>\n",
              "      <td>0.000</td>\n",
              "      <td>9.0</td>\n",
              "      <td>0.1700</td>\n",
              "      <td>0.0</td>\n",
              "      <td>0.9540</td>\n",
              "      <td>0.7590</td>\n",
              "      <td>1928.0</td>\n",
              "      <td>142640</td>\n",
              "    </tr>\n",
              "    <tr>\n",
              "      <th>19</th>\n",
              "      <td>0.994</td>\n",
              "      <td>Piano Sonata No. 2 in B-Flat Minor, Op. 36: I....</td>\n",
              "      <td>0.376</td>\n",
              "      <td>0.002837</td>\n",
              "      <td>-0.004172</td>\n",
              "      <td>0.0719</td>\n",
              "      <td>0.883</td>\n",
              "      <td>10.0</td>\n",
              "      <td>0.1960</td>\n",
              "      <td>0.0</td>\n",
              "      <td>0.0352</td>\n",
              "      <td>0.0393</td>\n",
              "      <td>1928.0</td>\n",
              "      <td>142747</td>\n",
              "    </tr>\n",
              "    <tr>\n",
              "      <th>20</th>\n",
              "      <td>0.994</td>\n",
              "      <td>Piano Sonata No. 2 in B-Flat Minor, Op. 36: I....</td>\n",
              "      <td>0.376</td>\n",
              "      <td>0.002837</td>\n",
              "      <td>-0.004172</td>\n",
              "      <td>0.0719</td>\n",
              "      <td>0.883</td>\n",
              "      <td>10.0</td>\n",
              "      <td>0.1960</td>\n",
              "      <td>0.0</td>\n",
              "      <td>0.0352</td>\n",
              "      <td>0.0393</td>\n",
              "      <td>1928.0</td>\n",
              "      <td>167705</td>\n",
              "    </tr>\n",
              "    <tr>\n",
              "      <th>21</th>\n",
              "      <td>0.989</td>\n",
              "      <td>Piano Sonata No. 2, Op. 35: IV. Finale. Presto...</td>\n",
              "      <td>0.170</td>\n",
              "      <td>0.001725</td>\n",
              "      <td>-0.005749</td>\n",
              "      <td>0.0823</td>\n",
              "      <td>0.911</td>\n",
              "      <td>10.0</td>\n",
              "      <td>0.0962</td>\n",
              "      <td>1.0</td>\n",
              "      <td>0.0317</td>\n",
              "      <td>0.3460</td>\n",
              "      <td>1928.0</td>\n",
              "      <td>142773</td>\n",
              "    </tr>\n",
              "    <tr>\n",
              "      <th>22</th>\n",
              "      <td>0.989</td>\n",
              "      <td>Piano Sonata No. 2, Op. 35: IV. Finale. Presto...</td>\n",
              "      <td>0.232</td>\n",
              "      <td>0.002643</td>\n",
              "      <td>-0.005579</td>\n",
              "      <td>0.0877</td>\n",
              "      <td>0.838</td>\n",
              "      <td>10.0</td>\n",
              "      <td>0.0872</td>\n",
              "      <td>0.0</td>\n",
              "      <td>0.0331</td>\n",
              "      <td>0.3590</td>\n",
              "      <td>1928.0</td>\n",
              "      <td>4096</td>\n",
              "    </tr>\n",
              "    <tr>\n",
              "      <th>23</th>\n",
              "      <td>0.989</td>\n",
              "      <td>Piano Sonata No. 2, Op. 35: IV. Finale. Presto...</td>\n",
              "      <td>0.232</td>\n",
              "      <td>0.002643</td>\n",
              "      <td>-0.005579</td>\n",
              "      <td>0.0877</td>\n",
              "      <td>0.838</td>\n",
              "      <td>10.0</td>\n",
              "      <td>0.0872</td>\n",
              "      <td>0.0</td>\n",
              "      <td>0.0331</td>\n",
              "      <td>0.3590</td>\n",
              "      <td>1928.0</td>\n",
              "      <td>120515</td>\n",
              "    </tr>\n",
              "    <tr>\n",
              "      <th>24</th>\n",
              "      <td>0.990</td>\n",
              "      <td>Piano Sonata in E-Flat Minor, Op. 26: III. Ada...</td>\n",
              "      <td>0.359</td>\n",
              "      <td>0.001939</td>\n",
              "      <td>-0.003983</td>\n",
              "      <td>0.0435</td>\n",
              "      <td>0.899</td>\n",
              "      <td>7.0</td>\n",
              "      <td>0.1090</td>\n",
              "      <td>0.0</td>\n",
              "      <td>0.0424</td>\n",
              "      <td>0.0420</td>\n",
              "      <td>1928.0</td>\n",
              "      <td>142920</td>\n",
              "    </tr>\n",
              "  </tbody>\n",
              "</table>\n",
              "</div>"
            ],
            "text/plain": [
              "    acousticness  ... song_id\n",
              "0          0.995  ...  140959\n",
              "1          0.994  ...  141059\n",
              "2          0.994  ...   60998\n",
              "3          0.604  ...  141124\n",
              "4          0.995  ...  141446\n",
              "5          0.990  ...  141777\n",
              "6          0.992  ...  154628\n",
              "7          0.992  ...  161558\n",
              "8          0.992  ...   58386\n",
              "9          0.990  ...   64237\n",
              "10         0.995  ...  142060\n",
              "11         0.995  ...   93494\n",
              "12         0.995  ...  104986\n",
              "13         0.956  ...  142075\n",
              "14         0.962  ...   78845\n",
              "15         0.956  ...   86340\n",
              "16         0.988  ...  142179\n",
              "17         0.995  ...  142255\n",
              "18         0.846  ...  142640\n",
              "19         0.994  ...  142747\n",
              "20         0.994  ...  167705\n",
              "21         0.989  ...  142773\n",
              "22         0.989  ...    4096\n",
              "23         0.989  ...  120515\n",
              "24         0.990  ...  142920\n",
              "\n",
              "[25 rows x 14 columns]"
            ]
          },
          "metadata": {
            "tags": []
          },
          "execution_count": 13
        }
      ]
    },
    {
      "cell_type": "code",
      "metadata": {
        "id": "rZ9CHZ16mmhv"
      },
      "source": [
        "X = df.copy()"
      ],
      "execution_count": 14,
      "outputs": []
    },
    {
      "cell_type": "code",
      "metadata": {
        "colab": {
          "base_uri": "https://localhost:8080/",
          "height": 1000
        },
        "id": "7HZ0B0flnZIg",
        "outputId": "48453ec6-1faa-4528-e6d6-219421da30ad"
      },
      "source": [
        "X.head(25)"
      ],
      "execution_count": 15,
      "outputs": [
        {
          "output_type": "execute_result",
          "data": {
            "text/html": [
              "<div>\n",
              "<style scoped>\n",
              "    .dataframe tbody tr th:only-of-type {\n",
              "        vertical-align: middle;\n",
              "    }\n",
              "\n",
              "    .dataframe tbody tr th {\n",
              "        vertical-align: top;\n",
              "    }\n",
              "\n",
              "    .dataframe thead th {\n",
              "        text-align: right;\n",
              "    }\n",
              "</style>\n",
              "<table border=\"1\" class=\"dataframe\">\n",
              "  <thead>\n",
              "    <tr style=\"text-align: right;\">\n",
              "      <th></th>\n",
              "      <th>acousticness</th>\n",
              "      <th>name</th>\n",
              "      <th>danceability</th>\n",
              "      <th>tempo</th>\n",
              "      <th>loudness</th>\n",
              "      <th>energy</th>\n",
              "      <th>instrumentalness</th>\n",
              "      <th>key</th>\n",
              "      <th>liveness</th>\n",
              "      <th>popularity</th>\n",
              "      <th>speechiness</th>\n",
              "      <th>valence</th>\n",
              "      <th>year</th>\n",
              "      <th>song_id</th>\n",
              "    </tr>\n",
              "  </thead>\n",
              "  <tbody>\n",
              "    <tr>\n",
              "      <th>0</th>\n",
              "      <td>0.995</td>\n",
              "      <td>Singende Bataillone 1. Teil Carl Woitschach</td>\n",
              "      <td>0.708</td>\n",
              "      <td>0.002377</td>\n",
              "      <td>-0.002373</td>\n",
              "      <td>0.1950</td>\n",
              "      <td>0.563</td>\n",
              "      <td>10.0</td>\n",
              "      <td>0.1510</td>\n",
              "      <td>0.0</td>\n",
              "      <td>0.0506</td>\n",
              "      <td>0.7790</td>\n",
              "      <td>1928.0</td>\n",
              "      <td>140959</td>\n",
              "    </tr>\n",
              "    <tr>\n",
              "      <th>1</th>\n",
              "      <td>0.994</td>\n",
              "      <td>Fantasiestücke, Op. 111: Più tosto lento Rober...</td>\n",
              "      <td>0.379</td>\n",
              "      <td>0.001685</td>\n",
              "      <td>-0.005434</td>\n",
              "      <td>0.0135</td>\n",
              "      <td>0.901</td>\n",
              "      <td>8.0</td>\n",
              "      <td>0.0763</td>\n",
              "      <td>0.0</td>\n",
              "      <td>0.0462</td>\n",
              "      <td>0.0767</td>\n",
              "      <td>1928.0</td>\n",
              "      <td>141059</td>\n",
              "    </tr>\n",
              "    <tr>\n",
              "      <th>2</th>\n",
              "      <td>0.994</td>\n",
              "      <td>Fantasiestücke, Op. 111: Più tosto lento Rober...</td>\n",
              "      <td>0.379</td>\n",
              "      <td>0.001685</td>\n",
              "      <td>-0.005434</td>\n",
              "      <td>0.0135</td>\n",
              "      <td>0.901</td>\n",
              "      <td>8.0</td>\n",
              "      <td>0.0763</td>\n",
              "      <td>0.0</td>\n",
              "      <td>0.0462</td>\n",
              "      <td>0.0767</td>\n",
              "      <td>1928.0</td>\n",
              "      <td>60998</td>\n",
              "    </tr>\n",
              "    <tr>\n",
              "      <th>3</th>\n",
              "      <td>0.604</td>\n",
              "      <td>Chapter 1.18 - Zamek kaniowski Seweryn Goszczy...</td>\n",
              "      <td>0.749</td>\n",
              "      <td>0.002150</td>\n",
              "      <td>-0.003805</td>\n",
              "      <td>0.2200</td>\n",
              "      <td>0.000</td>\n",
              "      <td>5.0</td>\n",
              "      <td>0.1190</td>\n",
              "      <td>0.0</td>\n",
              "      <td>0.9290</td>\n",
              "      <td>0.8800</td>\n",
              "      <td>1928.0</td>\n",
              "      <td>141124</td>\n",
              "    </tr>\n",
              "    <tr>\n",
              "      <th>4</th>\n",
              "      <td>0.995</td>\n",
              "      <td>Bebamos Juntos - Instrumental (Remasterizado) ...</td>\n",
              "      <td>0.781</td>\n",
              "      <td>0.002167</td>\n",
              "      <td>-0.002814</td>\n",
              "      <td>0.1300</td>\n",
              "      <td>0.887</td>\n",
              "      <td>1.0</td>\n",
              "      <td>0.1110</td>\n",
              "      <td>0.0</td>\n",
              "      <td>0.0926</td>\n",
              "      <td>0.7200</td>\n",
              "      <td>1928.0</td>\n",
              "      <td>141446</td>\n",
              "    </tr>\n",
              "    <tr>\n",
              "      <th>5</th>\n",
              "      <td>0.990</td>\n",
              "      <td>Polonaise-Fantaisie in A-Flat Major, Op. 61 Fr...</td>\n",
              "      <td>0.210</td>\n",
              "      <td>0.001247</td>\n",
              "      <td>-0.003214</td>\n",
              "      <td>0.2040</td>\n",
              "      <td>0.908</td>\n",
              "      <td>11.0</td>\n",
              "      <td>0.0980</td>\n",
              "      <td>1.0</td>\n",
              "      <td>0.0424</td>\n",
              "      <td>0.0693</td>\n",
              "      <td>1928.0</td>\n",
              "      <td>141777</td>\n",
              "    </tr>\n",
              "    <tr>\n",
              "      <th>6</th>\n",
              "      <td>0.992</td>\n",
              "      <td>Polonaise-Fantaisie in A-Flat Major, Op. 61 Fr...</td>\n",
              "      <td>0.301</td>\n",
              "      <td>0.002755</td>\n",
              "      <td>-0.004446</td>\n",
              "      <td>0.0823</td>\n",
              "      <td>0.852</td>\n",
              "      <td>1.0</td>\n",
              "      <td>0.0870</td>\n",
              "      <td>0.0</td>\n",
              "      <td>0.0382</td>\n",
              "      <td>0.0548</td>\n",
              "      <td>1928.0</td>\n",
              "      <td>154628</td>\n",
              "    </tr>\n",
              "    <tr>\n",
              "      <th>7</th>\n",
              "      <td>0.992</td>\n",
              "      <td>Polonaise-Fantaisie in A-Flat Major, Op. 61 Fr...</td>\n",
              "      <td>0.301</td>\n",
              "      <td>0.002755</td>\n",
              "      <td>-0.004446</td>\n",
              "      <td>0.0823</td>\n",
              "      <td>0.852</td>\n",
              "      <td>1.0</td>\n",
              "      <td>0.0870</td>\n",
              "      <td>0.0</td>\n",
              "      <td>0.0382</td>\n",
              "      <td>0.0548</td>\n",
              "      <td>1928.0</td>\n",
              "      <td>161558</td>\n",
              "    </tr>\n",
              "    <tr>\n",
              "      <th>8</th>\n",
              "      <td>0.992</td>\n",
              "      <td>Polonaise-Fantaisie in A-Flat Major, Op. 61 Fr...</td>\n",
              "      <td>0.313</td>\n",
              "      <td>0.002730</td>\n",
              "      <td>-0.004257</td>\n",
              "      <td>0.0955</td>\n",
              "      <td>0.864</td>\n",
              "      <td>1.0</td>\n",
              "      <td>0.0899</td>\n",
              "      <td>0.0</td>\n",
              "      <td>0.0362</td>\n",
              "      <td>0.0676</td>\n",
              "      <td>1928.0</td>\n",
              "      <td>58386</td>\n",
              "    </tr>\n",
              "    <tr>\n",
              "      <th>9</th>\n",
              "      <td>0.990</td>\n",
              "      <td>Polonaise-Fantaisie in A-Flat Major, Op. 61 Fr...</td>\n",
              "      <td>0.301</td>\n",
              "      <td>0.002674</td>\n",
              "      <td>-0.004113</td>\n",
              "      <td>0.1370</td>\n",
              "      <td>0.857</td>\n",
              "      <td>11.0</td>\n",
              "      <td>0.8770</td>\n",
              "      <td>0.0</td>\n",
              "      <td>0.0352</td>\n",
              "      <td>0.0561</td>\n",
              "      <td>1928.0</td>\n",
              "      <td>64237</td>\n",
              "    </tr>\n",
              "    <tr>\n",
              "      <th>10</th>\n",
              "      <td>0.995</td>\n",
              "      <td>Scherzo a capriccio: Presto Felix Mendelssohn ...</td>\n",
              "      <td>0.424</td>\n",
              "      <td>0.001274</td>\n",
              "      <td>-0.003674</td>\n",
              "      <td>0.1200</td>\n",
              "      <td>0.911</td>\n",
              "      <td>6.0</td>\n",
              "      <td>0.0915</td>\n",
              "      <td>0.0</td>\n",
              "      <td>0.0593</td>\n",
              "      <td>0.2660</td>\n",
              "      <td>1928.0</td>\n",
              "      <td>142060</td>\n",
              "    </tr>\n",
              "    <tr>\n",
              "      <th>11</th>\n",
              "      <td>0.995</td>\n",
              "      <td>Scherzo a capriccio: Presto Felix Mendelssohn ...</td>\n",
              "      <td>0.424</td>\n",
              "      <td>0.001274</td>\n",
              "      <td>-0.003674</td>\n",
              "      <td>0.1200</td>\n",
              "      <td>0.911</td>\n",
              "      <td>6.0</td>\n",
              "      <td>0.0915</td>\n",
              "      <td>0.0</td>\n",
              "      <td>0.0593</td>\n",
              "      <td>0.2660</td>\n",
              "      <td>1928.0</td>\n",
              "      <td>93494</td>\n",
              "    </tr>\n",
              "    <tr>\n",
              "      <th>12</th>\n",
              "      <td>0.995</td>\n",
              "      <td>Scherzo a capriccio: Presto Felix Mendelssohn ...</td>\n",
              "      <td>0.441</td>\n",
              "      <td>0.002554</td>\n",
              "      <td>-0.003854</td>\n",
              "      <td>0.1090</td>\n",
              "      <td>0.916</td>\n",
              "      <td>6.0</td>\n",
              "      <td>0.0917</td>\n",
              "      <td>4.0</td>\n",
              "      <td>0.0523</td>\n",
              "      <td>0.3140</td>\n",
              "      <td>1942.0</td>\n",
              "      <td>104986</td>\n",
              "    </tr>\n",
              "    <tr>\n",
              "      <th>13</th>\n",
              "      <td>0.956</td>\n",
              "      <td>Valse oubliée No. 1 in F-Sharp Major, S. 215/1...</td>\n",
              "      <td>0.444</td>\n",
              "      <td>0.001615</td>\n",
              "      <td>-0.003290</td>\n",
              "      <td>0.1970</td>\n",
              "      <td>0.435</td>\n",
              "      <td>11.0</td>\n",
              "      <td>0.0744</td>\n",
              "      <td>0.0</td>\n",
              "      <td>0.0400</td>\n",
              "      <td>0.3050</td>\n",
              "      <td>1928.0</td>\n",
              "      <td>142075</td>\n",
              "    </tr>\n",
              "    <tr>\n",
              "      <th>14</th>\n",
              "      <td>0.962</td>\n",
              "      <td>Valse oubliée No. 1 in F-Sharp Major, S. 215/1...</td>\n",
              "      <td>0.328</td>\n",
              "      <td>0.001764</td>\n",
              "      <td>-0.004328</td>\n",
              "      <td>0.1060</td>\n",
              "      <td>0.586</td>\n",
              "      <td>11.0</td>\n",
              "      <td>0.2430</td>\n",
              "      <td>7.0</td>\n",
              "      <td>0.0349</td>\n",
              "      <td>0.2710</td>\n",
              "      <td>1930.0</td>\n",
              "      <td>78845</td>\n",
              "    </tr>\n",
              "    <tr>\n",
              "      <th>15</th>\n",
              "      <td>0.956</td>\n",
              "      <td>Valse oubliée No. 1 in F-Sharp Major, S. 215/1...</td>\n",
              "      <td>0.444</td>\n",
              "      <td>0.001615</td>\n",
              "      <td>-0.003290</td>\n",
              "      <td>0.1970</td>\n",
              "      <td>0.435</td>\n",
              "      <td>11.0</td>\n",
              "      <td>0.0744</td>\n",
              "      <td>0.0</td>\n",
              "      <td>0.0400</td>\n",
              "      <td>0.3050</td>\n",
              "      <td>1928.0</td>\n",
              "      <td>86340</td>\n",
              "    </tr>\n",
              "    <tr>\n",
              "      <th>16</th>\n",
              "      <td>0.988</td>\n",
              "      <td>Per aspera ad astra Carl Woitschach</td>\n",
              "      <td>0.555</td>\n",
              "      <td>0.002474</td>\n",
              "      <td>-0.001886</td>\n",
              "      <td>0.4210</td>\n",
              "      <td>0.836</td>\n",
              "      <td>1.0</td>\n",
              "      <td>0.1050</td>\n",
              "      <td>0.0</td>\n",
              "      <td>0.0474</td>\n",
              "      <td>0.8570</td>\n",
              "      <td>1928.0</td>\n",
              "      <td>142179</td>\n",
              "    </tr>\n",
              "    <tr>\n",
              "      <th>17</th>\n",
              "      <td>0.995</td>\n",
              "      <td>Moneda Corriente - Remasterizado Francisco Can...</td>\n",
              "      <td>0.683</td>\n",
              "      <td>0.002404</td>\n",
              "      <td>-0.001872</td>\n",
              "      <td>0.2070</td>\n",
              "      <td>0.206</td>\n",
              "      <td>9.0</td>\n",
              "      <td>0.3370</td>\n",
              "      <td>0.0</td>\n",
              "      <td>0.1270</td>\n",
              "      <td>0.4930</td>\n",
              "      <td>1928.0</td>\n",
              "      <td>142255</td>\n",
              "    </tr>\n",
              "    <tr>\n",
              "      <th>18</th>\n",
              "      <td>0.846</td>\n",
              "      <td>Chapter 1.3 - Zamek kaniowski Seweryn Goszczyński</td>\n",
              "      <td>0.674</td>\n",
              "      <td>0.001630</td>\n",
              "      <td>-0.003842</td>\n",
              "      <td>0.2050</td>\n",
              "      <td>0.000</td>\n",
              "      <td>9.0</td>\n",
              "      <td>0.1700</td>\n",
              "      <td>0.0</td>\n",
              "      <td>0.9540</td>\n",
              "      <td>0.7590</td>\n",
              "      <td>1928.0</td>\n",
              "      <td>142640</td>\n",
              "    </tr>\n",
              "    <tr>\n",
              "      <th>19</th>\n",
              "      <td>0.994</td>\n",
              "      <td>Piano Sonata No. 2 in B-Flat Minor, Op. 36: I....</td>\n",
              "      <td>0.376</td>\n",
              "      <td>0.002837</td>\n",
              "      <td>-0.004172</td>\n",
              "      <td>0.0719</td>\n",
              "      <td>0.883</td>\n",
              "      <td>10.0</td>\n",
              "      <td>0.1960</td>\n",
              "      <td>0.0</td>\n",
              "      <td>0.0352</td>\n",
              "      <td>0.0393</td>\n",
              "      <td>1928.0</td>\n",
              "      <td>142747</td>\n",
              "    </tr>\n",
              "    <tr>\n",
              "      <th>20</th>\n",
              "      <td>0.994</td>\n",
              "      <td>Piano Sonata No. 2 in B-Flat Minor, Op. 36: I....</td>\n",
              "      <td>0.376</td>\n",
              "      <td>0.002837</td>\n",
              "      <td>-0.004172</td>\n",
              "      <td>0.0719</td>\n",
              "      <td>0.883</td>\n",
              "      <td>10.0</td>\n",
              "      <td>0.1960</td>\n",
              "      <td>0.0</td>\n",
              "      <td>0.0352</td>\n",
              "      <td>0.0393</td>\n",
              "      <td>1928.0</td>\n",
              "      <td>167705</td>\n",
              "    </tr>\n",
              "    <tr>\n",
              "      <th>21</th>\n",
              "      <td>0.989</td>\n",
              "      <td>Piano Sonata No. 2, Op. 35: IV. Finale. Presto...</td>\n",
              "      <td>0.170</td>\n",
              "      <td>0.001725</td>\n",
              "      <td>-0.005749</td>\n",
              "      <td>0.0823</td>\n",
              "      <td>0.911</td>\n",
              "      <td>10.0</td>\n",
              "      <td>0.0962</td>\n",
              "      <td>1.0</td>\n",
              "      <td>0.0317</td>\n",
              "      <td>0.3460</td>\n",
              "      <td>1928.0</td>\n",
              "      <td>142773</td>\n",
              "    </tr>\n",
              "    <tr>\n",
              "      <th>22</th>\n",
              "      <td>0.989</td>\n",
              "      <td>Piano Sonata No. 2, Op. 35: IV. Finale. Presto...</td>\n",
              "      <td>0.232</td>\n",
              "      <td>0.002643</td>\n",
              "      <td>-0.005579</td>\n",
              "      <td>0.0877</td>\n",
              "      <td>0.838</td>\n",
              "      <td>10.0</td>\n",
              "      <td>0.0872</td>\n",
              "      <td>0.0</td>\n",
              "      <td>0.0331</td>\n",
              "      <td>0.3590</td>\n",
              "      <td>1928.0</td>\n",
              "      <td>4096</td>\n",
              "    </tr>\n",
              "    <tr>\n",
              "      <th>23</th>\n",
              "      <td>0.989</td>\n",
              "      <td>Piano Sonata No. 2, Op. 35: IV. Finale. Presto...</td>\n",
              "      <td>0.232</td>\n",
              "      <td>0.002643</td>\n",
              "      <td>-0.005579</td>\n",
              "      <td>0.0877</td>\n",
              "      <td>0.838</td>\n",
              "      <td>10.0</td>\n",
              "      <td>0.0872</td>\n",
              "      <td>0.0</td>\n",
              "      <td>0.0331</td>\n",
              "      <td>0.3590</td>\n",
              "      <td>1928.0</td>\n",
              "      <td>120515</td>\n",
              "    </tr>\n",
              "    <tr>\n",
              "      <th>24</th>\n",
              "      <td>0.990</td>\n",
              "      <td>Piano Sonata in E-Flat Minor, Op. 26: III. Ada...</td>\n",
              "      <td>0.359</td>\n",
              "      <td>0.001939</td>\n",
              "      <td>-0.003983</td>\n",
              "      <td>0.0435</td>\n",
              "      <td>0.899</td>\n",
              "      <td>7.0</td>\n",
              "      <td>0.1090</td>\n",
              "      <td>0.0</td>\n",
              "      <td>0.0424</td>\n",
              "      <td>0.0420</td>\n",
              "      <td>1928.0</td>\n",
              "      <td>142920</td>\n",
              "    </tr>\n",
              "  </tbody>\n",
              "</table>\n",
              "</div>"
            ],
            "text/plain": [
              "    acousticness  ... song_id\n",
              "0          0.995  ...  140959\n",
              "1          0.994  ...  141059\n",
              "2          0.994  ...   60998\n",
              "3          0.604  ...  141124\n",
              "4          0.995  ...  141446\n",
              "5          0.990  ...  141777\n",
              "6          0.992  ...  154628\n",
              "7          0.992  ...  161558\n",
              "8          0.992  ...   58386\n",
              "9          0.990  ...   64237\n",
              "10         0.995  ...  142060\n",
              "11         0.995  ...   93494\n",
              "12         0.995  ...  104986\n",
              "13         0.956  ...  142075\n",
              "14         0.962  ...   78845\n",
              "15         0.956  ...   86340\n",
              "16         0.988  ...  142179\n",
              "17         0.995  ...  142255\n",
              "18         0.846  ...  142640\n",
              "19         0.994  ...  142747\n",
              "20         0.994  ...  167705\n",
              "21         0.989  ...  142773\n",
              "22         0.989  ...    4096\n",
              "23         0.989  ...  120515\n",
              "24         0.990  ...  142920\n",
              "\n",
              "[25 rows x 14 columns]"
            ]
          },
          "metadata": {
            "tags": []
          },
          "execution_count": 15
        }
      ]
    },
    {
      "cell_type": "code",
      "metadata": {
        "id": "qIRNym70n_nm"
      },
      "source": [
        "X.drop('name', axis = 1, inplace=True)"
      ],
      "execution_count": 16,
      "outputs": []
    },
    {
      "cell_type": "code",
      "metadata": {
        "colab": {
          "base_uri": "https://localhost:8080/",
          "height": 295
        },
        "id": "8-9XnhMMnJSX",
        "outputId": "be29f678-98df-40bb-d3fa-be8917615463"
      },
      "source": [
        "from sklearn.cluster import KMeans\n",
        "wcss = []\n",
        "for i in range(1, 11):\n",
        "    kmeans = KMeans(n_clusters = i, init = 'k-means++', random_state = 42)\n",
        "    kmeans.fit(X)\n",
        "    wcss.append(kmeans.inertia_)\n",
        "plt.plot(range(1, 11), wcss)\n",
        "plt.title('The Elbow Method')\n",
        "plt.xlabel('Number of clusters')\n",
        "plt.ylabel('WCSS')\n",
        "plt.show()"
      ],
      "execution_count": 18,
      "outputs": [
        {
          "output_type": "display_data",
          "data": {
            "image/png": "[encoded data removed]",
            "text/plain": [
              "<Figure size 432x288 with 1 Axes>"
            ]
          },
          "metadata": {
            "tags": [],
            "needs_background": "light"
          }
        }
      ]
    },
    {
      "cell_type": "code",
      "metadata": {
        "id": "OiinO33Spntr"
      },
      "source": [
        "kmeans = KMeans(n_clusters = 5, init = 'k-means++', random_state = 42)\n",
        "y_kmeans = kmeans.fit_predict(X)"
      ],
      "execution_count": 17,
      "outputs": []
    },
    {
      "cell_type": "code",
      "metadata": {
        "id": "T2KPT9DBqKBT"
      },
      "source": [
        "input = df[df['name'] == 'Dancing Queen ABBA']"
      ],
      "execution_count": 37,
      "outputs": []
    },
    {
      "cell_type": "code",
      "metadata": {
        "colab": {
          "base_uri": "https://localhost:8080/"
        },
        "id": "1icU4dEAzDcZ",
        "outputId": "9bad2d90-29c1-4c35-ba8b-812fa613a939"
      },
      "source": [
        "print(input)"
      ],
      "execution_count": 38,
      "outputs": [
        {
          "output_type": "stream",
          "text": [
            "        acousticness                name  ...  song_id  cluster_no\n",
            "297595         0.382  Dancing Queen ABBA  ...   100512           2\n",
            "297596         0.168  Dancing Queen ABBA  ...    51888           1\n",
            "297597         0.175  Dancing Queen ABBA  ...    44711           1\n",
            "\n",
            "[3 rows x 15 columns]\n"
          ],
          "name": "stdout"
        }
      ]
    },
    {
      "cell_type": "code",
      "metadata": {
        "id": "fZeigFyt2GGe"
      },
      "source": [
        "n_input = input.iloc[0,:]"
      ],
      "execution_count": 39,
      "outputs": []
    },
    {
      "cell_type": "code",
      "metadata": {
        "colab": {
          "base_uri": "https://localhost:8080/"
        },
        "id": "GfI9Rm9PEoHJ",
        "outputId": "b2c5ac34-387b-49b6-95c3-1de71a099e41"
      },
      "source": [
        "print(n_input)"
      ],
      "execution_count": 42,
      "outputs": [
        {
          "output_type": "stream",
          "text": [
            "acousticness             0.382\n",
            "danceability             0.539\n",
            "tempo               0.00202263\n",
            "loudness           -0.00124698\n",
            "energy                   0.884\n",
            "instrumentalness       0.00166\n",
            "key                          9\n",
            "liveness                  0.76\n",
            "popularity                  72\n",
            "speechiness             0.0403\n",
            "valence                  0.752\n",
            "year                      1976\n",
            "song_id                 100512\n",
            "cluster_no                   2\n",
            "Name: 297595, dtype: object\n"
          ],
          "name": "stdout"
        }
      ]
    },
    {
      "cell_type": "code",
      "metadata": {
        "id": "RKuj0sTD2kPZ"
      },
      "source": [
        "n_input.drop('name', axis = 0, inplace=True)"
      ],
      "execution_count": null,
      "outputs": []
    },
    {
      "cell_type": "code",
      "metadata": {
        "colab": {
          "base_uri": "https://localhost:8080/"
        },
        "id": "8yv-pyXqFGSk",
        "outputId": "6dfcf816-9881-45b8-bf64-a27e37337ba6"
      },
      "source": [
        "n_input.drop('cluster_no', axis = 0, inplace=True)"
      ],
      "execution_count": 45,
      "outputs": [
        {
          "output_type": "stream",
          "text": [
            "/usr/local/lib/python3.6/dist-packages/pandas/core/series.py:4516: SettingWithCopyWarning: \n",
            "A value is trying to be set on a copy of a slice from a DataFrame\n",
            "\n",
            "See the caveats in the documentation: https://pandas.pydata.org/pandas-docs/stable/user_guide/indexing.html#returning-a-view-versus-a-copy\n",
            "  errors=errors,\n"
          ],
          "name": "stderr"
        }
      ]
    },
    {
      "cell_type": "code",
      "metadata": {
        "id": "zaV4BAUT0MHf"
      },
      "source": [
        "def cluster_predict(input):\n",
        "  prediction = kmeans.predict(input)\n",
        "  return prediction "
      ],
      "execution_count": 26,
      "outputs": []
    },
    {
      "cell_type": "code",
      "metadata": {
        "id": "KtXdwjyp0iYN"
      },
      "source": [
        "pred = kmeans.predict([n_input])"
      ],
      "execution_count": 46,
      "outputs": []
    },
    {
      "cell_type": "code",
      "metadata": {
        "colab": {
          "base_uri": "https://localhost:8080/"
        },
        "id": "XTAhj7_J3l_h",
        "outputId": "7eeb3eda-a960-441a-b52e-8ab3f4958006"
      },
      "source": [
        "pred[0]"
      ],
      "execution_count": 28,
      "outputs": [
        {
          "output_type": "execute_result",
          "data": {
            "text/plain": [
              "0"
            ]
          },
          "metadata": {
            "tags": []
          },
          "execution_count": 28
        }
      ]
    },
    {
      "cell_type": "code",
      "metadata": {
        "colab": {
          "base_uri": "https://localhost:8080/"
        },
        "id": "49GaAoth811t",
        "outputId": "f02c1568-53e2-4a88-ca8f-d41a248bd69b"
      },
      "source": [
        "print(y_kmeans)"
      ],
      "execution_count": 29,
      "outputs": [
        {
          "output_type": "stream",
          "text": [
            "[0 0 1 ... 1 4 2]\n"
          ],
          "name": "stdout"
        }
      ]
    },
    {
      "cell_type": "code",
      "metadata": {
        "id": "BraSgRfT868C"
      },
      "source": [
        "df['cluster_no'] = y_kmeans"
      ],
      "execution_count": 18,
      "outputs": []
    },
    {
      "cell_type": "code",
      "metadata": {
        "colab": {
          "base_uri": "https://localhost:8080/",
          "height": 499
        },
        "id": "EhtQ-VBl-OdX",
        "outputId": "8ef9cb11-eb67-49a8-a339-f74b0f2b8477"
      },
      "source": [
        "df.head()"
      ],
      "execution_count": 19,
      "outputs": [
        {
          "output_type": "execute_result",
          "data": {
            "text/html": [
              "<div>\n",
              "<style scoped>\n",
              "    .dataframe tbody tr th:only-of-type {\n",
              "        vertical-align: middle;\n",
              "    }\n",
              "\n",
              "    .dataframe tbody tr th {\n",
              "        vertical-align: top;\n",
              "    }\n",
              "\n",
              "    .dataframe thead th {\n",
              "        text-align: right;\n",
              "    }\n",
              "</style>\n",
              "<table border=\"1\" class=\"dataframe\">\n",
              "  <thead>\n",
              "    <tr style=\"text-align: right;\">\n",
              "      <th></th>\n",
              "      <th>acousticness</th>\n",
              "      <th>name</th>\n",
              "      <th>danceability</th>\n",
              "      <th>tempo</th>\n",
              "      <th>loudness</th>\n",
              "      <th>energy</th>\n",
              "      <th>instrumentalness</th>\n",
              "      <th>key</th>\n",
              "      <th>liveness</th>\n",
              "      <th>popularity</th>\n",
              "      <th>speechiness</th>\n",
              "      <th>valence</th>\n",
              "      <th>year</th>\n",
              "      <th>song_id</th>\n",
              "      <th>cluster_no</th>\n",
              "    </tr>\n",
              "  </thead>\n",
              "  <tbody>\n",
              "    <tr>\n",
              "      <th>0</th>\n",
              "      <td>0.995</td>\n",
              "      <td>Singende Bataillone 1. Teil Carl Woitschach</td>\n",
              "      <td>0.708</td>\n",
              "      <td>0.002377</td>\n",
              "      <td>-0.002373</td>\n",
              "      <td>0.1950</td>\n",
              "      <td>0.563</td>\n",
              "      <td>10.0</td>\n",
              "      <td>0.1510</td>\n",
              "      <td>0.0</td>\n",
              "      <td>0.0506</td>\n",
              "      <td>0.7790</td>\n",
              "      <td>1928.0</td>\n",
              "      <td>140959</td>\n",
              "      <td>0</td>\n",
              "    </tr>\n",
              "    <tr>\n",
              "      <th>1</th>\n",
              "      <td>0.994</td>\n",
              "      <td>Fantasiestücke, Op. 111: Più tosto lento Rober...</td>\n",
              "      <td>0.379</td>\n",
              "      <td>0.001685</td>\n",
              "      <td>-0.005434</td>\n",
              "      <td>0.0135</td>\n",
              "      <td>0.901</td>\n",
              "      <td>8.0</td>\n",
              "      <td>0.0763</td>\n",
              "      <td>0.0</td>\n",
              "      <td>0.0462</td>\n",
              "      <td>0.0767</td>\n",
              "      <td>1928.0</td>\n",
              "      <td>141059</td>\n",
              "      <td>0</td>\n",
              "    </tr>\n",
              "    <tr>\n",
              "      <th>2</th>\n",
              "      <td>0.994</td>\n",
              "      <td>Fantasiestücke, Op. 111: Più tosto lento Rober...</td>\n",
              "      <td>0.379</td>\n",
              "      <td>0.001685</td>\n",
              "      <td>-0.005434</td>\n",
              "      <td>0.0135</td>\n",
              "      <td>0.901</td>\n",
              "      <td>8.0</td>\n",
              "      <td>0.0763</td>\n",
              "      <td>0.0</td>\n",
              "      <td>0.0462</td>\n",
              "      <td>0.0767</td>\n",
              "      <td>1928.0</td>\n",
              "      <td>60998</td>\n",
              "      <td>1</td>\n",
              "    </tr>\n",
              "    <tr>\n",
              "      <th>3</th>\n",
              "      <td>0.604</td>\n",
              "      <td>Chapter 1.18 - Zamek kaniowski Seweryn Goszczy...</td>\n",
              "      <td>0.749</td>\n",
              "      <td>0.002150</td>\n",
              "      <td>-0.003805</td>\n",
              "      <td>0.2200</td>\n",
              "      <td>0.000</td>\n",
              "      <td>5.0</td>\n",
              "      <td>0.1190</td>\n",
              "      <td>0.0</td>\n",
              "      <td>0.9290</td>\n",
              "      <td>0.8800</td>\n",
              "      <td>1928.0</td>\n",
              "      <td>141124</td>\n",
              "      <td>0</td>\n",
              "    </tr>\n",
              "    <tr>\n",
              "      <th>4</th>\n",
              "      <td>0.995</td>\n",
              "      <td>Bebamos Juntos - Instrumental (Remasterizado) ...</td>\n",
              "      <td>0.781</td>\n",
              "      <td>0.002167</td>\n",
              "      <td>-0.002814</td>\n",
              "      <td>0.1300</td>\n",
              "      <td>0.887</td>\n",
              "      <td>1.0</td>\n",
              "      <td>0.1110</td>\n",
              "      <td>0.0</td>\n",
              "      <td>0.0926</td>\n",
              "      <td>0.7200</td>\n",
              "      <td>1928.0</td>\n",
              "      <td>141446</td>\n",
              "      <td>0</td>\n",
              "    </tr>\n",
              "  </tbody>\n",
              "</table>\n",
              "</div>"
            ],
            "text/plain": [
              "   acousticness  ... cluster_no\n",
              "0         0.995  ...          0\n",
              "1         0.994  ...          0\n",
              "2         0.994  ...          1\n",
              "3         0.604  ...          0\n",
              "4         0.995  ...          0\n",
              "\n",
              "[5 rows x 15 columns]"
            ]
          },
          "metadata": {
            "tags": []
          },
          "execution_count": 19
        }
      ]
    },
    {
      "cell_type": "code",
      "metadata": {
        "colab": {
          "base_uri": "https://localhost:8080/"
        },
        "id": "ZjF5vzWH-S0t",
        "outputId": "fef243aa-7660-41fd-f14c-e9882b43e9d9"
      },
      "source": [
        "df.dtypes"
      ],
      "execution_count": null,
      "outputs": [
        {
          "output_type": "execute_result",
          "data": {
            "text/plain": [
              "acousticness        float64\n",
              "name                 object\n",
              "danceability        float64\n",
              "tempo               float64\n",
              "loudness            float64\n",
              "energy              float64\n",
              "instrumentalness    float64\n",
              "key                 float64\n",
              "liveness            float64\n",
              "popularity          float64\n",
              "speechiness         float64\n",
              "valence             float64\n",
              "year                float64\n",
              "userid              float64\n",
              "song_id               int64\n",
              "playcount           float64\n",
              "cluster_no            int32\n",
              "dtype: object"
            ]
          },
          "metadata": {
            "tags": []
          },
          "execution_count": 32
        }
      ]
    },
    {
      "cell_type": "code",
      "metadata": {
        "colab": {
          "base_uri": "https://localhost:8080/",
          "height": 314
        },
        "id": "kWXUkU01IhQR",
        "outputId": "b6798fed-e08b-4fbc-9b80-76e6d931bda7"
      },
      "source": [
        "df.describe()"
      ],
      "execution_count": 54,
      "outputs": [
        {
          "output_type": "execute_result",
          "data": {
            "text/html": [
              "<div>\n",
              "<style scoped>\n",
              "    .dataframe tbody tr th:only-of-type {\n",
              "        vertical-align: middle;\n",
              "    }\n",
              "\n",
              "    .dataframe tbody tr th {\n",
              "        vertical-align: top;\n",
              "    }\n",
              "\n",
              "    .dataframe thead th {\n",
              "        text-align: right;\n",
              "    }\n",
              "</style>\n",
              "<table border=\"1\" class=\"dataframe\">\n",
              "  <thead>\n",
              "    <tr style=\"text-align: right;\">\n",
              "      <th></th>\n",
              "      <th>acousticness</th>\n",
              "      <th>danceability</th>\n",
              "      <th>tempo</th>\n",
              "      <th>loudness</th>\n",
              "      <th>energy</th>\n",
              "      <th>instrumentalness</th>\n",
              "      <th>key</th>\n",
              "      <th>liveness</th>\n",
              "      <th>popularity</th>\n",
              "      <th>speechiness</th>\n",
              "      <th>valence</th>\n",
              "      <th>year</th>\n",
              "      <th>song_id</th>\n",
              "      <th>cluster_no</th>\n",
              "    </tr>\n",
              "  </thead>\n",
              "  <tbody>\n",
              "    <tr>\n",
              "      <th>count</th>\n",
              "      <td>169909.000000</td>\n",
              "      <td>169909.000000</td>\n",
              "      <td>169909.000000</td>\n",
              "      <td>169909.000000</td>\n",
              "      <td>169909.000000</td>\n",
              "      <td>169909.000000</td>\n",
              "      <td>169909.000000</td>\n",
              "      <td>169909.000000</td>\n",
              "      <td>169909.000000</td>\n",
              "      <td>169909.000000</td>\n",
              "      <td>169909.000000</td>\n",
              "      <td>169909.000000</td>\n",
              "      <td>169909.000000</td>\n",
              "      <td>169909.000000</td>\n",
              "    </tr>\n",
              "    <tr>\n",
              "      <th>mean</th>\n",
              "      <td>0.493214</td>\n",
              "      <td>0.538150</td>\n",
              "      <td>0.002346</td>\n",
              "      <td>-0.002171</td>\n",
              "      <td>0.488593</td>\n",
              "      <td>0.161937</td>\n",
              "      <td>5.200519</td>\n",
              "      <td>0.206690</td>\n",
              "      <td>31.556610</td>\n",
              "      <td>0.094058</td>\n",
              "      <td>0.532095</td>\n",
              "      <td>1977.223231</td>\n",
              "      <td>84954.000000</td>\n",
              "      <td>1.998211</td>\n",
              "    </tr>\n",
              "    <tr>\n",
              "      <th>std</th>\n",
              "      <td>0.376627</td>\n",
              "      <td>0.175346</td>\n",
              "      <td>0.000616</td>\n",
              "      <td>0.001082</td>\n",
              "      <td>0.267390</td>\n",
              "      <td>0.309329</td>\n",
              "      <td>3.515257</td>\n",
              "      <td>0.176796</td>\n",
              "      <td>21.582614</td>\n",
              "      <td>0.149937</td>\n",
              "      <td>0.262408</td>\n",
              "      <td>25.593168</td>\n",
              "      <td>49048.647781</td>\n",
              "      <td>1.416375</td>\n",
              "    </tr>\n",
              "    <tr>\n",
              "      <th>min</th>\n",
              "      <td>0.000000</td>\n",
              "      <td>0.000000</td>\n",
              "      <td>0.000000</td>\n",
              "      <td>-0.011458</td>\n",
              "      <td>0.000000</td>\n",
              "      <td>0.000000</td>\n",
              "      <td>0.000000</td>\n",
              "      <td>0.000000</td>\n",
              "      <td>0.000000</td>\n",
              "      <td>0.000000</td>\n",
              "      <td>0.000000</td>\n",
              "      <td>1921.000000</td>\n",
              "      <td>0.000000</td>\n",
              "      <td>0.000000</td>\n",
              "    </tr>\n",
              "    <tr>\n",
              "      <th>25%</th>\n",
              "      <td>0.094500</td>\n",
              "      <td>0.417000</td>\n",
              "      <td>0.001876</td>\n",
              "      <td>-0.002763</td>\n",
              "      <td>0.263000</td>\n",
              "      <td>0.000000</td>\n",
              "      <td>2.000000</td>\n",
              "      <td>0.098400</td>\n",
              "      <td>12.000000</td>\n",
              "      <td>0.034900</td>\n",
              "      <td>0.322000</td>\n",
              "      <td>1957.000000</td>\n",
              "      <td>42477.000000</td>\n",
              "      <td>1.000000</td>\n",
              "    </tr>\n",
              "    <tr>\n",
              "      <th>50%</th>\n",
              "      <td>0.492000</td>\n",
              "      <td>0.548000</td>\n",
              "      <td>0.002303</td>\n",
              "      <td>-0.002000</td>\n",
              "      <td>0.481000</td>\n",
              "      <td>0.000204</td>\n",
              "      <td>5.000000</td>\n",
              "      <td>0.135000</td>\n",
              "      <td>33.000000</td>\n",
              "      <td>0.045000</td>\n",
              "      <td>0.544000</td>\n",
              "      <td>1978.000000</td>\n",
              "      <td>84954.000000</td>\n",
              "      <td>2.000000</td>\n",
              "    </tr>\n",
              "    <tr>\n",
              "      <th>75%</th>\n",
              "      <td>0.888000</td>\n",
              "      <td>0.667000</td>\n",
              "      <td>0.002723</td>\n",
              "      <td>-0.001359</td>\n",
              "      <td>0.710000</td>\n",
              "      <td>0.086800</td>\n",
              "      <td>8.000000</td>\n",
              "      <td>0.263000</td>\n",
              "      <td>48.000000</td>\n",
              "      <td>0.075400</td>\n",
              "      <td>0.749000</td>\n",
              "      <td>1999.000000</td>\n",
              "      <td>127431.000000</td>\n",
              "      <td>3.000000</td>\n",
              "    </tr>\n",
              "    <tr>\n",
              "      <th>max</th>\n",
              "      <td>0.996000</td>\n",
              "      <td>0.988000</td>\n",
              "      <td>0.004897</td>\n",
              "      <td>0.000736</td>\n",
              "      <td>1.000000</td>\n",
              "      <td>1.000000</td>\n",
              "      <td>11.000000</td>\n",
              "      <td>1.000000</td>\n",
              "      <td>100.000000</td>\n",
              "      <td>0.969000</td>\n",
              "      <td>1.000000</td>\n",
              "      <td>2020.000000</td>\n",
              "      <td>169908.000000</td>\n",
              "      <td>4.000000</td>\n",
              "    </tr>\n",
              "  </tbody>\n",
              "</table>\n",
              "</div>"
            ],
            "text/plain": [
              "        acousticness   danceability  ...        song_id     cluster_no\n",
              "count  169909.000000  169909.000000  ...  169909.000000  169909.000000\n",
              "mean        0.493214       0.538150  ...   84954.000000       1.998211\n",
              "std         0.376627       0.175346  ...   49048.647781       1.416375\n",
              "min         0.000000       0.000000  ...       0.000000       0.000000\n",
              "25%         0.094500       0.417000  ...   42477.000000       1.000000\n",
              "50%         0.492000       0.548000  ...   84954.000000       2.000000\n",
              "75%         0.888000       0.667000  ...  127431.000000       3.000000\n",
              "max         0.996000       0.988000  ...  169908.000000       4.000000\n",
              "\n",
              "[8 rows x 14 columns]"
            ]
          },
          "metadata": {
            "tags": []
          },
          "execution_count": 54
        }
      ]
    },
    {
      "cell_type": "code",
      "metadata": {
        "id": "6naHh7RF_Dnq"
      },
      "source": [
        "def recommend(song):\n",
        "  predicted_cluster = cluster_predict(song)\n",
        "  cluster_df = df[df['cluster_no'] == predicted_cluster[0]]\n",
        "  return cluster_df"
      ],
      "execution_count": 32,
      "outputs": []
    },
    {
      "cell_type": "code",
      "metadata": {
        "id": "yu08hB0e_vk8"
      },
      "source": [
        "result = recommend([n_input])"
      ],
      "execution_count": 47,
      "outputs": []
    },
    {
      "cell_type": "code",
      "metadata": {
        "colab": {
          "base_uri": "https://localhost:8080/"
        },
        "id": "IafVTOvvciB8",
        "outputId": "4ca1389c-1c00-4f5a-d38d-16dc76fa4171"
      },
      "source": [
        "result.iloc[5600:5620, 1]"
      ],
      "execution_count": 53,
      "outputs": [
        {
          "output_type": "execute_result",
          "data": {
            "text/plain": [
              "106654    Mrs. Parker Of K.C. (Bird's Mother) Eric Dolph...\n",
              "106655                         Samba De Orfeu Charlie Rouse\n",
              "106683                              Dreamin Johnny Burnette\n",
              "106716           John Brown - Witmark Demo - 1963 Bob Dylan\n",
              "106717                             Stand by Me Cassius Clay\n",
              "106718      Waiting In Vain James Brown & The Famous Flames\n",
              "106719    Ballad Of Ole' Betsy - Remastered 2001 The Bea...\n",
              "106720                       Long Black Train Lee Hazlewood\n",
              "106754        My Heart Has A Mind Of Its Own Connie Francis\n",
              "106755      I Shall Be Free - Witmark Demo - 1963 Bob Dylan\n",
              "106756    The United States Air Force (or, The Army Air ...\n",
              "106757    God Bless America Irving Berlin & Mormon Taber...\n",
              "106759     The End of the World Percy Faith & His Orchestra\n",
              "106760                          Tea for Two Thelonious Monk\n",
              "106761                                              真可惜 張淑美\n",
              "106762    Black Denim Trousers & Motorcycle Boots The Ch...\n",
              "106763                  Sao Paulo - Remastered Kenny Dorham\n",
              "106764                                 Hey There Bill Evans\n",
              "106765    Put Your Dreams Away (For Another Day) Frank S...\n",
              "106767                           Man of Mystery The Shadows\n",
              "Name: name, dtype: object"
            ]
          },
          "metadata": {
            "tags": []
          },
          "execution_count": 53
        }
      ]
    },
    {
      "cell_type": "code",
      "metadata": {
        "colab": {
          "base_uri": "https://localhost:8080/"
        },
        "id": "WyP6oaipFjKj",
        "outputId": "a9145087-8a70-4b7e-8f96-f329ec1548d4"
      },
      "source": [
        "result.shape"
      ],
      "execution_count": 50,
      "outputs": [
        {
          "output_type": "execute_result",
          "data": {
            "text/plain": [
              "(33881, 15)"
            ]
          },
          "metadata": {
            "tags": []
          },
          "execution_count": 50
        }
      ]
    },
    {
      "cell_type": "code",
      "metadata": {
        "colab": {
          "base_uri": "https://localhost:8080/"
        },
        "id": "DgWWXFyOdQKk",
        "outputId": "20fca13d-9db1-47e6-8f26-cdf1e03d505c"
      },
      "source": [
        "X.shape"
      ],
      "execution_count": null,
      "outputs": [
        {
          "output_type": "execute_result",
          "data": {
            "text/plain": [
              "(1135383, 15)"
            ]
          },
          "metadata": {
            "tags": []
          },
          "execution_count": 52
        }
      ]
    },
    {
      "cell_type": "code",
      "metadata": {
        "id": "8dj1ClKkIQF3"
      },
      "source": [
        "cluster_0 = df[df['cluster_no'] == 0]\n",
        "cluster_1 = df[df['cluster_no'] == 1]\n",
        "cluster_2 = df[df['cluster_no'] == 2]\n",
        "cluster_3 = df[df['cluster_no'] == 3]\n",
        "cluster_4 = df[df['cluster_no'] == 4]"
      ],
      "execution_count": 20,
      "outputs": []
    },
    {
      "cell_type": "code",
      "metadata": {
        "id": "EBrljEVhuuun"
      },
      "source": [
        "cluster_0.head()"
      ],
      "execution_count": null,
      "outputs": []
    },
    {
      "cell_type": "code",
      "metadata": {
        "id": "5zSKv2vRu3L9"
      },
      "source": [
        "X_0 = cluster_0.copy()"
      ],
      "execution_count": 22,
      "outputs": []
    },
    {
      "cell_type": "code",
      "metadata": {
        "id": "u2WqLY1vu6yX"
      },
      "source": [
        "X_0.drop(['name','cluster_no'], axis = 1, inplace=True)"
      ],
      "execution_count": 24,
      "outputs": []
    },
    {
      "cell_type": "code",
      "metadata": {
        "id": "SmPiw9-ixIb7"
      },
      "source": [
        "sub_pred_0 = kmeans.fit_predict(X_0)"
      ],
      "execution_count": 25,
      "outputs": []
    },
    {
      "cell_type": "code",
      "metadata": {
        "colab": {
          "base_uri": "https://localhost:8080/"
        },
        "id": "a9BJPTiKxZHD",
        "outputId": "1c3a31e9-a640-425a-aac1-e1d5d83eacd7"
      },
      "source": [
        "print(sub_pred_0)"
      ],
      "execution_count": 28,
      "outputs": [
        {
          "output_type": "stream",
          "text": [
            "[4 4 4 ... 0 1 0]\n"
          ],
          "name": "stdout"
        }
      ]
    },
    {
      "cell_type": "code",
      "metadata": {
        "colab": {
          "base_uri": "https://localhost:8080/"
        },
        "id": "LrMjsQMUx0m9",
        "outputId": "bacdc682-fc4e-4d24-d051-bd0a2feff80a"
      },
      "source": [
        "cluster_0['sub_cluster'] = sub_pred_0"
      ],
      "execution_count": 27,
      "outputs": [
        {
          "output_type": "stream",
          "text": [
            "/usr/local/lib/python3.6/dist-packages/ipykernel_launcher.py:1: SettingWithCopyWarning: \n",
            "A value is trying to be set on a copy of a slice from a DataFrame.\n",
            "Try using .loc[row_indexer,col_indexer] = value instead\n",
            "\n",
            "See the caveats in the documentation: https://pandas.pydata.org/pandas-docs/stable/user_guide/indexing.html#returning-a-view-versus-a-copy\n",
            "  \"\"\"Entry point for launching an IPython kernel.\n"
          ],
          "name": "stderr"
        }
      ]
    },
    {
      "cell_type": "code",
      "metadata": {
        "id": "MXm-2if8x_uS"
      },
      "source": [
        "cluster_0.head()"
      ],
      "execution_count": null,
      "outputs": []
    },
    {
      "cell_type": "code",
      "metadata": {
        "id": "LLoFjJ65yaIb"
      },
      "source": [
        "cluster_0[cluster_0['sub_cluster'] == 3]"
      ],
      "execution_count": null,
      "outputs": []
    },
    {
      "cell_type": "code",
      "metadata": {
        "id": "UMpMgKmdy7a4"
      },
      "source": [
        "X_1 = cluster_1.copy()"
      ],
      "execution_count": 32,
      "outputs": []
    },
    {
      "cell_type": "code",
      "metadata": {
        "id": "eHvSoCHCzcJ5"
      },
      "source": [
        "X_1.drop(['name','cluster_no'], axis = 1, inplace=True)"
      ],
      "execution_count": 33,
      "outputs": []
    },
    {
      "cell_type": "code",
      "metadata": {
        "id": "HHobXkAkzmaj"
      },
      "source": [
        "sub_pred_1 = kmeans.fit_predict(X_1)"
      ],
      "execution_count": 34,
      "outputs": []
    },
    {
      "cell_type": "code",
      "metadata": {
        "colab": {
          "base_uri": "https://localhost:8080/"
        },
        "id": "JM8y2Q3D0Txl",
        "outputId": "59bdc440-addb-4d44-e396-e6e60f43f963"
      },
      "source": [
        "cluster_1['sub_cluster'] = sub_pred_1"
      ],
      "execution_count": 35,
      "outputs": [
        {
          "output_type": "stream",
          "text": [
            "/usr/local/lib/python3.6/dist-packages/ipykernel_launcher.py:1: SettingWithCopyWarning: \n",
            "A value is trying to be set on a copy of a slice from a DataFrame.\n",
            "Try using .loc[row_indexer,col_indexer] = value instead\n",
            "\n",
            "See the caveats in the documentation: https://pandas.pydata.org/pandas-docs/stable/user_guide/indexing.html#returning-a-view-versus-a-copy\n",
            "  \"\"\"Entry point for launching an IPython kernel.\n"
          ],
          "name": "stderr"
        }
      ]
    },
    {
      "cell_type": "code",
      "metadata": {
        "colab": {
          "base_uri": "https://localhost:8080/",
          "height": 834
        },
        "id": "zmNXuN0d0Hzj",
        "outputId": "4761e25a-2c85-4c11-e9ec-bbd842b84555"
      },
      "source": [
        "cluster_1[cluster_1['sub_cluster'] == 2]"
      ],
      "execution_count": 37,
      "outputs": [
        {
          "output_type": "execute_result",
          "data": {
            "text/html": [
              "<div>\n",
              "<style scoped>\n",
              "    .dataframe tbody tr th:only-of-type {\n",
              "        vertical-align: middle;\n",
              "    }\n",
              "\n",
              "    .dataframe tbody tr th {\n",
              "        vertical-align: top;\n",
              "    }\n",
              "\n",
              "    .dataframe thead th {\n",
              "        text-align: right;\n",
              "    }\n",
              "</style>\n",
              "<table border=\"1\" class=\"dataframe\">\n",
              "  <thead>\n",
              "    <tr style=\"text-align: right;\">\n",
              "      <th></th>\n",
              "      <th>acousticness</th>\n",
              "      <th>name</th>\n",
              "      <th>danceability</th>\n",
              "      <th>tempo</th>\n",
              "      <th>loudness</th>\n",
              "      <th>energy</th>\n",
              "      <th>instrumentalness</th>\n",
              "      <th>key</th>\n",
              "      <th>liveness</th>\n",
              "      <th>popularity</th>\n",
              "      <th>speechiness</th>\n",
              "      <th>valence</th>\n",
              "      <th>year</th>\n",
              "      <th>song_id</th>\n",
              "      <th>cluster_no</th>\n",
              "      <th>sub_cluster</th>\n",
              "    </tr>\n",
              "  </thead>\n",
              "  <tbody>\n",
              "    <tr>\n",
              "      <th>2</th>\n",
              "      <td>0.9940</td>\n",
              "      <td>Fantasiestücke, Op. 111: Più tosto lento Rober...</td>\n",
              "      <td>0.379</td>\n",
              "      <td>0.001685</td>\n",
              "      <td>-0.005434</td>\n",
              "      <td>0.0135</td>\n",
              "      <td>0.901000</td>\n",
              "      <td>8.0</td>\n",
              "      <td>0.0763</td>\n",
              "      <td>0.0</td>\n",
              "      <td>0.0462</td>\n",
              "      <td>0.0767</td>\n",
              "      <td>1928.0</td>\n",
              "      <td>60998</td>\n",
              "      <td>1</td>\n",
              "      <td>2</td>\n",
              "    </tr>\n",
              "    <tr>\n",
              "      <th>9</th>\n",
              "      <td>0.9900</td>\n",
              "      <td>Polonaise-Fantaisie in A-Flat Major, Op. 61 Fr...</td>\n",
              "      <td>0.301</td>\n",
              "      <td>0.002674</td>\n",
              "      <td>-0.004113</td>\n",
              "      <td>0.1370</td>\n",
              "      <td>0.857000</td>\n",
              "      <td>11.0</td>\n",
              "      <td>0.8770</td>\n",
              "      <td>0.0</td>\n",
              "      <td>0.0352</td>\n",
              "      <td>0.0561</td>\n",
              "      <td>1928.0</td>\n",
              "      <td>64237</td>\n",
              "      <td>1</td>\n",
              "      <td>2</td>\n",
              "    </tr>\n",
              "    <tr>\n",
              "      <th>95</th>\n",
              "      <td>0.9930</td>\n",
              "      <td>Barcarolle, Op. 60 Frédéric Chopin &amp; Vladimir ...</td>\n",
              "      <td>0.267</td>\n",
              "      <td>0.001433</td>\n",
              "      <td>-0.003669</td>\n",
              "      <td>0.0993</td>\n",
              "      <td>0.889000</td>\n",
              "      <td>1.0</td>\n",
              "      <td>0.1060</td>\n",
              "      <td>0.0</td>\n",
              "      <td>0.0399</td>\n",
              "      <td>0.0631</td>\n",
              "      <td>1928.0</td>\n",
              "      <td>63863</td>\n",
              "      <td>1</td>\n",
              "      <td>2</td>\n",
              "    </tr>\n",
              "    <tr>\n",
              "      <th>509</th>\n",
              "      <td>0.9950</td>\n",
              "      <td>Anathema Se Lohage Mixalis Kalergis</td>\n",
              "      <td>0.448</td>\n",
              "      <td>0.002962</td>\n",
              "      <td>-0.002879</td>\n",
              "      <td>0.2010</td>\n",
              "      <td>0.562000</td>\n",
              "      <td>9.0</td>\n",
              "      <td>0.1840</td>\n",
              "      <td>0.0</td>\n",
              "      <td>0.0928</td>\n",
              "      <td>0.7510</td>\n",
              "      <td>1940.0</td>\n",
              "      <td>61078</td>\n",
              "      <td>1</td>\n",
              "      <td>2</td>\n",
              "    </tr>\n",
              "    <tr>\n",
              "      <th>510</th>\n",
              "      <td>0.5600</td>\n",
              "      <td>Часть 35.2 - По ком звонит колокол Эрнест Хеми...</td>\n",
              "      <td>0.711</td>\n",
              "      <td>0.002605</td>\n",
              "      <td>-0.004008</td>\n",
              "      <td>0.1330</td>\n",
              "      <td>0.000000</td>\n",
              "      <td>11.0</td>\n",
              "      <td>0.3450</td>\n",
              "      <td>0.0</td>\n",
              "      <td>0.9500</td>\n",
              "      <td>0.7070</td>\n",
              "      <td>1940.0</td>\n",
              "      <td>61081</td>\n",
              "      <td>1</td>\n",
              "      <td>2</td>\n",
              "    </tr>\n",
              "    <tr>\n",
              "      <th>...</th>\n",
              "      <td>...</td>\n",
              "      <td>...</td>\n",
              "      <td>...</td>\n",
              "      <td>...</td>\n",
              "      <td>...</td>\n",
              "      <td>...</td>\n",
              "      <td>...</td>\n",
              "      <td>...</td>\n",
              "      <td>...</td>\n",
              "      <td>...</td>\n",
              "      <td>...</td>\n",
              "      <td>...</td>\n",
              "      <td>...</td>\n",
              "      <td>...</td>\n",
              "      <td>...</td>\n",
              "      <td>...</td>\n",
              "    </tr>\n",
              "    <tr>\n",
              "      <th>660593</th>\n",
              "      <td>0.4100</td>\n",
              "      <td>LOVE AGAIN Daniel Caesar &amp; Brandy</td>\n",
              "      <td>0.553</td>\n",
              "      <td>0.001545</td>\n",
              "      <td>-0.001224</td>\n",
              "      <td>0.4410</td>\n",
              "      <td>0.000003</td>\n",
              "      <td>5.0</td>\n",
              "      <td>0.1070</td>\n",
              "      <td>68.0</td>\n",
              "      <td>0.0918</td>\n",
              "      <td>0.5250</td>\n",
              "      <td>2019.0</td>\n",
              "      <td>63745</td>\n",
              "      <td>1</td>\n",
              "      <td>2</td>\n",
              "    </tr>\n",
              "    <tr>\n",
              "      <th>660661</th>\n",
              "      <td>0.2540</td>\n",
              "      <td>Used to be (L.O.V.E.) Chelsea Collins</td>\n",
              "      <td>0.554</td>\n",
              "      <td>0.001578</td>\n",
              "      <td>-0.000455</td>\n",
              "      <td>0.7490</td>\n",
              "      <td>0.000000</td>\n",
              "      <td>9.0</td>\n",
              "      <td>0.0785</td>\n",
              "      <td>66.0</td>\n",
              "      <td>0.0533</td>\n",
              "      <td>0.3400</td>\n",
              "      <td>2020.0</td>\n",
              "      <td>67201</td>\n",
              "      <td>1</td>\n",
              "      <td>2</td>\n",
              "    </tr>\n",
              "    <tr>\n",
              "      <th>660668</th>\n",
              "      <td>0.2620</td>\n",
              "      <td>How Long Will I Love You Ellie Goulding</td>\n",
              "      <td>0.453</td>\n",
              "      <td>0.002521</td>\n",
              "      <td>-0.001628</td>\n",
              "      <td>0.3160</td>\n",
              "      <td>0.000894</td>\n",
              "      <td>0.0</td>\n",
              "      <td>0.1350</td>\n",
              "      <td>3.0</td>\n",
              "      <td>0.0316</td>\n",
              "      <td>0.1770</td>\n",
              "      <td>2020.0</td>\n",
              "      <td>67733</td>\n",
              "      <td>1</td>\n",
              "      <td>2</td>\n",
              "    </tr>\n",
              "    <tr>\n",
              "      <th>660671</th>\n",
              "      <td>0.0946</td>\n",
              "      <td>Lonely Joel Corry</td>\n",
              "      <td>0.697</td>\n",
              "      <td>0.002488</td>\n",
              "      <td>-0.000818</td>\n",
              "      <td>0.9210</td>\n",
              "      <td>0.000019</td>\n",
              "      <td>5.0</td>\n",
              "      <td>0.1590</td>\n",
              "      <td>81.0</td>\n",
              "      <td>0.0424</td>\n",
              "      <td>0.7220</td>\n",
              "      <td>2020.0</td>\n",
              "      <td>61342</td>\n",
              "      <td>1</td>\n",
              "      <td>2</td>\n",
              "    </tr>\n",
              "    <tr>\n",
              "      <th>660681</th>\n",
              "      <td>0.4740</td>\n",
              "      <td>Hand Me Downs Mac Miller</td>\n",
              "      <td>0.677</td>\n",
              "      <td>0.001384</td>\n",
              "      <td>-0.002138</td>\n",
              "      <td>0.3300</td>\n",
              "      <td>0.000871</td>\n",
              "      <td>2.0</td>\n",
              "      <td>0.0640</td>\n",
              "      <td>68.0</td>\n",
              "      <td>0.1490</td>\n",
              "      <td>0.3360</td>\n",
              "      <td>2020.0</td>\n",
              "      <td>61207</td>\n",
              "      <td>1</td>\n",
              "      <td>2</td>\n",
              "    </tr>\n",
              "  </tbody>\n",
              "</table>\n",
              "<p>6792 rows × 16 columns</p>\n",
              "</div>"
            ],
            "text/plain": [
              "        acousticness  ... sub_cluster\n",
              "2             0.9940  ...           2\n",
              "9             0.9900  ...           2\n",
              "95            0.9930  ...           2\n",
              "509           0.9950  ...           2\n",
              "510           0.5600  ...           2\n",
              "...              ...  ...         ...\n",
              "660593        0.4100  ...           2\n",
              "660661        0.2540  ...           2\n",
              "660668        0.2620  ...           2\n",
              "660671        0.0946  ...           2\n",
              "660681        0.4740  ...           2\n",
              "\n",
              "[6792 rows x 16 columns]"
            ]
          },
          "metadata": {
            "tags": []
          },
          "execution_count": 37
        }
      ]
    },
    {
      "cell_type": "code",
      "metadata": {
        "id": "MJVenAOH07mA"
      },
      "source": [
        "X_2 = cluster_2.copy()"
      ],
      "execution_count": 38,
      "outputs": []
    },
    {
      "cell_type": "code",
      "metadata": {
        "id": "sy6K6zg008PI"
      },
      "source": [
        "X_2.drop(['name','cluster_no'], axis = 1, inplace=True)"
      ],
      "execution_count": 39,
      "outputs": []
    },
    {
      "cell_type": "code",
      "metadata": {
        "id": "47tXOSZS2s2A"
      },
      "source": [
        "sub_pred_2 = kmeans.fit_predict(X_2)"
      ],
      "execution_count": 40,
      "outputs": []
    },
    {
      "cell_type": "code",
      "metadata": {
        "colab": {
          "base_uri": "https://localhost:8080/"
        },
        "id": "rf9e_SXH22BZ",
        "outputId": "bdae71b7-e7d4-40af-a681-0d21f6257420"
      },
      "source": [
        "cluster_2['sub_cluster'] = sub_pred_2"
      ],
      "execution_count": 41,
      "outputs": [
        {
          "output_type": "stream",
          "text": [
            "/usr/local/lib/python3.6/dist-packages/ipykernel_launcher.py:1: SettingWithCopyWarning: \n",
            "A value is trying to be set on a copy of a slice from a DataFrame.\n",
            "Try using .loc[row_indexer,col_indexer] = value instead\n",
            "\n",
            "See the caveats in the documentation: https://pandas.pydata.org/pandas-docs/stable/user_guide/indexing.html#returning-a-view-versus-a-copy\n",
            "  \"\"\"Entry point for launching an IPython kernel.\n"
          ],
          "name": "stderr"
        }
      ]
    },
    {
      "cell_type": "code",
      "metadata": {
        "colab": {
          "base_uri": "https://localhost:8080/",
          "height": 955
        },
        "id": "RHGLHVIe3CnD",
        "outputId": "dcc1e4d2-789c-4b4c-b8a7-f6db5a17e60d"
      },
      "source": [
        "cluster_2[cluster_2['sub_cluster'] == 1]cluster_2[cluster_2['sub_cluster'] == 1]"
      ],
      "execution_count": 43,
      "outputs": [
        {
          "output_type": "execute_result",
          "data": {
            "text/html": [
              "<div>\n",
              "<style scoped>\n",
              "    .dataframe tbody tr th:only-of-type {\n",
              "        vertical-align: middle;\n",
              "    }\n",
              "\n",
              "    .dataframe tbody tr th {\n",
              "        vertical-align: top;\n",
              "    }\n",
              "\n",
              "    .dataframe thead th {\n",
              "        text-align: right;\n",
              "    }\n",
              "</style>\n",
              "<table border=\"1\" class=\"dataframe\">\n",
              "  <thead>\n",
              "    <tr style=\"text-align: right;\">\n",
              "      <th></th>\n",
              "      <th>acousticness</th>\n",
              "      <th>name</th>\n",
              "      <th>danceability</th>\n",
              "      <th>tempo</th>\n",
              "      <th>loudness</th>\n",
              "      <th>energy</th>\n",
              "      <th>instrumentalness</th>\n",
              "      <th>key</th>\n",
              "      <th>liveness</th>\n",
              "      <th>popularity</th>\n",
              "      <th>speechiness</th>\n",
              "      <th>valence</th>\n",
              "      <th>year</th>\n",
              "      <th>song_id</th>\n",
              "      <th>cluster_no</th>\n",
              "      <th>sub_cluster</th>\n",
              "    </tr>\n",
              "  </thead>\n",
              "  <tbody>\n",
              "    <tr>\n",
              "      <th>54</th>\n",
              "      <td>0.9930</td>\n",
              "      <td>Sonata, Op. 14, No. 3 in F Minor: I. Allegro a...</td>\n",
              "      <td>0.280</td>\n",
              "      <td>0.001627</td>\n",
              "      <td>-0.004957</td>\n",
              "      <td>0.0436</td>\n",
              "      <td>0.885000</td>\n",
              "      <td>8.0</td>\n",
              "      <td>0.0865</td>\n",
              "      <td>0.0</td>\n",
              "      <td>0.0393</td>\n",
              "      <td>0.1820</td>\n",
              "      <td>1928.0</td>\n",
              "      <td>101512</td>\n",
              "      <td>2</td>\n",
              "      <td>1</td>\n",
              "    </tr>\n",
              "    <tr>\n",
              "      <th>72</th>\n",
              "      <td>0.9930</td>\n",
              "      <td>Sonata No. 3, Op. 46: II. Andante cantabile Dm...</td>\n",
              "      <td>0.372</td>\n",
              "      <td>0.001188</td>\n",
              "      <td>-0.004337</td>\n",
              "      <td>0.0945</td>\n",
              "      <td>0.941000</td>\n",
              "      <td>10.0</td>\n",
              "      <td>0.1890</td>\n",
              "      <td>0.0</td>\n",
              "      <td>0.0317</td>\n",
              "      <td>0.0791</td>\n",
              "      <td>1928.0</td>\n",
              "      <td>98782</td>\n",
              "      <td>2</td>\n",
              "      <td>1</td>\n",
              "    </tr>\n",
              "    <tr>\n",
              "      <th>99</th>\n",
              "      <td>0.9940</td>\n",
              "      <td>Barcarolle, Op. 60 Frédéric Chopin &amp; Vladimir ...</td>\n",
              "      <td>0.245</td>\n",
              "      <td>0.001346</td>\n",
              "      <td>-0.004559</td>\n",
              "      <td>0.0364</td>\n",
              "      <td>0.872000</td>\n",
              "      <td>6.0</td>\n",
              "      <td>0.1910</td>\n",
              "      <td>0.0</td>\n",
              "      <td>0.0366</td>\n",
              "      <td>0.0495</td>\n",
              "      <td>1928.0</td>\n",
              "      <td>95299</td>\n",
              "      <td>2</td>\n",
              "      <td>1</td>\n",
              "    </tr>\n",
              "    <tr>\n",
              "      <th>111</th>\n",
              "      <td>0.9890</td>\n",
              "      <td>Humoreske, Op. 20: Intermezzo Robert Schumann ...</td>\n",
              "      <td>0.368</td>\n",
              "      <td>0.002576</td>\n",
              "      <td>-0.004152</td>\n",
              "      <td>0.1240</td>\n",
              "      <td>0.892000</td>\n",
              "      <td>0.0</td>\n",
              "      <td>0.1050</td>\n",
              "      <td>0.0</td>\n",
              "      <td>0.0371</td>\n",
              "      <td>0.2660</td>\n",
              "      <td>1928.0</td>\n",
              "      <td>96821</td>\n",
              "      <td>2</td>\n",
              "      <td>1</td>\n",
              "    </tr>\n",
              "    <tr>\n",
              "      <th>214</th>\n",
              "      <td>0.9770</td>\n",
              "      <td>Siete Lágrimas - Remasterizado Ignacio Corsini</td>\n",
              "      <td>0.660</td>\n",
              "      <td>0.002163</td>\n",
              "      <td>-0.003342</td>\n",
              "      <td>0.2150</td>\n",
              "      <td>0.000006</td>\n",
              "      <td>5.0</td>\n",
              "      <td>0.7820</td>\n",
              "      <td>0.0</td>\n",
              "      <td>0.0938</td>\n",
              "      <td>0.5610</td>\n",
              "      <td>1930.0</td>\n",
              "      <td>94984</td>\n",
              "      <td>2</td>\n",
              "      <td>1</td>\n",
              "    </tr>\n",
              "    <tr>\n",
              "      <th>...</th>\n",
              "      <td>...</td>\n",
              "      <td>...</td>\n",
              "      <td>...</td>\n",
              "      <td>...</td>\n",
              "      <td>...</td>\n",
              "      <td>...</td>\n",
              "      <td>...</td>\n",
              "      <td>...</td>\n",
              "      <td>...</td>\n",
              "      <td>...</td>\n",
              "      <td>...</td>\n",
              "      <td>...</td>\n",
              "      <td>...</td>\n",
              "      <td>...</td>\n",
              "      <td>...</td>\n",
              "      <td>...</td>\n",
              "    </tr>\n",
              "    <tr>\n",
              "      <th>660529</th>\n",
              "      <td>0.0563</td>\n",
              "      <td>Sleepless Nights (feat. Nightly) ayokay &amp; Nightly</td>\n",
              "      <td>0.663</td>\n",
              "      <td>0.002808</td>\n",
              "      <td>-0.001145</td>\n",
              "      <td>0.6960</td>\n",
              "      <td>0.000006</td>\n",
              "      <td>11.0</td>\n",
              "      <td>0.2260</td>\n",
              "      <td>64.0</td>\n",
              "      <td>0.0349</td>\n",
              "      <td>0.4490</td>\n",
              "      <td>2018.0</td>\n",
              "      <td>101065</td>\n",
              "      <td>2</td>\n",
              "      <td>1</td>\n",
              "    </tr>\n",
              "    <tr>\n",
              "      <th>660586</th>\n",
              "      <td>0.1450</td>\n",
              "      <td>6's to 9's (feat. Rationale) Big Wild &amp; Rationale</td>\n",
              "      <td>0.714</td>\n",
              "      <td>0.001916</td>\n",
              "      <td>-0.001107</td>\n",
              "      <td>0.6630</td>\n",
              "      <td>0.000000</td>\n",
              "      <td>8.0</td>\n",
              "      <td>0.2640</td>\n",
              "      <td>66.0</td>\n",
              "      <td>0.0694</td>\n",
              "      <td>0.6400</td>\n",
              "      <td>2019.0</td>\n",
              "      <td>96970</td>\n",
              "      <td>2</td>\n",
              "      <td>1</td>\n",
              "    </tr>\n",
              "    <tr>\n",
              "      <th>660619</th>\n",
              "      <td>0.0263</td>\n",
              "      <td>Beautiful Nightmare Lil Tracy</td>\n",
              "      <td>0.675</td>\n",
              "      <td>0.001555</td>\n",
              "      <td>-0.001538</td>\n",
              "      <td>0.6300</td>\n",
              "      <td>0.000000</td>\n",
              "      <td>4.0</td>\n",
              "      <td>0.2840</td>\n",
              "      <td>68.0</td>\n",
              "      <td>0.0720</td>\n",
              "      <td>0.2230</td>\n",
              "      <td>2019.0</td>\n",
              "      <td>98708</td>\n",
              "      <td>2</td>\n",
              "      <td>1</td>\n",
              "    </tr>\n",
              "    <tr>\n",
              "      <th>660649</th>\n",
              "      <td>0.4280</td>\n",
              "      <td>Thug Love A Boogie Wit da Hoodie</td>\n",
              "      <td>0.540</td>\n",
              "      <td>0.003574</td>\n",
              "      <td>-0.000899</td>\n",
              "      <td>0.6430</td>\n",
              "      <td>0.000000</td>\n",
              "      <td>5.0</td>\n",
              "      <td>0.1740</td>\n",
              "      <td>67.0</td>\n",
              "      <td>0.2880</td>\n",
              "      <td>0.3280</td>\n",
              "      <td>2020.0</td>\n",
              "      <td>100235</td>\n",
              "      <td>2</td>\n",
              "      <td>1</td>\n",
              "    </tr>\n",
              "    <tr>\n",
              "      <th>660716</th>\n",
              "      <td>0.1730</td>\n",
              "      <td>Skechers (feat. Tyga) - Remix DripReport &amp; Tyga</td>\n",
              "      <td>0.875</td>\n",
              "      <td>0.002007</td>\n",
              "      <td>-0.001425</td>\n",
              "      <td>0.4430</td>\n",
              "      <td>0.000032</td>\n",
              "      <td>1.0</td>\n",
              "      <td>0.0891</td>\n",
              "      <td>75.0</td>\n",
              "      <td>0.1430</td>\n",
              "      <td>0.3060</td>\n",
              "      <td>2020.0</td>\n",
              "      <td>99523</td>\n",
              "      <td>2</td>\n",
              "      <td>1</td>\n",
              "    </tr>\n",
              "  </tbody>\n",
              "</table>\n",
              "<p>6762 rows × 16 columns</p>\n",
              "</div>"
            ],
            "text/plain": [
              "        acousticness  ... sub_cluster\n",
              "54            0.9930  ...           1\n",
              "72            0.9930  ...           1\n",
              "99            0.9940  ...           1\n",
              "111           0.9890  ...           1\n",
              "214           0.9770  ...           1\n",
              "...              ...  ...         ...\n",
              "660529        0.0563  ...           1\n",
              "660586        0.1450  ...           1\n",
              "660619        0.0263  ...           1\n",
              "660649        0.4280  ...           1\n",
              "660716        0.1730  ...           1\n",
              "\n",
              "[6762 rows x 16 columns]"
            ]
          },
          "metadata": {
            "tags": []
          },
          "execution_count": 43
        }
      ]
    },
    {
      "cell_type": "code",
      "metadata": {
        "id": "QbBSNm5D3T0f"
      },
      "source": [
        "X_3 = cluster_3.copy()"
      ],
      "execution_count": 44,
      "outputs": []
    },
    {
      "cell_type": "code",
      "metadata": {
        "id": "ER4FzXNv3w0-"
      },
      "source": [
        "X_3.drop(['name','cluster_no'], axis = 1, inplace=True)"
      ],
      "execution_count": 45,
      "outputs": []
    },
    {
      "cell_type": "code",
      "metadata": {
        "id": "NDz2ziOB4bVG"
      },
      "source": [
        "sub_pred_3 = kmeans.fit_predict(X_3)"
      ],
      "execution_count": 46,
      "outputs": []
    },
    {
      "cell_type": "code",
      "metadata": {
        "colab": {
          "base_uri": "https://localhost:8080/"
        },
        "id": "apsZrTOY4uUC",
        "outputId": "e1cb9a6b-eba0-4fdd-86a3-1993e5a83372"
      },
      "source": [
        "cluster_3['sub_cluster'] = sub_pred_3"
      ],
      "execution_count": 47,
      "outputs": [
        {
          "output_type": "stream",
          "text": [
            "/usr/local/lib/python3.6/dist-packages/ipykernel_launcher.py:1: SettingWithCopyWarning: \n",
            "A value is trying to be set on a copy of a slice from a DataFrame.\n",
            "Try using .loc[row_indexer,col_indexer] = value instead\n",
            "\n",
            "See the caveats in the documentation: https://pandas.pydata.org/pandas-docs/stable/user_guide/indexing.html#returning-a-view-versus-a-copy\n",
            "  \"\"\"Entry point for launching an IPython kernel.\n"
          ],
          "name": "stderr"
        }
      ]
    },
    {
      "cell_type": "code",
      "metadata": {
        "colab": {
          "base_uri": "https://localhost:8080/",
          "height": 1000
        },
        "id": "vzun1YXW4yw6",
        "outputId": "ab5bca5b-fba4-4cf1-c6a3-d9bf3ad8ec2d"
      },
      "source": [
        "cluster_3[cluster_3['sub_cluster'] == 3]"
      ],
      "execution_count": 49,
      "outputs": [
        {
          "output_type": "execute_result",
          "data": {
            "text/html": [
              "<div>\n",
              "<style scoped>\n",
              "    .dataframe tbody tr th:only-of-type {\n",
              "        vertical-align: middle;\n",
              "    }\n",
              "\n",
              "    .dataframe tbody tr th {\n",
              "        vertical-align: top;\n",
              "    }\n",
              "\n",
              "    .dataframe thead th {\n",
              "        text-align: right;\n",
              "    }\n",
              "</style>\n",
              "<table border=\"1\" class=\"dataframe\">\n",
              "  <thead>\n",
              "    <tr style=\"text-align: right;\">\n",
              "      <th></th>\n",
              "      <th>acousticness</th>\n",
              "      <th>name</th>\n",
              "      <th>danceability</th>\n",
              "      <th>tempo</th>\n",
              "      <th>loudness</th>\n",
              "      <th>energy</th>\n",
              "      <th>instrumentalness</th>\n",
              "      <th>key</th>\n",
              "      <th>liveness</th>\n",
              "      <th>popularity</th>\n",
              "      <th>speechiness</th>\n",
              "      <th>valence</th>\n",
              "      <th>year</th>\n",
              "      <th>song_id</th>\n",
              "      <th>cluster_no</th>\n",
              "      <th>sub_cluster</th>\n",
              "    </tr>\n",
              "  </thead>\n",
              "  <tbody>\n",
              "    <tr>\n",
              "      <th>42</th>\n",
              "      <td>0.9750</td>\n",
              "      <td>Andante spianato in E-Flat Major, Op. 22 Frédé...</td>\n",
              "      <td>0.277</td>\n",
              "      <td>0.002107</td>\n",
              "      <td>-0.005001</td>\n",
              "      <td>0.0900</td>\n",
              "      <td>0.949000</td>\n",
              "      <td>7.0</td>\n",
              "      <td>0.1250</td>\n",
              "      <td>0.0</td>\n",
              "      <td>0.0316</td>\n",
              "      <td>0.1680</td>\n",
              "      <td>1928.0</td>\n",
              "      <td>28031</td>\n",
              "      <td>3</td>\n",
              "      <td>3</td>\n",
              "    </tr>\n",
              "    <tr>\n",
              "      <th>131</th>\n",
              "      <td>0.9900</td>\n",
              "      <td>Piano Sonata No. 2, Op. 35: I. Grave - Doppio ...</td>\n",
              "      <td>0.245</td>\n",
              "      <td>0.001822</td>\n",
              "      <td>-0.003264</td>\n",
              "      <td>0.2640</td>\n",
              "      <td>0.893000</td>\n",
              "      <td>10.0</td>\n",
              "      <td>0.0785</td>\n",
              "      <td>2.0</td>\n",
              "      <td>0.0371</td>\n",
              "      <td>0.0746</td>\n",
              "      <td>1928.0</td>\n",
              "      <td>28004</td>\n",
              "      <td>3</td>\n",
              "      <td>3</td>\n",
              "    </tr>\n",
              "    <tr>\n",
              "      <th>828</th>\n",
              "      <td>0.9850</td>\n",
              "      <td>Habanera from Carmen - Voice Georges Bizet &amp; G...</td>\n",
              "      <td>0.349</td>\n",
              "      <td>0.001565</td>\n",
              "      <td>-0.003864</td>\n",
              "      <td>0.1690</td>\n",
              "      <td>0.000001</td>\n",
              "      <td>7.0</td>\n",
              "      <td>0.2150</td>\n",
              "      <td>14.0</td>\n",
              "      <td>0.1640</td>\n",
              "      <td>0.2130</td>\n",
              "      <td>1949.0</td>\n",
              "      <td>29229</td>\n",
              "      <td>3</td>\n",
              "      <td>3</td>\n",
              "    </tr>\n",
              "    <tr>\n",
              "      <th>1399</th>\n",
              "      <td>0.9850</td>\n",
              "      <td>Sonata for Violin and Piano No. 1 in D Major, ...</td>\n",
              "      <td>0.364</td>\n",
              "      <td>0.002481</td>\n",
              "      <td>-0.004440</td>\n",
              "      <td>0.0552</td>\n",
              "      <td>0.537000</td>\n",
              "      <td>2.0</td>\n",
              "      <td>0.0946</td>\n",
              "      <td>0.0</td>\n",
              "      <td>0.0438</td>\n",
              "      <td>0.3180</td>\n",
              "      <td>1949.0</td>\n",
              "      <td>32282</td>\n",
              "      <td>3</td>\n",
              "      <td>3</td>\n",
              "    </tr>\n",
              "    <tr>\n",
              "      <th>1402</th>\n",
              "      <td>0.9690</td>\n",
              "      <td>Carmen: Act IV: Dansez, dansez Georges Bizet &amp;...</td>\n",
              "      <td>0.360</td>\n",
              "      <td>0.003470</td>\n",
              "      <td>-0.001939</td>\n",
              "      <td>0.5120</td>\n",
              "      <td>0.036700</td>\n",
              "      <td>7.0</td>\n",
              "      <td>0.3100</td>\n",
              "      <td>0.0</td>\n",
              "      <td>0.0619</td>\n",
              "      <td>0.6870</td>\n",
              "      <td>1951.0</td>\n",
              "      <td>29332</td>\n",
              "      <td>3</td>\n",
              "      <td>3</td>\n",
              "    </tr>\n",
              "    <tr>\n",
              "      <th>...</th>\n",
              "      <td>...</td>\n",
              "      <td>...</td>\n",
              "      <td>...</td>\n",
              "      <td>...</td>\n",
              "      <td>...</td>\n",
              "      <td>...</td>\n",
              "      <td>...</td>\n",
              "      <td>...</td>\n",
              "      <td>...</td>\n",
              "      <td>...</td>\n",
              "      <td>...</td>\n",
              "      <td>...</td>\n",
              "      <td>...</td>\n",
              "      <td>...</td>\n",
              "      <td>...</td>\n",
              "      <td>...</td>\n",
              "    </tr>\n",
              "    <tr>\n",
              "      <th>660644</th>\n",
              "      <td>0.0258</td>\n",
              "      <td>Payroll (feat. Payroll Giovanni) Tee Grizzley ...</td>\n",
              "      <td>0.587</td>\n",
              "      <td>0.002601</td>\n",
              "      <td>-0.001498</td>\n",
              "      <td>0.6250</td>\n",
              "      <td>0.000008</td>\n",
              "      <td>1.0</td>\n",
              "      <td>0.1110</td>\n",
              "      <td>66.0</td>\n",
              "      <td>0.3400</td>\n",
              "      <td>0.1400</td>\n",
              "      <td>2020.0</td>\n",
              "      <td>29000</td>\n",
              "      <td>3</td>\n",
              "      <td>3</td>\n",
              "    </tr>\n",
              "    <tr>\n",
              "      <th>660648</th>\n",
              "      <td>0.1730</td>\n",
              "      <td>Prices Lil Uzi Vert</td>\n",
              "      <td>0.786</td>\n",
              "      <td>0.002528</td>\n",
              "      <td>-0.001031</td>\n",
              "      <td>0.6830</td>\n",
              "      <td>0.000000</td>\n",
              "      <td>7.0</td>\n",
              "      <td>0.7060</td>\n",
              "      <td>66.0</td>\n",
              "      <td>0.2050</td>\n",
              "      <td>0.5700</td>\n",
              "      <td>2020.0</td>\n",
              "      <td>31011</td>\n",
              "      <td>3</td>\n",
              "      <td>3</td>\n",
              "    </tr>\n",
              "    <tr>\n",
              "      <th>660657</th>\n",
              "      <td>0.0508</td>\n",
              "      <td>Posthumous Forgiveness Tame Impala</td>\n",
              "      <td>0.367</td>\n",
              "      <td>0.003089</td>\n",
              "      <td>-0.001078</td>\n",
              "      <td>0.6130</td>\n",
              "      <td>0.001710</td>\n",
              "      <td>7.0</td>\n",
              "      <td>0.2820</td>\n",
              "      <td>69.0</td>\n",
              "      <td>0.0297</td>\n",
              "      <td>0.0966</td>\n",
              "      <td>2020.0</td>\n",
              "      <td>32412</td>\n",
              "      <td>3</td>\n",
              "      <td>3</td>\n",
              "    </tr>\n",
              "    <tr>\n",
              "      <th>660665</th>\n",
              "      <td>0.9730</td>\n",
              "      <td>I Know You Care Ellie Goulding</td>\n",
              "      <td>0.415</td>\n",
              "      <td>0.002124</td>\n",
              "      <td>-0.002393</td>\n",
              "      <td>0.2620</td>\n",
              "      <td>0.000003</td>\n",
              "      <td>9.0</td>\n",
              "      <td>0.1060</td>\n",
              "      <td>2.0</td>\n",
              "      <td>0.0333</td>\n",
              "      <td>0.3110</td>\n",
              "      <td>2020.0</td>\n",
              "      <td>30939</td>\n",
              "      <td>3</td>\n",
              "      <td>3</td>\n",
              "    </tr>\n",
              "    <tr>\n",
              "      <th>660684</th>\n",
              "      <td>0.2550</td>\n",
              "      <td>Mayor Myke Towers &amp; Yandel</td>\n",
              "      <td>0.808</td>\n",
              "      <td>0.001805</td>\n",
              "      <td>-0.000780</td>\n",
              "      <td>0.7360</td>\n",
              "      <td>0.000273</td>\n",
              "      <td>9.0</td>\n",
              "      <td>0.1050</td>\n",
              "      <td>67.0</td>\n",
              "      <td>0.1140</td>\n",
              "      <td>0.8060</td>\n",
              "      <td>2020.0</td>\n",
              "      <td>33878</td>\n",
              "      <td>3</td>\n",
              "      <td>3</td>\n",
              "    </tr>\n",
              "  </tbody>\n",
              "</table>\n",
              "<p>6824 rows × 16 columns</p>\n",
              "</div>"
            ],
            "text/plain": [
              "        acousticness  ... sub_cluster\n",
              "42            0.9750  ...           3\n",
              "131           0.9900  ...           3\n",
              "828           0.9850  ...           3\n",
              "1399          0.9850  ...           3\n",
              "1402          0.9690  ...           3\n",
              "...              ...  ...         ...\n",
              "660644        0.0258  ...           3\n",
              "660648        0.1730  ...           3\n",
              "660657        0.0508  ...           3\n",
              "660665        0.9730  ...           3\n",
              "660684        0.2550  ...           3\n",
              "\n",
              "[6824 rows x 16 columns]"
            ]
          },
          "metadata": {
            "tags": []
          },
          "execution_count": 49
        }
      ]
    },
    {
      "cell_type": "code",
      "metadata": {
        "id": "snhmgtGU5bPT"
      },
      "source": [
        "X_4 = cluster_4.copy()"
      ],
      "execution_count": 50,
      "outputs": []
    },
    {
      "cell_type": "code",
      "metadata": {
        "id": "-fyVCnN55x1B"
      },
      "source": [
        "X_4.drop(['name','cluster_no'], axis = 1, inplace=True)"
      ],
      "execution_count": 51,
      "outputs": []
    },
    {
      "cell_type": "code",
      "metadata": {
        "id": "00HDiGBa51bR"
      },
      "source": [
        "sub_pred_4 = kmeans.fit_predict(X_4)"
      ],
      "execution_count": 52,
      "outputs": []
    },
    {
      "cell_type": "code",
      "metadata": {
        "colab": {
          "base_uri": "https://localhost:8080/"
        },
        "id": "_WQHj36_5496",
        "outputId": "e78c3f94-54fc-4483-d86b-4b52802e5d57"
      },
      "source": [
        "cluster_4['sub_cluster'] = sub_pred_4"
      ],
      "execution_count": 53,
      "outputs": [
        {
          "output_type": "stream",
          "text": [
            "/usr/local/lib/python3.6/dist-packages/ipykernel_launcher.py:1: SettingWithCopyWarning: \n",
            "A value is trying to be set on a copy of a slice from a DataFrame.\n",
            "Try using .loc[row_indexer,col_indexer] = value instead\n",
            "\n",
            "See the caveats in the documentation: https://pandas.pydata.org/pandas-docs/stable/user_guide/indexing.html#returning-a-view-versus-a-copy\n",
            "  \"\"\"Entry point for launching an IPython kernel.\n"
          ],
          "name": "stderr"
        }
      ]
    },
    {
      "cell_type": "code",
      "metadata": {
        "id": "nztZWKgK583d"
      },
      "source": [
        "cluster_4[cluster_4['sub_cluster'] == 3]"
      ],
      "execution_count": null,
      "outputs": []
    },
    {
      "cell_type": "code",
      "metadata": {
        "id": "TUIgTtUJG4sP"
      },
      "source": [
        "cluster_00 = cluster_0[cluster_0['sub_cluster'] == 0]\n",
        "cluster_01 = cluster_0[cluster_0['sub_cluster'] == 1]\n",
        "cluster_02 = cluster_0[cluster_0['sub_cluster'] == 2]\n",
        "cluster_03 = cluster_0[cluster_0['sub_cluster'] == 3]\n",
        "cluster_04 = cluster_0[cluster_0['sub_cluster'] == 4]\n",
        "cluster_10 = cluster_1[cluster_0['sub_cluster'] == 0]\n",
        "cluster_11 = cluster_1[cluster_0['sub_cluster'] == 1]\n",
        "cluster_12 = cluster_1[cluster_0['sub_cluster'] == 2]\n",
        "cluster_13 = cluster_1[cluster_0['sub_cluster'] == 3]\n",
        "cluster_14 = cluster_1[cluster_0['sub_cluster'] == 4]\n",
        "cluster_20 = cluster_2[cluster_0['sub_cluster'] == 0]\n",
        "cluster_21 = cluster_2[cluster_0['sub_cluster'] == 1]\n",
        "cluster_22 = cluster_2[cluster_0['sub_cluster'] == 2]\n",
        "cluster_23 = cluster_2[cluster_0['sub_cluster'] == 3]\n",
        "cluster_24 = cluster_2[cluster_0['sub_cluster'] == 4]\n",
        "cluster_30 = cluster_3[cluster_0['sub_cluster'] == 0]\n",
        "cluster_31 = cluster_3[cluster_0['sub_cluster'] == 1]\n",
        "cluster_32 = cluster_3[cluster_0['sub_cluster'] == 2]\n",
        "cluster_33 = cluster_3[cluster_0['sub_cluster'] == 3]\n",
        "cluster_34 = cluster_3[cluster_0['sub_cluster'] == 4]\n",
        "cluster_40 = cluster_4[cluster_0['sub_cluster'] == 0]\n",
        "cluster_41 = cluster_4[cluster_0['sub_cluster'] == 1]\n",
        "cluster_42 = cluster_4[cluster_0['sub_cluster'] == 2]\n",
        "cluster_43 = cluster_4[cluster_0['sub_cluster'] == 3]\n",
        "cluster_44 = cluster_4[cluster_0['sub_cluster'] == 4]"
      ],
      "execution_count": null,
      "outputs": []
    }
  ]
}