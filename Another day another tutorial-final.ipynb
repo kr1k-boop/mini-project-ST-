{
 "cells": [
  {
   "cell_type": "code",
   "execution_count": 1,
   "metadata": {},
   "outputs": [],
   "source": [
    "import pandas as pd\n",
    "import numpy as np"
   ]
  },
  {
   "cell_type": "code",
   "execution_count": 2,
   "metadata": {},
   "outputs": [],
   "source": [
    "df= pd.read_csv('finale.csv')"
   ]
  },
  {
   "cell_type": "code",
   "execution_count": 3,
   "metadata": {},
   "outputs": [
    {
     "data": {
      "text/html": [
       "<div>\n",
       "<style scoped>\n",
       "    .dataframe tbody tr th:only-of-type {\n",
       "        vertical-align: middle;\n",
       "    }\n",
       "\n",
       "    .dataframe tbody tr th {\n",
       "        vertical-align: top;\n",
       "    }\n",
       "\n",
       "    .dataframe thead th {\n",
       "        text-align: right;\n",
       "    }\n",
       "</style>\n",
       "<table border=\"1\" class=\"dataframe\">\n",
       "  <thead>\n",
       "    <tr style=\"text-align: right;\">\n",
       "      <th></th>\n",
       "      <th>Unnamed: 0</th>\n",
       "      <th>acousticness</th>\n",
       "      <th>name</th>\n",
       "      <th>danceability</th>\n",
       "      <th>tempo</th>\n",
       "      <th>loudness</th>\n",
       "      <th>energy</th>\n",
       "      <th>id</th>\n",
       "      <th>instrumentalness</th>\n",
       "      <th>key</th>\n",
       "      <th>liveness</th>\n",
       "      <th>popularity</th>\n",
       "      <th>speechiness</th>\n",
       "      <th>valence</th>\n",
       "      <th>year</th>\n",
       "      <th>userid</th>\n",
       "      <th>playcount</th>\n",
       "    </tr>\n",
       "  </thead>\n",
       "  <tbody>\n",
       "    <tr>\n",
       "      <td>0</td>\n",
       "      <td>0</td>\n",
       "      <td>0.995</td>\n",
       "      <td>Singende Bataillone 1. Teil Carl Woitschach</td>\n",
       "      <td>0.708</td>\n",
       "      <td>0.002377</td>\n",
       "      <td>-0.002373</td>\n",
       "      <td>0.195</td>\n",
       "      <td>6KbQ3uYMLKb5jDxLF7wYDD</td>\n",
       "      <td>0.563</td>\n",
       "      <td>10.0</td>\n",
       "      <td>0.151</td>\n",
       "      <td>0.0</td>\n",
       "      <td>0.0506</td>\n",
       "      <td>0.779</td>\n",
       "      <td>1928.0</td>\n",
       "      <td>109679.0</td>\n",
       "      <td>5.0</td>\n",
       "    </tr>\n",
       "  </tbody>\n",
       "</table>\n",
       "</div>"
      ],
      "text/plain": [
       "   Unnamed: 0  acousticness                                         name  \\\n",
       "0           0         0.995  Singende Bataillone 1. Teil Carl Woitschach   \n",
       "\n",
       "   danceability     tempo  loudness  energy                      id  \\\n",
       "0         0.708  0.002377 -0.002373   0.195  6KbQ3uYMLKb5jDxLF7wYDD   \n",
       "\n",
       "   instrumentalness   key  liveness  popularity  speechiness  valence    year  \\\n",
       "0             0.563  10.0     0.151         0.0       0.0506    0.779  1928.0   \n",
       "\n",
       "     userid  playcount  \n",
       "0  109679.0        5.0  "
      ]
     },
     "execution_count": 3,
     "metadata": {},
     "output_type": "execute_result"
    }
   ],
   "source": [
    "df.head(1)"
   ]
  },
  {
   "cell_type": "code",
   "execution_count": 4,
   "metadata": {},
   "outputs": [
    {
     "data": {
      "text/plain": [
       "Unnamed: 0          660720\n",
       "acousticness          4714\n",
       "name                156593\n",
       "danceability          1232\n",
       "tempo                84548\n",
       "loudness             25313\n",
       "energy                2332\n",
       "id                  169909\n",
       "instrumentalness      5401\n",
       "key                     12\n",
       "liveness              1741\n",
       "popularity             100\n",
       "speechiness           1628\n",
       "valence               1739\n",
       "year                   100\n",
       "userid               93229\n",
       "playcount              189\n",
       "dtype: int64"
      ]
     },
     "execution_count": 4,
     "metadata": {},
     "output_type": "execute_result"
    }
   ],
   "source": [
    "df.nunique()"
   ]
  },
  {
   "cell_type": "code",
   "execution_count": 5,
   "metadata": {},
   "outputs": [],
   "source": [
    "df=df.drop(['Unnamed: 0'],axis=1)"
   ]
  },
  {
   "cell_type": "code",
   "execution_count": 6,
   "metadata": {},
   "outputs": [
    {
     "data": {
      "text/plain": [
       "(1135383, 16)"
      ]
     },
     "execution_count": 6,
     "metadata": {},
     "output_type": "execute_result"
    }
   ],
   "source": [
    "df.shape"
   ]
  },
  {
   "cell_type": "code",
   "execution_count": 7,
   "metadata": {
    "scrolled": true
   },
   "outputs": [
    {
     "data": {
      "text/html": [
       "<div>\n",
       "<style scoped>\n",
       "    .dataframe tbody tr th:only-of-type {\n",
       "        vertical-align: middle;\n",
       "    }\n",
       "\n",
       "    .dataframe tbody tr th {\n",
       "        vertical-align: top;\n",
       "    }\n",
       "\n",
       "    .dataframe thead th {\n",
       "        text-align: right;\n",
       "    }\n",
       "</style>\n",
       "<table border=\"1\" class=\"dataframe\">\n",
       "  <thead>\n",
       "    <tr style=\"text-align: right;\">\n",
       "      <th></th>\n",
       "      <th>acousticness</th>\n",
       "      <th>name</th>\n",
       "      <th>danceability</th>\n",
       "      <th>tempo</th>\n",
       "      <th>loudness</th>\n",
       "      <th>energy</th>\n",
       "      <th>id</th>\n",
       "      <th>instrumentalness</th>\n",
       "      <th>key</th>\n",
       "      <th>liveness</th>\n",
       "      <th>popularity</th>\n",
       "      <th>speechiness</th>\n",
       "      <th>valence</th>\n",
       "      <th>year</th>\n",
       "      <th>userid</th>\n",
       "      <th>playcount</th>\n",
       "    </tr>\n",
       "  </thead>\n",
       "  <tbody>\n",
       "    <tr>\n",
       "      <td>0</td>\n",
       "      <td>0.995</td>\n",
       "      <td>Singende Bataillone 1. Teil Carl Woitschach</td>\n",
       "      <td>0.708</td>\n",
       "      <td>0.002377</td>\n",
       "      <td>-0.002373</td>\n",
       "      <td>0.195</td>\n",
       "      <td>6KbQ3uYMLKb5jDxLF7wYDD</td>\n",
       "      <td>0.563</td>\n",
       "      <td>10.0</td>\n",
       "      <td>0.151</td>\n",
       "      <td>0.0</td>\n",
       "      <td>0.0506</td>\n",
       "      <td>0.779</td>\n",
       "      <td>1928.0</td>\n",
       "      <td>109679.0</td>\n",
       "      <td>5.0</td>\n",
       "    </tr>\n",
       "  </tbody>\n",
       "</table>\n",
       "</div>"
      ],
      "text/plain": [
       "   acousticness                                         name  danceability  \\\n",
       "0         0.995  Singende Bataillone 1. Teil Carl Woitschach         0.708   \n",
       "\n",
       "      tempo  loudness  energy                      id  instrumentalness   key  \\\n",
       "0  0.002377 -0.002373   0.195  6KbQ3uYMLKb5jDxLF7wYDD             0.563  10.0   \n",
       "\n",
       "   liveness  popularity  speechiness  valence    year    userid  playcount  \n",
       "0     0.151         0.0       0.0506    0.779  1928.0  109679.0        5.0  "
      ]
     },
     "execution_count": 7,
     "metadata": {},
     "output_type": "execute_result"
    }
   ],
   "source": [
    "df.head(1)"
   ]
  },
  {
   "cell_type": "code",
   "execution_count": 8,
   "metadata": {},
   "outputs": [
    {
     "data": {
      "text/html": [
       "<div>\n",
       "<style scoped>\n",
       "    .dataframe tbody tr th:only-of-type {\n",
       "        vertical-align: middle;\n",
       "    }\n",
       "\n",
       "    .dataframe tbody tr th {\n",
       "        vertical-align: top;\n",
       "    }\n",
       "\n",
       "    .dataframe thead th {\n",
       "        text-align: right;\n",
       "    }\n",
       "</style>\n",
       "<table border=\"1\" class=\"dataframe\">\n",
       "  <thead>\n",
       "    <tr style=\"text-align: right;\">\n",
       "      <th></th>\n",
       "      <th>name</th>\n",
       "      <th>totalplaycount</th>\n",
       "    </tr>\n",
       "  </thead>\n",
       "  <tbody>\n",
       "    <tr>\n",
       "      <td>0</td>\n",
       "      <td>Cello Song Nick Drake</td>\n",
       "      <td>4</td>\n",
       "    </tr>\n",
       "    <tr>\n",
       "      <td>1</td>\n",
       "      <td>!Que Vida! - Mono Version Love</td>\n",
       "      <td>4</td>\n",
       "    </tr>\n",
       "    <tr>\n",
       "      <td>2</td>\n",
       "      <td>\"40\" - Live U2</td>\n",
       "      <td>4</td>\n",
       "    </tr>\n",
       "    <tr>\n",
       "      <td>3</td>\n",
       "      <td>\"40\" - Remastered 2008 U2</td>\n",
       "      <td>8</td>\n",
       "    </tr>\n",
       "    <tr>\n",
       "      <td>4</td>\n",
       "      <td>\"40\" U2</td>\n",
       "      <td>4</td>\n",
       "    </tr>\n",
       "  </tbody>\n",
       "</table>\n",
       "</div>"
      ],
      "text/plain": [
       "                             name  totalplaycount\n",
       "0           Cello Song Nick Drake               4\n",
       "1  !Que Vida! - Mono Version Love               4\n",
       "2                  \"40\" - Live U2               4\n",
       "3       \"40\" - Remastered 2008 U2               8\n",
       "4                         \"40\" U2               4"
      ]
     },
     "execution_count": 8,
     "metadata": {},
     "output_type": "execute_result"
    }
   ],
   "source": [
    "combine_playcount = df.dropna(axis=0, subset = ['name'])\n",
    "playcount = (combine_playcount.groupby(by=['name'])['playcount'].count().reset_index().rename(columns = {'playcount':'totalplaycount'})[['name','totalplaycount']])\n",
    "playcount.head()"
   ]
  },
  {
   "cell_type": "code",
   "execution_count": 9,
   "metadata": {},
   "outputs": [
    {
     "data": {
      "text/html": [
       "<div>\n",
       "<style scoped>\n",
       "    .dataframe tbody tr th:only-of-type {\n",
       "        vertical-align: middle;\n",
       "    }\n",
       "\n",
       "    .dataframe tbody tr th {\n",
       "        vertical-align: top;\n",
       "    }\n",
       "\n",
       "    .dataframe thead th {\n",
       "        text-align: right;\n",
       "    }\n",
       "</style>\n",
       "<table border=\"1\" class=\"dataframe\">\n",
       "  <thead>\n",
       "    <tr style=\"text-align: right;\">\n",
       "      <th></th>\n",
       "      <th>acousticness</th>\n",
       "      <th>name</th>\n",
       "      <th>danceability</th>\n",
       "      <th>tempo</th>\n",
       "      <th>loudness</th>\n",
       "      <th>energy</th>\n",
       "      <th>id</th>\n",
       "      <th>instrumentalness</th>\n",
       "      <th>key</th>\n",
       "      <th>liveness</th>\n",
       "      <th>popularity</th>\n",
       "      <th>speechiness</th>\n",
       "      <th>valence</th>\n",
       "      <th>year</th>\n",
       "      <th>userid</th>\n",
       "      <th>playcount</th>\n",
       "      <th>totalplaycount</th>\n",
       "    </tr>\n",
       "  </thead>\n",
       "  <tbody>\n",
       "    <tr>\n",
       "      <td>0</td>\n",
       "      <td>0.995</td>\n",
       "      <td>Singende Bataillone 1. Teil Carl Woitschach</td>\n",
       "      <td>0.708</td>\n",
       "      <td>0.002377</td>\n",
       "      <td>-0.002373</td>\n",
       "      <td>0.1950</td>\n",
       "      <td>6KbQ3uYMLKb5jDxLF7wYDD</td>\n",
       "      <td>0.563</td>\n",
       "      <td>10.0</td>\n",
       "      <td>0.1510</td>\n",
       "      <td>0.0</td>\n",
       "      <td>0.0506</td>\n",
       "      <td>0.7790</td>\n",
       "      <td>1928.0</td>\n",
       "      <td>109679.0</td>\n",
       "      <td>5.0</td>\n",
       "      <td>4</td>\n",
       "    </tr>\n",
       "    <tr>\n",
       "      <td>1</td>\n",
       "      <td>0.994</td>\n",
       "      <td>Fantasiestücke, Op. 111: Più tosto lento Rober...</td>\n",
       "      <td>0.379</td>\n",
       "      <td>0.001685</td>\n",
       "      <td>-0.005434</td>\n",
       "      <td>0.0135</td>\n",
       "      <td>6KuQTIu1KoTTkLXKrwlLPV</td>\n",
       "      <td>0.901</td>\n",
       "      <td>8.0</td>\n",
       "      <td>0.0763</td>\n",
       "      <td>0.0</td>\n",
       "      <td>0.0462</td>\n",
       "      <td>0.0767</td>\n",
       "      <td>1928.0</td>\n",
       "      <td>13441.0</td>\n",
       "      <td>7.0</td>\n",
       "      <td>8</td>\n",
       "    </tr>\n",
       "    <tr>\n",
       "      <td>2</td>\n",
       "      <td>0.994</td>\n",
       "      <td>Fantasiestücke, Op. 111: Più tosto lento Rober...</td>\n",
       "      <td>0.379</td>\n",
       "      <td>0.001685</td>\n",
       "      <td>-0.005434</td>\n",
       "      <td>0.0135</td>\n",
       "      <td>2YPbmbRIo7I1r9FAMqNjbZ</td>\n",
       "      <td>0.901</td>\n",
       "      <td>8.0</td>\n",
       "      <td>0.0763</td>\n",
       "      <td>0.0</td>\n",
       "      <td>0.0462</td>\n",
       "      <td>0.0767</td>\n",
       "      <td>1928.0</td>\n",
       "      <td>25637.0</td>\n",
       "      <td>3.0</td>\n",
       "      <td>8</td>\n",
       "    </tr>\n",
       "    <tr>\n",
       "      <td>3</td>\n",
       "      <td>0.604</td>\n",
       "      <td>Chapter 1.18 - Zamek kaniowski Seweryn Goszczy...</td>\n",
       "      <td>0.749</td>\n",
       "      <td>0.002150</td>\n",
       "      <td>-0.003805</td>\n",
       "      <td>0.2200</td>\n",
       "      <td>6L63VW0PibdM1HDSBoqnoM</td>\n",
       "      <td>0.000</td>\n",
       "      <td>5.0</td>\n",
       "      <td>0.1190</td>\n",
       "      <td>0.0</td>\n",
       "      <td>0.9290</td>\n",
       "      <td>0.8800</td>\n",
       "      <td>1928.0</td>\n",
       "      <td>63548.0</td>\n",
       "      <td>7.0</td>\n",
       "      <td>4</td>\n",
       "    </tr>\n",
       "    <tr>\n",
       "      <td>4</td>\n",
       "      <td>0.995</td>\n",
       "      <td>Bebamos Juntos - Instrumental (Remasterizado) ...</td>\n",
       "      <td>0.781</td>\n",
       "      <td>0.002167</td>\n",
       "      <td>-0.002814</td>\n",
       "      <td>0.1300</td>\n",
       "      <td>6M94FkXd15sOAOQYRnWPN8</td>\n",
       "      <td>0.887</td>\n",
       "      <td>1.0</td>\n",
       "      <td>0.1110</td>\n",
       "      <td>0.0</td>\n",
       "      <td>0.0926</td>\n",
       "      <td>0.7200</td>\n",
       "      <td>1928.0</td>\n",
       "      <td>10501.0</td>\n",
       "      <td>8.0</td>\n",
       "      <td>4</td>\n",
       "    </tr>\n",
       "  </tbody>\n",
       "</table>\n",
       "</div>"
      ],
      "text/plain": [
       "   acousticness                                               name  \\\n",
       "0         0.995        Singende Bataillone 1. Teil Carl Woitschach   \n",
       "1         0.994  Fantasiestücke, Op. 111: Più tosto lento Rober...   \n",
       "2         0.994  Fantasiestücke, Op. 111: Più tosto lento Rober...   \n",
       "3         0.604  Chapter 1.18 - Zamek kaniowski Seweryn Goszczy...   \n",
       "4         0.995  Bebamos Juntos - Instrumental (Remasterizado) ...   \n",
       "\n",
       "   danceability     tempo  loudness  energy                      id  \\\n",
       "0         0.708  0.002377 -0.002373  0.1950  6KbQ3uYMLKb5jDxLF7wYDD   \n",
       "1         0.379  0.001685 -0.005434  0.0135  6KuQTIu1KoTTkLXKrwlLPV   \n",
       "2         0.379  0.001685 -0.005434  0.0135  2YPbmbRIo7I1r9FAMqNjbZ   \n",
       "3         0.749  0.002150 -0.003805  0.2200  6L63VW0PibdM1HDSBoqnoM   \n",
       "4         0.781  0.002167 -0.002814  0.1300  6M94FkXd15sOAOQYRnWPN8   \n",
       "\n",
       "   instrumentalness   key  liveness  popularity  speechiness  valence    year  \\\n",
       "0             0.563  10.0    0.1510         0.0       0.0506   0.7790  1928.0   \n",
       "1             0.901   8.0    0.0763         0.0       0.0462   0.0767  1928.0   \n",
       "2             0.901   8.0    0.0763         0.0       0.0462   0.0767  1928.0   \n",
       "3             0.000   5.0    0.1190         0.0       0.9290   0.8800  1928.0   \n",
       "4             0.887   1.0    0.1110         0.0       0.0926   0.7200  1928.0   \n",
       "\n",
       "     userid  playcount  totalplaycount  \n",
       "0  109679.0        5.0               4  \n",
       "1   13441.0        7.0               8  \n",
       "2   25637.0        3.0               8  \n",
       "3   63548.0        7.0               4  \n",
       "4   10501.0        8.0               4  "
      ]
     },
     "execution_count": 9,
     "metadata": {},
     "output_type": "execute_result"
    }
   ],
   "source": [
    "df_withtotalplaycount=combine_playcount.merge(playcount, left_on='name',right_on='name', how='left')\n",
    "df_withtotalplaycount.head()"
   ]
  },
  {
   "cell_type": "code",
   "execution_count": 10,
   "metadata": {},
   "outputs": [
    {
     "data": {
      "text/plain": [
       "(1135383, 17)"
      ]
     },
     "execution_count": 10,
     "metadata": {},
     "output_type": "execute_result"
    }
   ],
   "source": [
    "df_withtotalplaycount.shape"
   ]
  },
  {
   "cell_type": "code",
   "execution_count": 11,
   "metadata": {},
   "outputs": [],
   "source": [
    "df_filtered = df[df['popularity'] >= 25] "
   ]
  },
  {
   "cell_type": "code",
   "execution_count": 19,
   "metadata": {},
   "outputs": [
    {
     "data": {
      "text/plain": [
       "(881853, 16)"
      ]
     },
     "execution_count": 19,
     "metadata": {},
     "output_type": "execute_result"
    }
   ],
   "source": [
    "df_filtered.shape"
   ]
  },
  {
   "cell_type": "code",
   "execution_count": 14,
   "metadata": {},
   "outputs": [],
   "source": [
    "df_forpivot = df_filtered[['userid','name','playcount']]"
   ]
  },
  {
   "cell_type": "code",
   "execution_count": 16,
   "metadata": {
    "scrolled": true
   },
   "outputs": [
    {
     "data": {
      "text/html": [
       "<div>\n",
       "<style scoped>\n",
       "    .dataframe tbody tr th:only-of-type {\n",
       "        vertical-align: middle;\n",
       "    }\n",
       "\n",
       "    .dataframe tbody tr th {\n",
       "        vertical-align: top;\n",
       "    }\n",
       "\n",
       "    .dataframe thead th {\n",
       "        text-align: right;\n",
       "    }\n",
       "</style>\n",
       "<table border=\"1\" class=\"dataframe\">\n",
       "  <thead>\n",
       "    <tr style=\"text-align: right;\">\n",
       "      <th></th>\n",
       "      <th></th>\n",
       "      <th>acousticness</th>\n",
       "      <th>danceability</th>\n",
       "      <th>energy</th>\n",
       "      <th>instrumentalness</th>\n",
       "      <th>key</th>\n",
       "      <th>liveness</th>\n",
       "      <th>loudness</th>\n",
       "      <th>playcount</th>\n",
       "      <th>popularity</th>\n",
       "      <th>speechiness</th>\n",
       "      <th>tempo</th>\n",
       "      <th>valence</th>\n",
       "      <th>year</th>\n",
       "    </tr>\n",
       "    <tr>\n",
       "      <th>name</th>\n",
       "      <th>userid</th>\n",
       "      <th></th>\n",
       "      <th></th>\n",
       "      <th></th>\n",
       "      <th></th>\n",
       "      <th></th>\n",
       "      <th></th>\n",
       "      <th></th>\n",
       "      <th></th>\n",
       "      <th></th>\n",
       "      <th></th>\n",
       "      <th></th>\n",
       "      <th></th>\n",
       "      <th></th>\n",
       "    </tr>\n",
       "  </thead>\n",
       "  <tbody>\n",
       "    <tr>\n",
       "      <td rowspan=\"4\" valign=\"top\">Cello Song Nick Drake</td>\n",
       "      <td>7209.0</td>\n",
       "      <td>0.657</td>\n",
       "      <td>0.507</td>\n",
       "      <td>0.39</td>\n",
       "      <td>0.85900</td>\n",
       "      <td>3.0</td>\n",
       "      <td>0.0613</td>\n",
       "      <td>-0.003288</td>\n",
       "      <td>7.0</td>\n",
       "      <td>51.0</td>\n",
       "      <td>0.0326</td>\n",
       "      <td>0.002384</td>\n",
       "      <td>0.520</td>\n",
       "      <td>1969.0</td>\n",
       "    </tr>\n",
       "    <tr>\n",
       "      <td>80767.0</td>\n",
       "      <td>0.657</td>\n",
       "      <td>0.507</td>\n",
       "      <td>0.39</td>\n",
       "      <td>0.85900</td>\n",
       "      <td>3.0</td>\n",
       "      <td>0.0613</td>\n",
       "      <td>-0.003288</td>\n",
       "      <td>1.0</td>\n",
       "      <td>51.0</td>\n",
       "      <td>0.0326</td>\n",
       "      <td>0.002384</td>\n",
       "      <td>0.520</td>\n",
       "      <td>1969.0</td>\n",
       "    </tr>\n",
       "    <tr>\n",
       "      <td>83830.0</td>\n",
       "      <td>0.657</td>\n",
       "      <td>0.507</td>\n",
       "      <td>0.39</td>\n",
       "      <td>0.85900</td>\n",
       "      <td>3.0</td>\n",
       "      <td>0.0613</td>\n",
       "      <td>-0.003288</td>\n",
       "      <td>3.0</td>\n",
       "      <td>51.0</td>\n",
       "      <td>0.0326</td>\n",
       "      <td>0.002384</td>\n",
       "      <td>0.520</td>\n",
       "      <td>1969.0</td>\n",
       "    </tr>\n",
       "    <tr>\n",
       "      <td>99296.0</td>\n",
       "      <td>0.657</td>\n",
       "      <td>0.507</td>\n",
       "      <td>0.39</td>\n",
       "      <td>0.85900</td>\n",
       "      <td>3.0</td>\n",
       "      <td>0.0613</td>\n",
       "      <td>-0.003288</td>\n",
       "      <td>8.0</td>\n",
       "      <td>51.0</td>\n",
       "      <td>0.0326</td>\n",
       "      <td>0.002384</td>\n",
       "      <td>0.520</td>\n",
       "      <td>1969.0</td>\n",
       "    </tr>\n",
       "    <tr>\n",
       "      <td>!Que Vida! - Mono Version Love</td>\n",
       "      <td>14689.0</td>\n",
       "      <td>0.525</td>\n",
       "      <td>0.600</td>\n",
       "      <td>0.54</td>\n",
       "      <td>0.00305</td>\n",
       "      <td>9.0</td>\n",
       "      <td>0.1000</td>\n",
       "      <td>-0.002254</td>\n",
       "      <td>1.0</td>\n",
       "      <td>26.0</td>\n",
       "      <td>0.0328</td>\n",
       "      <td>0.002526</td>\n",
       "      <td>0.547</td>\n",
       "      <td>1966.0</td>\n",
       "    </tr>\n",
       "  </tbody>\n",
       "</table>\n",
       "</div>"
      ],
      "text/plain": [
       "                                        acousticness  danceability  energy  \\\n",
       "name                           userid                                        \n",
       " Cello Song Nick Drake         7209.0          0.657         0.507    0.39   \n",
       "                               80767.0         0.657         0.507    0.39   \n",
       "                               83830.0         0.657         0.507    0.39   \n",
       "                               99296.0         0.657         0.507    0.39   \n",
       "!Que Vida! - Mono Version Love 14689.0         0.525         0.600    0.54   \n",
       "\n",
       "                                        instrumentalness  key  liveness  \\\n",
       "name                           userid                                     \n",
       " Cello Song Nick Drake         7209.0            0.85900  3.0    0.0613   \n",
       "                               80767.0           0.85900  3.0    0.0613   \n",
       "                               83830.0           0.85900  3.0    0.0613   \n",
       "                               99296.0           0.85900  3.0    0.0613   \n",
       "!Que Vida! - Mono Version Love 14689.0           0.00305  9.0    0.1000   \n",
       "\n",
       "                                        loudness  playcount  popularity  \\\n",
       "name                           userid                                     \n",
       " Cello Song Nick Drake         7209.0  -0.003288        7.0        51.0   \n",
       "                               80767.0 -0.003288        1.0        51.0   \n",
       "                               83830.0 -0.003288        3.0        51.0   \n",
       "                               99296.0 -0.003288        8.0        51.0   \n",
       "!Que Vida! - Mono Version Love 14689.0 -0.002254        1.0        26.0   \n",
       "\n",
       "                                        speechiness     tempo  valence    year  \n",
       "name                           userid                                           \n",
       " Cello Song Nick Drake         7209.0        0.0326  0.002384    0.520  1969.0  \n",
       "                               80767.0       0.0326  0.002384    0.520  1969.0  \n",
       "                               83830.0       0.0326  0.002384    0.520  1969.0  \n",
       "                               99296.0       0.0326  0.002384    0.520  1969.0  \n",
       "!Que Vida! - Mono Version Love 14689.0       0.0328  0.002526    0.547  1966.0  "
      ]
     },
     "execution_count": 16,
     "metadata": {},
     "output_type": "execute_result"
    }
   ],
   "source": [
    "#Creating a Pivot Matrix\n",
    "pivoted_df=pd.pivot_table(data = df_filtered, index=['name','userid'])\n",
    "pivoted_df.head()"
   ]
  },
  {
   "cell_type": "code",
   "execution_count": 17,
   "metadata": {},
   "outputs": [],
   "source": [
    "X=np.array(df_filtered.drop(['name','id','userid','playcount'],axis=1))\n",
    "y=np.array( df_filtered['playcount'])"
   ]
  },
  {
   "cell_type": "code",
   "execution_count": 18,
   "metadata": {},
   "outputs": [],
   "source": [
    "from sklearn.model_selection import train_test_split\n",
    "X_train, X_test, y_train, y_test = train_test_split(X, y, test_size=0.2)"
   ]
  },
  {
   "cell_type": "code",
   "execution_count": 19,
   "metadata": {},
   "outputs": [
    {
     "data": {
      "text/plain": [
       "NearestNeighbors(algorithm='brute', leaf_size=30, metric='cosine',\n",
       "                 metric_params=None, n_jobs=None, n_neighbors=11, p=2,\n",
       "                 radius=1.0)"
      ]
     },
     "execution_count": 19,
     "metadata": {},
     "output_type": "execute_result"
    }
   ],
   "source": [
    "from scipy.sparse import csr_matrix\n",
    "pivoted_matrix= csr_matrix(pivoted_df.values)\n",
    "from sklearn.neighbors import NearestNeighbors\n",
    "model_knn = NearestNeighbors(metric='cosine', algorithm='brute', n_neighbors = 11)\n",
    "model_knn.fit(X_train, y_train)"
   ]
  },
  {
   "cell_type": "markdown",
   "metadata": {},
   "source": [
    "query_index=np.random.choice(df_filtered.shape[0])\n",
    "print(query_index)\n",
    "distances, indices = model_knn.kneighbors(df_filtered.iloc[query_index,:].values.reshape(1,-1),n_neighbors= 11)"
   ]
  },
  {
   "cell_type": "markdown",
   "metadata": {},
   "source": [
    "for i in range(0,len(distances.flatten())):\n",
    "    if i==0:\n",
    "        print(\"Recommendations for {0}:\\n\".format(pivoted_df.index[query_index]))\n",
    "    else:\n",
    "        print('{0}: {1}, with distance of {2}'.format(i, pivoted_df.index[indices.flatten()[i]], distances.flatten()[i]))"
   ]
  },
  {
   "cell_type": "markdown",
   "metadata": {},
   "source": [
    "model_knn.kneighbors(X[20]+y[20], n_neighbors=11, return_distance = True)"
   ]
  },
  {
   "cell_type": "markdown",
   "metadata": {},
   "source": [
    "model_knn.predict(X_test, y_test)"
   ]
  },
  {
   "cell_type": "code",
   "execution_count": null,
   "metadata": {},
   "outputs": [],
   "source": []
  }
 ],
 "metadata": {
  "kernelspec": {
   "display_name": "Python 3",
   "language": "python",
   "name": "python3"
  },
  "language_info": {
   "codemirror_mode": {
    "name": "ipython",
    "version": 3
   },
   "file_extension": ".py",
   "mimetype": "text/x-python",
   "name": "python",
   "nbconvert_exporter": "python",
   "pygments_lexer": "ipython3",
   "version": "3.7.4"
  }
 },
 "nbformat": 4,
 "nbformat_minor": 2
}
