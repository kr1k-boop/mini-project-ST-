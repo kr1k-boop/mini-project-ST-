{
 "cells": [
  {
   "cell_type": "code",
   "execution_count": 1,
   "metadata": {},
   "outputs": [],
   "source": [
    "import pandas as pd"
   ]
  },
  {
   "cell_type": "code",
   "execution_count": 2,
   "metadata": {},
   "outputs": [],
   "source": [
    "df = pd.read_csv('finale.csv')"
   ]
  },
  {
   "cell_type": "code",
   "execution_count": 3,
   "metadata": {},
   "outputs": [],
   "source": [
    "df = df.drop(['Unnamed: 0','userid','playcount'], axis =1)\n",
    "df = df.drop_duplicates()\n",
    "df = df.drop_duplicates(subset='name', keep=\"last\")"
   ]
  },
  {
   "cell_type": "code",
   "execution_count": 4,
   "metadata": {
    "scrolled": false
   },
   "outputs": [
    {
     "data": {
      "text/html": [
       "<div>\n",
       "<style scoped>\n",
       "    .dataframe tbody tr th:only-of-type {\n",
       "        vertical-align: middle;\n",
       "    }\n",
       "\n",
       "    .dataframe tbody tr th {\n",
       "        vertical-align: top;\n",
       "    }\n",
       "\n",
       "    .dataframe thead th {\n",
       "        text-align: right;\n",
       "    }\n",
       "</style>\n",
       "<table border=\"1\" class=\"dataframe\">\n",
       "  <thead>\n",
       "    <tr style=\"text-align: right;\">\n",
       "      <th></th>\n",
       "      <th>acousticness</th>\n",
       "      <th>name</th>\n",
       "      <th>danceability</th>\n",
       "      <th>tempo</th>\n",
       "      <th>loudness</th>\n",
       "      <th>energy</th>\n",
       "      <th>id</th>\n",
       "      <th>instrumentalness</th>\n",
       "      <th>key</th>\n",
       "      <th>liveness</th>\n",
       "      <th>popularity</th>\n",
       "      <th>speechiness</th>\n",
       "      <th>valence</th>\n",
       "      <th>year</th>\n",
       "    </tr>\n",
       "  </thead>\n",
       "  <tbody>\n",
       "    <tr>\n",
       "      <td>0</td>\n",
       "      <td>0.995</td>\n",
       "      <td>Singende Bataillone 1. Teil Carl Woitschach</td>\n",
       "      <td>0.708</td>\n",
       "      <td>0.002377</td>\n",
       "      <td>-0.002373</td>\n",
       "      <td>0.195</td>\n",
       "      <td>6KbQ3uYMLKb5jDxLF7wYDD</td>\n",
       "      <td>0.563</td>\n",
       "      <td>10.0</td>\n",
       "      <td>0.151</td>\n",
       "      <td>0.0</td>\n",
       "      <td>0.0506</td>\n",
       "      <td>0.779</td>\n",
       "      <td>1928.0</td>\n",
       "    </tr>\n",
       "  </tbody>\n",
       "</table>\n",
       "</div>"
      ],
      "text/plain": [
       "   acousticness                                         name  danceability  \\\n",
       "0         0.995  Singende Bataillone 1. Teil Carl Woitschach         0.708   \n",
       "\n",
       "      tempo  loudness  energy                      id  instrumentalness   key  \\\n",
       "0  0.002377 -0.002373   0.195  6KbQ3uYMLKb5jDxLF7wYDD             0.563  10.0   \n",
       "\n",
       "   liveness  popularity  speechiness  valence    year  \n",
       "0     0.151         0.0       0.0506    0.779  1928.0  "
      ]
     },
     "execution_count": 4,
     "metadata": {},
     "output_type": "execute_result"
    }
   ],
   "source": [
    "df.head(1)"
   ]
  },
  {
   "cell_type": "code",
   "execution_count": 5,
   "metadata": {},
   "outputs": [],
   "source": [
    "df = df[[\"id\",\"name\", \"acousticness\", \"danceability\",\"energy\", \"instrumentalness\",  \"key\", \"liveness\", \"loudness\",\"speechiness\", \"tempo\", \"valence\",\"popularity\"]]"
   ]
  },
  {
   "cell_type": "code",
   "execution_count": 6,
   "metadata": {},
   "outputs": [
    {
     "data": {
      "text/plain": [
       "(156593, 13)"
      ]
     },
     "execution_count": 6,
     "metadata": {},
     "output_type": "execute_result"
    }
   ],
   "source": [
    "df.shape"
   ]
  },
  {
   "cell_type": "code",
   "execution_count": 7,
   "metadata": {},
   "outputs": [],
   "source": [
    "import numpy as np\n",
    "from sklearn.model_selection import train_test_split\n",
    "X_wnames = np.array(df['name'])\n",
    "X = np.array(df.drop(['id','popularity','name'], axis = 1))"
   ]
  },
  {
   "cell_type": "code",
   "execution_count": 8,
   "metadata": {},
   "outputs": [],
   "source": [
    "from scipy.sparse import csr_matrix, hstack\n",
    "X_final = csr_matrix(X)"
   ]
  },
  {
   "cell_type": "markdown",
   "metadata": {},
   "source": [
    "X_train, X_test, y_train, y_test = train_test_split(X_final, y, test_size=0.2)"
   ]
  },
  {
   "cell_type": "code",
   "execution_count": 9,
   "metadata": {},
   "outputs": [
    {
     "data": {
      "text/plain": [
       "NearestNeighbors(algorithm='auto', leaf_size=30, metric='minkowski',\n",
       "                 metric_params=None, n_jobs=-1, n_neighbors=11, p=2,\n",
       "                 radius=1.0)"
      ]
     },
     "execution_count": 9,
     "metadata": {},
     "output_type": "execute_result"
    }
   ],
   "source": [
    "from sklearn.neighbors import NearestNeighbors\n",
    "\n",
    "knn_params = {'n_neighbors':range(1,10)}\n",
    "knn = NearestNeighbors(n_jobs=-1, n_neighbors=11)\n",
    "knn.fit(X)"
   ]
  },
  {
   "cell_type": "code",
   "execution_count": 10,
   "metadata": {},
   "outputs": [
    {
     "name": "stdout",
     "output_type": "stream",
     "text": [
      "Recommendations for Better Days Supertramp:\n",
      "\n",
      "1: Wild as You Cody Johnson, with distance of 0.08661793109660582\n",
      "2: 74-'75 The Connells, with distance of 0.08938330238895874\n",
      "3: Last Hurrah Bebe Rexha, with distance of 0.10153648817233006\n",
      "4: Halo Beyoncé, with distance of 0.10774728482786308\n",
      "5: New Orleans Ladies LeRoux, with distance of 0.11141786108723245\n",
      "6: Ya Hey Vampire Weekend, with distance of 0.11435895176327378\n",
      "7: Ready Set Let's Go Sam Tinnesz, with distance of 0.12021610635873436\n",
      "8: Goodbye Chris Young, with distance of 0.1256003501864202\n",
      "9: Glory The Score, with distance of 0.12869265906489805\n",
      "10: Getting Good Lauren Alaina, with distance of 0.12888731767413592\n"
     ]
    }
   ],
   "source": [
    "X_df = pd.DataFrame(X)\n",
    "query_index=np.random.choice(X_wnames.shape[0])\n",
    "distances, indices = knn.kneighbors(X_df.iloc[query_index,:].values.reshape(1,-1), n_neighbors =11)\n",
    "for i in range(0,len(distances.flatten())):\n",
    "    if i==0:\n",
    "        print(\"Recommendations for {0}:\\n\".format(X_wnames[query_index]))\n",
    "    else:\n",
    "        print('{0}: {1}, with distance of {2}'.format(i, X_wnames[indices.flatten()[i]], distances.flatten()[i]))"
   ]
  },
  {
   "cell_type": "code",
   "execution_count": null,
   "metadata": {},
   "outputs": [],
   "source": []
  }
 ],
 "metadata": {
  "kernelspec": {
   "display_name": "Python 3",
   "language": "python",
   "name": "python3"
  },
  "language_info": {
   "codemirror_mode": {
    "name": "ipython",
    "version": 3
   },
   "file_extension": ".py",
   "mimetype": "text/x-python",
   "name": "python",
   "nbconvert_exporter": "python",
   "pygments_lexer": "ipython3",
   "version": "3.7.4"
  }
 },
 "nbformat": 4,
 "nbformat_minor": 2
}
