{
 "cells": [
  {
   "cell_type": "code",
   "execution_count": 57,
   "metadata": {},
   "outputs": [],
   "source": [
    "import numpy as np\n",
    "import pandas as pd\n",
    "from math import sin, cos, radians, sqrt\n",
    "df = pd.read_csv(\"PCADWGcluster.csv\")\n",
    "df = df.drop(['Unnamed: 0'],axis =1)"
   ]
  },
  {
   "cell_type": "code",
   "execution_count": 78,
   "metadata": {},
   "outputs": [],
   "source": [
    "def distance(a,b):\n",
    "    a = np.array(a)\n",
    "    b = np.array(b)\n",
    "    distance=1-(np.dot(a,b)/np.sqrt(np.dot(a,a)*np.dot(b,b))) #calculating cosine distance between the PCA features of the two songs\n",
    "    return distance\n",
    "\n",
    "def Similarity(Id1, Id2):\n",
    "    a = np.array(newdf.iloc[Id1])\n",
    "    b = np.array(newdf.iloc[Id2])\n",
    "    aA = a[6:12] #isolating the features of the songs (PCA values)\n",
    "    bB = b[6:12]\n",
    "    extra=0\n",
    "    genre=0\n",
    "    if a[1] == b[1]: #to make sure the same song is not recommended\n",
    "        return 1000\n",
    "    if a[3]==b[3]: #to make sure song by the same artist is not recommended unless no similar song is found\n",
    "        extra = extra+0.5\n",
    "    for i in a[4]:\n",
    "        if i not in b[4]:\n",
    "            genre = genre+1\n",
    "    if genre == len(a[4]): #to make sure song that does not share the same genre is not recommended\n",
    "        return 1000;\n",
    "    extra = extra+ 0.3*(genre) #penalising for genres that are not common\n",
    "    if abs(a[5]-b[5])>5:\n",
    "        extra = extra + abs(a[5]-b[5])/10 #penalising if the year gap between the songs is too large\n",
    "    Distance = distance(aA,bB)\n",
    "    return extra+Distance"
   ]
  },
  {
   "cell_type": "code",
   "execution_count": 82,
   "metadata": {
    "scrolled": true
   },
   "outputs": [
    {
     "name": "stdout",
     "output_type": "stream",
     "text": [
      "Enter Song Name: real estate adam melchor\n",
      "real estate adam melchor\n",
      "                                                   name     score\n",
      "6369                                  bloom later jesse  0.352396\n",
      "6512               sleeping on the blacktop colter wall  0.382070\n",
      "5950                   home/dirty paws gardiner sisters  0.442441\n",
      "5694  let me love you (until you learn to love yours...  0.510965\n",
      "6153                           cover me up jason isbell  0.571084\n",
      "5339                        two of us on the run lucius  0.611553\n",
      "5044                       speed trap town jason isbell  0.617033\n",
      "6636                             touch sleeping at last  0.618099\n",
      "6292                              la lune billie marten  0.619125\n",
      "6028                                my lover birdtalker  0.619201\n"
     ]
    }
   ],
   "source": [
    "#def pred(song):\n",
    "song = input(\"Enter Song Name: \")\n",
    "song = song.lower()\n",
    "q = df.index[df['name']==song]\n",
    "qind= q[0]\n",
    "print(df.iloc[qind]['name'])\n",
    "clust = df.iloc[qind]\n",
    "#isolating the rows belonging to the same cluster and sub cluster\n",
    "x = [clust['cluster_no'],clust['sub_cluster']]\n",
    "newdf = df[df['cluster_no']==x[0]]\n",
    "newdf = newdf[newdf['sub_cluster']==x[1]]\n",
    "newdf =newdf.reset_index()\n",
    "#finding query index for the song in the new isolated dataset\n",
    "q = newdf.index[newdf['name']==song]\n",
    "query_index1 = q[0]\n",
    "simdict = []\n",
    "#calculating similarity between the input song and the rest of the songs in the dataset\n",
    "for i in range(0, newdf.shape[0]):\n",
    "    simdict.append((newdf.iloc[i]['name'],abs(Similarity(query_index1,i))))\n",
    "new = pd.DataFrame.from_dict(simdict)\n",
    "new.columns = [\"name\",\"score\"]\n",
    "new=new.sort_values('score') #sorting the scores in ascending order\n",
    "res = new.head(10)\n",
    "print(res)"
   ]
  },
  {
   "cell_type": "code",
   "execution_count": null,
   "metadata": {},
   "outputs": [],
   "source": []
  },
  {
   "cell_type": "code",
   "execution_count": null,
   "metadata": {},
   "outputs": [],
   "source": []
  }
 ],
 "metadata": {
  "kernelspec": {
   "display_name": "Python 3",
   "language": "python",
   "name": "python3"
  },
  "language_info": {
   "codemirror_mode": {
    "name": "ipython",
    "version": 3
   },
   "file_extension": ".py",
   "mimetype": "text/x-python",
   "name": "python",
   "nbconvert_exporter": "python",
   "pygments_lexer": "ipython3",
   "version": "3.7.4"
  }
 },
 "nbformat": 4,
 "nbformat_minor": 2
}
