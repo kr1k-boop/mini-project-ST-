{
  "nbformat": 4,
  "nbformat_minor": 0,
  "metadata": {
    "colab": {
      "name": "cleaning.ipynb",
      "provenance": [],
      "collapsed_sections": [],
      "include_colab_link": true
    },
    "kernelspec": {
      "name": "python3",
      "display_name": "Python 3"
    }
  },
  "cells": [
    {
      "cell_type": "markdown",
      "metadata": {
        "id": "view-in-github",
        "colab_type": "text"
      },
      "source": [
        "<a href=\"https://colab.research.google.com/github/kr1k-boop/mini-project-ST-/blob/main/cleaning.ipynb\" target=\"_parent\"><img src=\"https://colab.research.google.com/assets/colab-badge.svg\" alt=\"Open In Colab\"/></a>"
      ]
    },
    {
      "cell_type": "code",
      "metadata": {
        "id": "bPmfEihObTCF"
      },
      "source": [
        "import pandas as pd\n",
        "import seaborn as sns\n",
        "import numpy as np\n",
        "import matplotlib.pyplot as plt\n",
        "\n"
      ],
      "execution_count": null,
      "outputs": []
    },
    {
      "cell_type": "code",
      "metadata": {
        "id": "d1N7GkXcbvQ3"
      },
      "source": [
        "#date of release, duration, artists, explicit, popularity"
      ],
      "execution_count": null,
      "outputs": []
    },
    {
      "cell_type": "code",
      "metadata": {
        "id": "sfwqmzKHgOm7"
      },
      "source": [
        "df = pd.read_csv('data.csv', low_memory=False)"
      ],
      "execution_count": null,
      "outputs": []
    },
    {
      "cell_type": "code",
      "metadata": {
        "id": "JqzrSU4zoCvJ",
        "outputId": "ed239bd7-3a3d-4ca4-b80c-7b4894ffdc0f",
        "colab": {
          "base_uri": "https://localhost:8080/",
          "height": 314
        }
      },
      "source": [
        "df.describe()"
      ],
      "execution_count": null,
      "outputs": [
        {
          "output_type": "execute_result",
          "data": {
            "text/html": [
              "<div>\n",
              "<style scoped>\n",
              "    .dataframe tbody tr th:only-of-type {\n",
              "        vertical-align: middle;\n",
              "    }\n",
              "\n",
              "    .dataframe tbody tr th {\n",
              "        vertical-align: top;\n",
              "    }\n",
              "\n",
              "    .dataframe thead th {\n",
              "        text-align: right;\n",
              "    }\n",
              "</style>\n",
              "<table border=\"1\" class=\"dataframe\">\n",
              "  <thead>\n",
              "    <tr style=\"text-align: right;\">\n",
              "      <th></th>\n",
              "      <th>acousticness</th>\n",
              "      <th>danceability</th>\n",
              "      <th>duration_ms</th>\n",
              "      <th>energy</th>\n",
              "      <th>explicit</th>\n",
              "      <th>instrumentalness</th>\n",
              "      <th>key</th>\n",
              "      <th>liveness</th>\n",
              "      <th>loudness</th>\n",
              "      <th>mode</th>\n",
              "      <th>popularity</th>\n",
              "      <th>speechiness</th>\n",
              "      <th>tempo</th>\n",
              "      <th>valence</th>\n",
              "      <th>year</th>\n",
              "    </tr>\n",
              "  </thead>\n",
              "  <tbody>\n",
              "    <tr>\n",
              "      <th>count</th>\n",
              "      <td>169909.000000</td>\n",
              "      <td>169909.000000</td>\n",
              "      <td>1.699090e+05</td>\n",
              "      <td>169909.000000</td>\n",
              "      <td>169909.000000</td>\n",
              "      <td>169909.000000</td>\n",
              "      <td>169909.000000</td>\n",
              "      <td>169909.000000</td>\n",
              "      <td>169909.000000</td>\n",
              "      <td>169909.000000</td>\n",
              "      <td>169909.000000</td>\n",
              "      <td>169909.000000</td>\n",
              "      <td>169909.000000</td>\n",
              "      <td>169909.000000</td>\n",
              "      <td>169909.000000</td>\n",
              "    </tr>\n",
              "    <tr>\n",
              "      <th>mean</th>\n",
              "      <td>0.493214</td>\n",
              "      <td>0.538150</td>\n",
              "      <td>2.314062e+05</td>\n",
              "      <td>0.488593</td>\n",
              "      <td>0.084863</td>\n",
              "      <td>0.161937</td>\n",
              "      <td>5.200519</td>\n",
              "      <td>0.206690</td>\n",
              "      <td>-11.370289</td>\n",
              "      <td>0.708556</td>\n",
              "      <td>31.556610</td>\n",
              "      <td>0.094058</td>\n",
              "      <td>116.948017</td>\n",
              "      <td>0.532095</td>\n",
              "      <td>1977.223231</td>\n",
              "    </tr>\n",
              "    <tr>\n",
              "      <th>std</th>\n",
              "      <td>0.376627</td>\n",
              "      <td>0.175346</td>\n",
              "      <td>1.213219e+05</td>\n",
              "      <td>0.267390</td>\n",
              "      <td>0.278679</td>\n",
              "      <td>0.309329</td>\n",
              "      <td>3.515257</td>\n",
              "      <td>0.176796</td>\n",
              "      <td>5.666765</td>\n",
              "      <td>0.454429</td>\n",
              "      <td>21.582614</td>\n",
              "      <td>0.149937</td>\n",
              "      <td>30.726937</td>\n",
              "      <td>0.262408</td>\n",
              "      <td>25.593168</td>\n",
              "    </tr>\n",
              "    <tr>\n",
              "      <th>min</th>\n",
              "      <td>0.000000</td>\n",
              "      <td>0.000000</td>\n",
              "      <td>5.108000e+03</td>\n",
              "      <td>0.000000</td>\n",
              "      <td>0.000000</td>\n",
              "      <td>0.000000</td>\n",
              "      <td>0.000000</td>\n",
              "      <td>0.000000</td>\n",
              "      <td>-60.000000</td>\n",
              "      <td>0.000000</td>\n",
              "      <td>0.000000</td>\n",
              "      <td>0.000000</td>\n",
              "      <td>0.000000</td>\n",
              "      <td>0.000000</td>\n",
              "      <td>1921.000000</td>\n",
              "    </tr>\n",
              "    <tr>\n",
              "      <th>25%</th>\n",
              "      <td>0.094500</td>\n",
              "      <td>0.417000</td>\n",
              "      <td>1.710400e+05</td>\n",
              "      <td>0.263000</td>\n",
              "      <td>0.000000</td>\n",
              "      <td>0.000000</td>\n",
              "      <td>2.000000</td>\n",
              "      <td>0.098400</td>\n",
              "      <td>-14.470000</td>\n",
              "      <td>0.000000</td>\n",
              "      <td>12.000000</td>\n",
              "      <td>0.034900</td>\n",
              "      <td>93.516000</td>\n",
              "      <td>0.322000</td>\n",
              "      <td>1957.000000</td>\n",
              "    </tr>\n",
              "    <tr>\n",
              "      <th>50%</th>\n",
              "      <td>0.492000</td>\n",
              "      <td>0.548000</td>\n",
              "      <td>2.086000e+05</td>\n",
              "      <td>0.481000</td>\n",
              "      <td>0.000000</td>\n",
              "      <td>0.000204</td>\n",
              "      <td>5.000000</td>\n",
              "      <td>0.135000</td>\n",
              "      <td>-10.474000</td>\n",
              "      <td>1.000000</td>\n",
              "      <td>33.000000</td>\n",
              "      <td>0.045000</td>\n",
              "      <td>114.778000</td>\n",
              "      <td>0.544000</td>\n",
              "      <td>1978.000000</td>\n",
              "    </tr>\n",
              "    <tr>\n",
              "      <th>75%</th>\n",
              "      <td>0.888000</td>\n",
              "      <td>0.667000</td>\n",
              "      <td>2.629600e+05</td>\n",
              "      <td>0.710000</td>\n",
              "      <td>0.000000</td>\n",
              "      <td>0.086800</td>\n",
              "      <td>8.000000</td>\n",
              "      <td>0.263000</td>\n",
              "      <td>-7.118000</td>\n",
              "      <td>1.000000</td>\n",
              "      <td>48.000000</td>\n",
              "      <td>0.075400</td>\n",
              "      <td>135.712000</td>\n",
              "      <td>0.749000</td>\n",
              "      <td>1999.000000</td>\n",
              "    </tr>\n",
              "    <tr>\n",
              "      <th>max</th>\n",
              "      <td>0.996000</td>\n",
              "      <td>0.988000</td>\n",
              "      <td>5.403500e+06</td>\n",
              "      <td>1.000000</td>\n",
              "      <td>1.000000</td>\n",
              "      <td>1.000000</td>\n",
              "      <td>11.000000</td>\n",
              "      <td>1.000000</td>\n",
              "      <td>3.855000</td>\n",
              "      <td>1.000000</td>\n",
              "      <td>100.000000</td>\n",
              "      <td>0.969000</td>\n",
              "      <td>244.091000</td>\n",
              "      <td>1.000000</td>\n",
              "      <td>2020.000000</td>\n",
              "    </tr>\n",
              "  </tbody>\n",
              "</table>\n",
              "</div>"
            ],
            "text/plain": [
              "        acousticness   danceability  ...        valence           year\n",
              "count  169909.000000  169909.000000  ...  169909.000000  169909.000000\n",
              "mean        0.493214       0.538150  ...       0.532095    1977.223231\n",
              "std         0.376627       0.175346  ...       0.262408      25.593168\n",
              "min         0.000000       0.000000  ...       0.000000    1921.000000\n",
              "25%         0.094500       0.417000  ...       0.322000    1957.000000\n",
              "50%         0.492000       0.548000  ...       0.544000    1978.000000\n",
              "75%         0.888000       0.667000  ...       0.749000    1999.000000\n",
              "max         0.996000       0.988000  ...       1.000000    2020.000000\n",
              "\n",
              "[8 rows x 15 columns]"
            ]
          },
          "metadata": {
            "tags": []
          },
          "execution_count": 15
        }
      ]
    },
    {
      "cell_type": "code",
      "metadata": {
        "id": "XG5x6BvjgYTM"
      },
      "source": [
        "df.head()"
      ],
      "execution_count": null,
      "outputs": []
    },
    {
      "cell_type": "code",
      "metadata": {
        "id": "nxZO0ipJzHZ9",
        "outputId": "3d51b597-e395-471e-abd6-2c1a1b73c396",
        "colab": {
          "base_uri": "https://localhost:8080/",
          "height": 52
        }
      },
      "source": [
        "x_array = np.array([df['tempo'],df['loudness']])\n",
        "print(x_array)"
      ],
      "execution_count": null,
      "outputs": [
        {
          "output_type": "stream",
          "text": [
            "[[118.469  83.972 107.177 ... 123.7   129.916  80.588]\n",
            " [-12.428 -28.454 -19.924 ...  -9.332  -2.557  -7.387]]\n"
          ],
          "name": "stdout"
        }
      ]
    },
    {
      "cell_type": "code",
      "metadata": {
        "id": "2Qnujx9DrckA",
        "outputId": "5b12d93e-5cce-4674-91ff-1902d061b068",
        "colab": {
          "base_uri": "https://localhost:8080/",
          "height": 87
        }
      },
      "source": [
        "from sklearn.preprocessing import normalize\n",
        "normalized_X = normalize(x_array)\n",
        "print(normalized_X)"
      ],
      "execution_count": null,
      "outputs": [
        {
          "output_type": "stream",
          "text": [
            "[[ 0.00237689  0.00168476  0.00215033 ...  0.00248184  0.00260655\n",
            "   0.00161687]\n",
            " [-0.00237327 -0.00543362 -0.00380472 ... -0.00178205 -0.00048829\n",
            "  -0.00141063]]\n"
          ],
          "name": "stdout"
        }
      ]
    },
    {
      "cell_type": "code",
      "metadata": {
        "id": "HawGT_sSzvWe"
      },
      "source": [
        "df = df.drop(['tempo','release_date','popularity','artists','explicit','duration_ms'],axis=1)"
      ],
      "execution_count": null,
      "outputs": []
    },
    {
      "cell_type": "code",
      "metadata": {
        "id": "eabgkCkTsCtZ",
        "outputId": "b08e112a-b1bf-490b-8611-3be1f0924a1f",
        "colab": {
          "base_uri": "https://localhost:8080/",
          "height": 413
        }
      },
      "source": [
        "df.head()"
      ],
      "execution_count": null,
      "outputs": [
        {
          "output_type": "execute_result",
          "data": {
            "text/html": [
              "<div>\n",
              "<style scoped>\n",
              "    .dataframe tbody tr th:only-of-type {\n",
              "        vertical-align: middle;\n",
              "    }\n",
              "\n",
              "    .dataframe tbody tr th {\n",
              "        vertical-align: top;\n",
              "    }\n",
              "\n",
              "    .dataframe thead th {\n",
              "        text-align: right;\n",
              "    }\n",
              "</style>\n",
              "<table border=\"1\" class=\"dataframe\">\n",
              "  <thead>\n",
              "    <tr style=\"text-align: right;\">\n",
              "      <th></th>\n",
              "      <th>acousticness</th>\n",
              "      <th>danceability</th>\n",
              "      <th>energy</th>\n",
              "      <th>id</th>\n",
              "      <th>instrumentalness</th>\n",
              "      <th>key</th>\n",
              "      <th>liveness</th>\n",
              "      <th>loudness</th>\n",
              "      <th>mode</th>\n",
              "      <th>name</th>\n",
              "      <th>speechiness</th>\n",
              "      <th>valence</th>\n",
              "      <th>year</th>\n",
              "    </tr>\n",
              "  </thead>\n",
              "  <tbody>\n",
              "    <tr>\n",
              "      <th>0</th>\n",
              "      <td>0.995</td>\n",
              "      <td>0.708</td>\n",
              "      <td>0.1950</td>\n",
              "      <td>6KbQ3uYMLKb5jDxLF7wYDD</td>\n",
              "      <td>0.563</td>\n",
              "      <td>10</td>\n",
              "      <td>0.1510</td>\n",
              "      <td>-12.428</td>\n",
              "      <td>1</td>\n",
              "      <td>Singende Bataillone 1. Teil</td>\n",
              "      <td>0.0506</td>\n",
              "      <td>0.7790</td>\n",
              "      <td>1928</td>\n",
              "    </tr>\n",
              "    <tr>\n",
              "      <th>1</th>\n",
              "      <td>0.994</td>\n",
              "      <td>0.379</td>\n",
              "      <td>0.0135</td>\n",
              "      <td>6KuQTIu1KoTTkLXKrwlLPV</td>\n",
              "      <td>0.901</td>\n",
              "      <td>8</td>\n",
              "      <td>0.0763</td>\n",
              "      <td>-28.454</td>\n",
              "      <td>1</td>\n",
              "      <td>Fantasiestücke, Op. 111: Più tosto lento</td>\n",
              "      <td>0.0462</td>\n",
              "      <td>0.0767</td>\n",
              "      <td>1928</td>\n",
              "    </tr>\n",
              "    <tr>\n",
              "      <th>2</th>\n",
              "      <td>0.604</td>\n",
              "      <td>0.749</td>\n",
              "      <td>0.2200</td>\n",
              "      <td>6L63VW0PibdM1HDSBoqnoM</td>\n",
              "      <td>0.000</td>\n",
              "      <td>5</td>\n",
              "      <td>0.1190</td>\n",
              "      <td>-19.924</td>\n",
              "      <td>0</td>\n",
              "      <td>Chapter 1.18 - Zamek kaniowski</td>\n",
              "      <td>0.9290</td>\n",
              "      <td>0.8800</td>\n",
              "      <td>1928</td>\n",
              "    </tr>\n",
              "    <tr>\n",
              "      <th>3</th>\n",
              "      <td>0.995</td>\n",
              "      <td>0.781</td>\n",
              "      <td>0.1300</td>\n",
              "      <td>6M94FkXd15sOAOQYRnWPN8</td>\n",
              "      <td>0.887</td>\n",
              "      <td>1</td>\n",
              "      <td>0.1110</td>\n",
              "      <td>-14.734</td>\n",
              "      <td>0</td>\n",
              "      <td>Bebamos Juntos - Instrumental (Remasterizado)</td>\n",
              "      <td>0.0926</td>\n",
              "      <td>0.7200</td>\n",
              "      <td>1928</td>\n",
              "    </tr>\n",
              "    <tr>\n",
              "      <th>4</th>\n",
              "      <td>0.990</td>\n",
              "      <td>0.210</td>\n",
              "      <td>0.2040</td>\n",
              "      <td>6N6tiFZ9vLTSOIxkj8qKrd</td>\n",
              "      <td>0.908</td>\n",
              "      <td>11</td>\n",
              "      <td>0.0980</td>\n",
              "      <td>-16.829</td>\n",
              "      <td>1</td>\n",
              "      <td>Polonaise-Fantaisie in A-Flat Major, Op. 61</td>\n",
              "      <td>0.0424</td>\n",
              "      <td>0.0693</td>\n",
              "      <td>1928</td>\n",
              "    </tr>\n",
              "  </tbody>\n",
              "</table>\n",
              "</div>"
            ],
            "text/plain": [
              "   acousticness  danceability  energy  ... speechiness  valence  year\n",
              "0         0.995         0.708  0.1950  ...      0.0506   0.7790  1928\n",
              "1         0.994         0.379  0.0135  ...      0.0462   0.0767  1928\n",
              "2         0.604         0.749  0.2200  ...      0.9290   0.8800  1928\n",
              "3         0.995         0.781  0.1300  ...      0.0926   0.7200  1928\n",
              "4         0.990         0.210  0.2040  ...      0.0424   0.0693  1928\n",
              "\n",
              "[5 rows x 13 columns]"
            ]
          },
          "metadata": {
            "tags": []
          },
          "execution_count": 30
        }
      ]
    },
    {
      "cell_type": "code",
      "metadata": {
        "id": "YFvwvWqiz4pJ"
      },
      "source": [
        "df.insert(13,'n_tempo',normalized_X[0])"
      ],
      "execution_count": null,
      "outputs": []
    },
    {
      "cell_type": "code",
      "metadata": {
        "id": "fYz2eWcp15Qg"
      },
      "source": [
        "df.insert(14,'n_loudness',normalized_X[1])"
      ],
      "execution_count": null,
      "outputs": []
    },
    {
      "cell_type": "code",
      "metadata": {
        "id": "TPZtcOR22EYn"
      },
      "source": [
        "df = df.drop(['loudness'], axis = 1)"
      ],
      "execution_count": null,
      "outputs": []
    },
    {
      "cell_type": "code",
      "metadata": {
        "id": "IDhylAI7sWv8",
        "outputId": "918dc56b-db51-4a1a-fce4-3f79d8cc0f5c",
        "colab": {
          "base_uri": "https://localhost:8080/",
          "height": 413
        }
      },
      "source": [
        "df.head()"
      ],
      "execution_count": null,
      "outputs": [
        {
          "output_type": "execute_result",
          "data": {
            "text/html": [
              "<div>\n",
              "<style scoped>\n",
              "    .dataframe tbody tr th:only-of-type {\n",
              "        vertical-align: middle;\n",
              "    }\n",
              "\n",
              "    .dataframe tbody tr th {\n",
              "        vertical-align: top;\n",
              "    }\n",
              "\n",
              "    .dataframe thead th {\n",
              "        text-align: right;\n",
              "    }\n",
              "</style>\n",
              "<table border=\"1\" class=\"dataframe\">\n",
              "  <thead>\n",
              "    <tr style=\"text-align: right;\">\n",
              "      <th></th>\n",
              "      <th>acousticness</th>\n",
              "      <th>danceability</th>\n",
              "      <th>energy</th>\n",
              "      <th>id</th>\n",
              "      <th>instrumentalness</th>\n",
              "      <th>key</th>\n",
              "      <th>liveness</th>\n",
              "      <th>mode</th>\n",
              "      <th>name</th>\n",
              "      <th>speechiness</th>\n",
              "      <th>valence</th>\n",
              "      <th>year</th>\n",
              "      <th>n_tempo</th>\n",
              "      <th>n_loudness</th>\n",
              "    </tr>\n",
              "  </thead>\n",
              "  <tbody>\n",
              "    <tr>\n",
              "      <th>0</th>\n",
              "      <td>0.995</td>\n",
              "      <td>0.708</td>\n",
              "      <td>0.1950</td>\n",
              "      <td>6KbQ3uYMLKb5jDxLF7wYDD</td>\n",
              "      <td>0.563</td>\n",
              "      <td>10</td>\n",
              "      <td>0.1510</td>\n",
              "      <td>1</td>\n",
              "      <td>Singende Bataillone 1. Teil</td>\n",
              "      <td>0.0506</td>\n",
              "      <td>0.7790</td>\n",
              "      <td>1928</td>\n",
              "      <td>0.002377</td>\n",
              "      <td>-0.002373</td>\n",
              "    </tr>\n",
              "    <tr>\n",
              "      <th>1</th>\n",
              "      <td>0.994</td>\n",
              "      <td>0.379</td>\n",
              "      <td>0.0135</td>\n",
              "      <td>6KuQTIu1KoTTkLXKrwlLPV</td>\n",
              "      <td>0.901</td>\n",
              "      <td>8</td>\n",
              "      <td>0.0763</td>\n",
              "      <td>1</td>\n",
              "      <td>Fantasiestücke, Op. 111: Più tosto lento</td>\n",
              "      <td>0.0462</td>\n",
              "      <td>0.0767</td>\n",
              "      <td>1928</td>\n",
              "      <td>0.001685</td>\n",
              "      <td>-0.005434</td>\n",
              "    </tr>\n",
              "    <tr>\n",
              "      <th>2</th>\n",
              "      <td>0.604</td>\n",
              "      <td>0.749</td>\n",
              "      <td>0.2200</td>\n",
              "      <td>6L63VW0PibdM1HDSBoqnoM</td>\n",
              "      <td>0.000</td>\n",
              "      <td>5</td>\n",
              "      <td>0.1190</td>\n",
              "      <td>0</td>\n",
              "      <td>Chapter 1.18 - Zamek kaniowski</td>\n",
              "      <td>0.9290</td>\n",
              "      <td>0.8800</td>\n",
              "      <td>1928</td>\n",
              "      <td>0.002150</td>\n",
              "      <td>-0.003805</td>\n",
              "    </tr>\n",
              "    <tr>\n",
              "      <th>3</th>\n",
              "      <td>0.995</td>\n",
              "      <td>0.781</td>\n",
              "      <td>0.1300</td>\n",
              "      <td>6M94FkXd15sOAOQYRnWPN8</td>\n",
              "      <td>0.887</td>\n",
              "      <td>1</td>\n",
              "      <td>0.1110</td>\n",
              "      <td>0</td>\n",
              "      <td>Bebamos Juntos - Instrumental (Remasterizado)</td>\n",
              "      <td>0.0926</td>\n",
              "      <td>0.7200</td>\n",
              "      <td>1928</td>\n",
              "      <td>0.002167</td>\n",
              "      <td>-0.002814</td>\n",
              "    </tr>\n",
              "    <tr>\n",
              "      <th>4</th>\n",
              "      <td>0.990</td>\n",
              "      <td>0.210</td>\n",
              "      <td>0.2040</td>\n",
              "      <td>6N6tiFZ9vLTSOIxkj8qKrd</td>\n",
              "      <td>0.908</td>\n",
              "      <td>11</td>\n",
              "      <td>0.0980</td>\n",
              "      <td>1</td>\n",
              "      <td>Polonaise-Fantaisie in A-Flat Major, Op. 61</td>\n",
              "      <td>0.0424</td>\n",
              "      <td>0.0693</td>\n",
              "      <td>1928</td>\n",
              "      <td>0.001247</td>\n",
              "      <td>-0.003214</td>\n",
              "    </tr>\n",
              "  </tbody>\n",
              "</table>\n",
              "</div>"
            ],
            "text/plain": [
              "   acousticness  danceability  energy  ...  year   n_tempo  n_loudness\n",
              "0         0.995         0.708  0.1950  ...  1928  0.002377   -0.002373\n",
              "1         0.994         0.379  0.0135  ...  1928  0.001685   -0.005434\n",
              "2         0.604         0.749  0.2200  ...  1928  0.002150   -0.003805\n",
              "3         0.995         0.781  0.1300  ...  1928  0.002167   -0.002814\n",
              "4         0.990         0.210  0.2040  ...  1928  0.001247   -0.003214\n",
              "\n",
              "[5 rows x 14 columns]"
            ]
          },
          "metadata": {
            "tags": []
          },
          "execution_count": 34
        }
      ]
    }
  ]
}