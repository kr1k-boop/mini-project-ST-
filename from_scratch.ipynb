{
  "nbformat": 4,
  "nbformat_minor": 0,
  "metadata": {
    "colab": {
      "name": "from_scratch.ipynb",
      "provenance": [],
      "collapsed_sections": [],
      "authorship_tag": "ABX9TyPUN5HpTgDsSVDWoJ9JmbMF",
      "include_colab_link": true
    },
    "kernelspec": {
      "name": "python3",
      "display_name": "Python 3"
    }
  },
  "cells": [
    {
      "cell_type": "markdown",
      "metadata": {
        "id": "view-in-github",
        "colab_type": "text"
      },
      "source": [
        "<a href=\"https://colab.research.google.com/github/kr1k-boop/mini-project-ST-/blob/main/from_scratch.ipynb\" target=\"_parent\"><img src=\"https://colab.research.google.com/assets/colab-badge.svg\" alt=\"Open In Colab\"/></a>"
      ]
    },
    {
      "cell_type": "code",
      "metadata": {
        "id": "nO9i5rLk6phn",
        "outputId": "0030569e-8494-4600-9889-65899c9c7965",
        "colab": {
          "base_uri": "https://localhost:8080/"
        }
      },
      "source": [
        "from google.colab import drive \n",
        "drive.mount(\"/content/drive\")"
      ],
      "execution_count": 1,
      "outputs": [
        {
          "output_type": "stream",
          "text": [
            "Mounted at /content/drive\n"
          ],
          "name": "stdout"
        }
      ]
    },
    {
      "cell_type": "code",
      "metadata": {
        "id": "3GPWUBlJ8V8m"
      },
      "source": [
        "import pandas as pd \n",
        "import numpy as np"
      ],
      "execution_count": 2,
      "outputs": []
    },
    {
      "cell_type": "code",
      "metadata": {
        "id": "WPhP_P6h8Yig"
      },
      "source": [
        "df = pd.read_csv('/content/drive/My Drive/final.csv')"
      ],
      "execution_count": 3,
      "outputs": []
    },
    {
      "cell_type": "code",
      "metadata": {
        "id": "p44TrEJWGVl0"
      },
      "source": [
        "#load final dataset"
      ],
      "execution_count": null,
      "outputs": []
    },
    {
      "cell_type": "code",
      "metadata": {
        "id": "_nlCsvFUBDU8"
      },
      "source": [
        "class KMeans:\n",
        "  def __init__(self, k=2, tol=0.001, max_iter=300):\n",
        "    self.k = k\n",
        "    self.tol = tol\n",
        "    self.max_iter\n",
        "  def fit(self, data):\n",
        "    self.centroids = {}\n",
        "    for i in range(self.k):\n",
        "      self.centroids[i] = data[i]\n",
        "    for i in range(self.max_iter):\n",
        "      self.classifications = {}\n",
        "      for i in range(self.k):\n",
        "        self.classifications[i] = []\n",
        "      for featureset in data:\n",
        "        distances = [np.linalg.norm(featureset-self.centroids[centroid]) for centroid in self.centroid]\n",
        "        classification = distances.index(min(distances))\n",
        "        self.classifications[classifications].append(featureset)\n",
        "      prev_centroids = dict(self.centroids)\n",
        "      for classification in self.classifications:\n",
        "        self.centroids[classification] = np.average(self.classifications[classification], axis=0)\n",
        "      optimized = True\n",
        "      for c in self.centroids:\n",
        "        original_centroid = prev_centroids[c]\n",
        "        current_centroid = self.centroids[c]\n",
        "        if np.sum((current_centroid-original_centroid)/original_centroid*100.0) > self.tol:\n",
        "          print(np.sum((current_centroid-original_centroid)/original_centroid*100.0))\n",
        "          optimized = False\n",
        "      if optimized:\n",
        "        break\n",
        "    def predict(self, data):\n",
        "      distances = [np.linalg.norm(featureset-self.centroids[centroid]) for centroid in self.centroid]\n",
        "      classification = distances.index(min(distances))\n",
        "      return classification"
      ],
      "execution_count": null,
      "outputs": []
    },
    {
      "cell_type": "code",
      "metadata": {
        "id": "a-lpky-JGQTH"
      },
      "source": [
        "clf = K_Means()\n",
        "clf.fit(X)\n",
        "\n",
        "for centroid in clf.centroids:\n",
        "    plt.scatter(clf.centroids[centroid][0], clf.centroids[centroid][1],\n",
        "                marker=\"o\", color=\"k\", s=150, linewidths=5)\n",
        "\n",
        "for classification in clf.classifications:\n",
        "    color = colors[classification]\n",
        "    for featureset in clf.classifications[classification]:\n",
        "        plt.scatter(featureset[0], featureset[1], marker=\"x\", color=color, s=150, linewidths=5)\n",
        "        \n",
        "plt.show()"
      ],
      "execution_count": null,
      "outputs": []
    }
  ]
}