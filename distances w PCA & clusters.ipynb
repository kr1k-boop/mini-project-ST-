{
 "cells": [
  {
   "cell_type": "code",
   "execution_count": null,
   "metadata": {},
   "outputs": [],
   "source": [
    "import numpy as np\n",
    "import pandas as pd\n",
    "\n",
    "df = pd.read_csv(\"PCADWGcluster.csv\")"
   ]
  },
  {
   "cell_type": "code",
   "execution_count": null,
   "metadata": {},
   "outputs": [],
   "source": [
    "def Similarity(Id1, Id2):\n",
    "    a = newdf.iloc[Id1]\n",
    "    b = newdf.iloc[Id2]\n",
    "    extra=0\n",
    "    genre=0\n",
    "    if a['artists']==b['artists']:\n",
    "        extra = extra+1;\n",
    "    for i in a['genres']:\n",
    "        if i in b['genres']:\n",
    "            genre = genre+1\n",
    "    extra = extra+ 0.3*(len(a['genres'])-genre)\n",
    "    if abs(a['year']-b['year'])>5:\n",
    "        extra = extra + abs(a['year']-b['year'])/10\n",
    "    \n",
    "    aA = a['0']\n",
    "    aB = b['0']\n",
    "    aDistance = abs(aA - aB)\n",
    "    \n",
    "    bA = a['1']\n",
    "    bB = b['1']\n",
    "    bDistance = abs(bA - bB)\n",
    "    \n",
    "    cA = a['2']\n",
    "    cB = b['2']\n",
    "    cDistance = abs(cA - cB)\n",
    "    \n",
    "    dA = a['3']\n",
    "    dB = b['3']\n",
    "    dDistance = abs(dA - dB)\n",
    "    \n",
    "    eA = a['4']\n",
    "    eB = b['4']\n",
    "    eDistance = abs(eA - eB)\n",
    "    \n",
    "    fA = a['5']\n",
    "    fB = b['5']\n",
    "    fDistance = abs(fA - fB)\n",
    "    return extra+aDistance+bDistance+cDistance+dDistance+eDistance+fDistance\n",
    "    #return (-0.59*aDistance)+(0.22*bDistance)+(0.5*cDistance)+(-0.3*dDistance)+(0.011*eDistance)+(-0.075*fDistance)+(0.47*gDistance)+hDistance+(-0.14*iDistance)+(0.14*jDistance)+(0.0093*kDistance)\n",
    "\n"
   ]
  },
  {
   "cell_type": "code",
   "execution_count": null,
   "metadata": {},
   "outputs": [],
   "source": [
    "X = np.array(df['name'])\n",
    "for i in range(0,len(X)):\n",
    "    X[i] = X[i].lower()\n",
    "df = df.drop(['name'],axis=1)\n",
    "df.insert(loc = 0, column = 'name',value = X)\n",
    "df = df.drop(['Unnamed: 0'],axis =1)"
   ]
  },
  {
   "cell_type": "code",
   "execution_count": null,
   "metadata": {
    "scrolled": true
   },
   "outputs": [],
   "source": [
    "while(1):\n",
    "    song = input(\"Enter Song Name: \")\n",
    "    song = song.lower()\n",
    "    q = df.index[df['name']==song]\n",
    "    try:\n",
    "        qind= q[0]\n",
    "        print(df.iloc[qind]['name'])\n",
    "        clust = df.iloc[qind]\n",
    "        x = clust['cluster_no']\n",
    "        y = clust['sub_cluster']\n",
    "        newdf = df[df['cluster_no']==x]\n",
    "        newdf = newdf[newdf['sub_cluster']==y]\n",
    "        newdf =newdf.reset_index()\n",
    "        q = newdf.index[newdf['name']==song]\n",
    "        query_index1 = q[0]\n",
    "        simdict = []\n",
    "        for i in range(0, newdf.shape[0]):\n",
    "            simdict.append((newdf.iloc[i]['name'],abs(Similarity(query_index1,i))))\n",
    "        new = pd.DataFrame.from_dict(simdict)\n",
    "        new.columns = [\"name\",\"score\"]\n",
    "        new=new.sort_values('score')\n",
    "        res = new.head(11)\n",
    "        print(res)\n",
    "        ch = input('Try a different song? y/n')\n",
    "        if ch ==n:\n",
    "            break\n",
    "        if ch ==y:\n",
    "            continue\n",
    "        break\n",
    "    except:\n",
    "        print(\"Sorry this song is not recognised. Try a different song\")"
   ]
  },
  {
   "cell_type": "code",
   "execution_count": null,
   "metadata": {},
   "outputs": [],
   "source": []
  }
 ],
 "metadata": {
  "kernelspec": {
   "display_name": "Python 3",
   "language": "python",
   "name": "python3"
  },
  "language_info": {
   "codemirror_mode": {
    "name": "ipython",
    "version": 3
   },
   "file_extension": ".py",
   "mimetype": "text/x-python",
   "name": "python",
   "nbconvert_exporter": "python",
   "pygments_lexer": "ipython3",
   "version": "3.7.4"
  }
 },
 "nbformat": 4,
 "nbformat_minor": 2
}
