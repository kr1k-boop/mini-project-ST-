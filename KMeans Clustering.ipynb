{
 "cells": [
  {
   "cell_type": "code",
   "execution_count": 43,
   "metadata": {},
   "outputs": [],
   "source": [
    "import pandas as pd\n",
    "import numpy as np\n",
    "import matplotlib.pyplot as plt\n",
    "from sklearn.cluster import KMeans\n",
    "from sklearn import preprocessing"
   ]
  },
  {
   "cell_type": "code",
   "execution_count": 25,
   "metadata": {},
   "outputs": [],
   "source": [
    "#creating a KMeans object\n",
    "kmeans = KMeans(n_clusters = 100)"
   ]
  },
  {
   "cell_type": "code",
   "execution_count": 26,
   "metadata": {},
   "outputs": [],
   "source": [
    "df= pd.read_csv(\"data.csv\")"
   ]
  },
  {
   "cell_type": "code",
   "execution_count": 27,
   "metadata": {},
   "outputs": [],
   "source": [
    "x_array = np.array([df['tempo'],df['loudness']])\n",
    "normalized_X = preprocessing.normalize(x_array)"
   ]
  },
  {
   "cell_type": "code",
   "execution_count": 28,
   "metadata": {},
   "outputs": [],
   "source": [
    "df = df.drop(['tempo','release_date','explicit','duration_ms','loudness'],axis=1)"
   ]
  },
  {
   "cell_type": "code",
   "execution_count": 29,
   "metadata": {},
   "outputs": [],
   "source": [
    "df.insert(11,'tempo',normalized_X[0])\n",
    "df.insert(12,'loudness',normalized_X[1])"
   ]
  },
  {
   "cell_type": "code",
   "execution_count": 30,
   "metadata": {},
   "outputs": [],
   "source": [
    "df.insert(13,'title+artist',df['title']+ ' by '+df['artist_name'])"
   ]
  },
  {
   "cell_type": "code",
   "execution_count": 31,
   "metadata": {},
   "outputs": [],
   "source": [
    "df=df.drop('year',axis=1)"
   ]
  },
  {
   "cell_type": "code",
   "execution_count": 32,
   "metadata": {},
   "outputs": [],
   "source": [
    "X=np.array(df.drop(['title+artist','artist_name','id','title'],axis=1))"
   ]
  },
  {
   "cell_type": "code",
   "execution_count": 33,
   "metadata": {},
   "outputs": [],
   "source": [
    "y=np.array(df['id'])"
   ]
  },
  {
   "cell_type": "code",
   "execution_count": 34,
   "metadata": {},
   "outputs": [
    {
     "data": {
      "text/plain": [
       "KMeans(algorithm='auto', copy_x=True, init='k-means++', max_iter=300,\n",
       "       n_clusters=100, n_init=10, n_jobs=None, precompute_distances='auto',\n",
       "       random_state=None, tol=0.0001, verbose=0)"
      ]
     },
     "execution_count": 34,
     "metadata": {},
     "output_type": "execute_result"
    }
   ],
   "source": [
    "kmeans.fit(X)"
   ]
  },
  {
   "cell_type": "code",
   "execution_count": 37,
   "metadata": {},
   "outputs": [],
   "source": [
    "clusters= kmeans.cluster_centers_"
   ]
  },
  {
   "cell_type": "code",
   "execution_count": 38,
   "metadata": {},
   "outputs": [
    {
     "name": "stdout",
     "output_type": "stream",
     "text": [
      "[[ 0.40208177  0.53200433  0.52869828 ... -0.0022293   0.06866727\n",
      "   0.5593745 ]\n",
      " [ 0.858137    0.5021799   0.26613139 ... -0.00293438  0.18193382\n",
      "   0.52616273]\n",
      " [ 0.2712553   0.60983053  0.62069129 ... -0.00151533  0.09684623\n",
      "   0.5154029 ]\n",
      " ...\n",
      " [ 0.45637301  0.5108841   0.5140896  ... -0.0023056   0.05837339\n",
      "   0.57481519]\n",
      " [ 0.23223577  0.70627885  0.61707135 ... -0.00120878  0.12316154\n",
      "   0.52220577]\n",
      " [ 0.50706604  0.52645529  0.47415264 ... -0.00236479  0.06866847\n",
      "   0.56674602]]\n"
     ]
    }
   ],
   "source": [
    "print(clusters)"
   ]
  },
  {
   "cell_type": "code",
   "execution_count": 39,
   "metadata": {},
   "outputs": [],
   "source": [
    "y_km = kmeans.fit_predict(X)"
   ]
  },
  {
   "cell_type": "code",
   "execution_count": 40,
   "metadata": {},
   "outputs": [
    {
     "data": {
      "text/plain": [
       "array([50,  7, 72, ..., 61, 79, 12])"
      ]
     },
     "execution_count": 40,
     "metadata": {},
     "output_type": "execute_result"
    }
   ],
   "source": [
    "y_km"
   ]
  },
  {
   "cell_type": "code",
   "execution_count": 41,
   "metadata": {},
   "outputs": [
    {
     "data": {
      "text/plain": [
       "array([[ 9.95000000e-01,  7.08000000e-01,  1.95000000e-01, ...,\n",
       "        -2.37327097e-03,  5.06000000e-02,  7.79000000e-01],\n",
       "       [ 9.94000000e-01,  3.79000000e-01,  1.35000000e-02, ...,\n",
       "        -5.43362183e-03,  4.62000000e-02,  7.67000000e-02],\n",
       "       [ 6.04000000e-01,  7.49000000e-01,  2.20000000e-01, ...,\n",
       "        -3.80471925e-03,  9.29000000e-01,  8.80000000e-01],\n",
       "       ...,\n",
       "       [ 5.38000000e-01,  5.14000000e-01,  5.39000000e-01, ...,\n",
       "        -1.78205380e-03,  1.05000000e-01,  1.53000000e-01],\n",
       "       [ 7.14000000e-02,  6.46000000e-01,  7.61000000e-01, ...,\n",
       "        -4.88288853e-04,  3.85000000e-02,  4.72000000e-01],\n",
       "       [ 1.09000000e-01,  5.12000000e-01,  4.28000000e-01, ...,\n",
       "        -1.41063346e-03,  2.71000000e-02,  3.66000000e-01]])"
      ]
     },
     "execution_count": 41,
     "metadata": {},
     "output_type": "execute_result"
    }
   ],
   "source": [
    "X"
   ]
  },
  {
   "cell_type": "code",
   "execution_count": 47,
   "metadata": {},
   "outputs": [
    {
     "data": {
      "text/plain": [
       "<matplotlib.collections.PathCollection at 0x29d4c7f6388>"
      ]
     },
     "execution_count": 47,
     "metadata": {},
     "output_type": "execute_result"
    },
    {
     "data": {
      "image/png": "[encoded data removed]",
      "text/plain": [
       "<Figure size 432x288 with 1 Axes>"
      ]
     },
     "metadata": {
      "needs_background": "light"
     },
     "output_type": "display_data"
    }
   ],
   "source": [
    "plt.scatter(X[y_km==0,0], X[y_km == 0,2], s = 10, color = 'red')"
   ]
  },
  {
   "cell_type": "code",
   "execution_count": null,
   "metadata": {},
   "outputs": [],
   "source": []
  }
 ],
 "metadata": {
  "kernelspec": {
   "display_name": "Python 3",
   "language": "python",
   "name": "python3"
  },
  "language_info": {
   "codemirror_mode": {
    "name": "ipython",
    "version": 3
   },
   "file_extension": ".py",
   "mimetype": "text/x-python",
   "name": "python",
   "nbconvert_exporter": "python",
   "pygments_lexer": "ipython3",
   "version": "3.7.4"
  }
 },
 "nbformat": 4,
 "nbformat_minor": 2
}
